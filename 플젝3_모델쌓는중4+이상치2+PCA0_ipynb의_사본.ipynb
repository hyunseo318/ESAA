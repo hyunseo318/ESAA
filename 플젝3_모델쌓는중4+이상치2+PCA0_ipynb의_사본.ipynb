{
  "nbformat": 4,
  "nbformat_minor": 0,
  "metadata": {
    "colab": {
      "provenance": [],
      "include_colab_link": true
    },
    "kernelspec": {
      "name": "python3",
      "display_name": "Python 3"
    },
    "language_info": {
      "name": "python"
    }
  },
  "cells": [
    {
      "cell_type": "markdown",
      "metadata": {
        "id": "view-in-github",
        "colab_type": "text"
      },
      "source": [
        "<a href=\"https://colab.research.google.com/github/hyunseo318/ESAA/blob/main/%ED%94%8C%EC%A0%9D3_%EB%AA%A8%EB%8D%B8%EC%8C%93%EB%8A%94%EC%A4%914%2B%EC%9D%B4%EC%83%81%EC%B9%982%2BPCA0_ipynb%EC%9D%98_%EC%82%AC%EB%B3%B8.ipynb\" target=\"_parent\"><img src=\"https://colab.research.google.com/assets/colab-badge.svg\" alt=\"Open In Colab\"/></a>"
      ]
    },
    {
      "cell_type": "markdown",
      "source": [
        "#**미니 프로젝트 : 영화 관객수 예측 경진대회**\n",
        "- 관련사이트 : https://dacon.io/competitions/open/235536/overview/description\n",
        "- 과제 : 회귀 모델들 중 하나 이상을 해당 데이터에 적합.\n",
        "- 조건 : 하이퍼 파라미터 튜닝 포함\n"
      ],
      "metadata": {
        "id": "eyqgPsT591pf"
      }
    },
    {
      "cell_type": "code",
      "execution_count": 1,
      "metadata": {
        "id": "SwhZaDAtMzy9"
      },
      "outputs": [],
      "source": [
        "import matplotlib.pyplot as plt\n",
        "import seaborn as sns\n",
        "import pandas as pd\n",
        "import numpy as np\n",
        "import re\n",
        "import warnings\n",
        "warnings.filterwarnings('ignore')"
      ]
    },
    {
      "cell_type": "code",
      "source": [
        "#한글 깨짐 방지\n",
        "!sudo apt-get install -y fonts-nanum\n",
        "!sudo fc-cache -fv\n",
        "!rm ~/.cache/matplotlib -rf\n",
        "plt.rc('font',family='NanumBarunGothic') "
      ],
      "metadata": {
        "id": "fr6fT_NN-dLW",
        "colab": {
          "base_uri": "https://localhost:8080/"
        },
        "outputId": "80c67bad-6d19-49c9-a57a-d288639e117f"
      },
      "execution_count": 2,
      "outputs": [
        {
          "output_type": "stream",
          "name": "stdout",
          "text": [
            "Reading package lists... Done\n",
            "Building dependency tree       \n",
            "Reading state information... Done\n",
            "The following package was automatically installed and is no longer required:\n",
            "  libnvidia-common-460\n",
            "Use 'sudo apt autoremove' to remove it.\n",
            "The following NEW packages will be installed:\n",
            "  fonts-nanum\n",
            "0 upgraded, 1 newly installed, 0 to remove and 20 not upgraded.\n",
            "Need to get 9,604 kB of archives.\n",
            "After this operation, 29.5 MB of additional disk space will be used.\n",
            "Get:1 http://archive.ubuntu.com/ubuntu bionic/universe amd64 fonts-nanum all 20170925-1 [9,604 kB]\n",
            "Fetched 9,604 kB in 2s (5,354 kB/s)\n",
            "debconf: unable to initialize frontend: Dialog\n",
            "debconf: (No usable dialog-like program is installed, so the dialog based frontend cannot be used. at /usr/share/perl5/Debconf/FrontEnd/Dialog.pm line 76, <> line 1.)\n",
            "debconf: falling back to frontend: Readline\n",
            "debconf: unable to initialize frontend: Readline\n",
            "debconf: (This frontend requires a controlling tty.)\n",
            "debconf: falling back to frontend: Teletype\n",
            "dpkg-preconfigure: unable to re-open stdin: \n",
            "Selecting previously unselected package fonts-nanum.\n",
            "(Reading database ... 124016 files and directories currently installed.)\n",
            "Preparing to unpack .../fonts-nanum_20170925-1_all.deb ...\n",
            "Unpacking fonts-nanum (20170925-1) ...\n",
            "Setting up fonts-nanum (20170925-1) ...\n",
            "Processing triggers for fontconfig (2.12.6-0ubuntu2) ...\n",
            "/usr/share/fonts: caching, new cache contents: 0 fonts, 1 dirs\n",
            "/usr/share/fonts/truetype: caching, new cache contents: 0 fonts, 3 dirs\n",
            "/usr/share/fonts/truetype/humor-sans: caching, new cache contents: 1 fonts, 0 dirs\n",
            "/usr/share/fonts/truetype/liberation: caching, new cache contents: 16 fonts, 0 dirs\n",
            "/usr/share/fonts/truetype/nanum: caching, new cache contents: 10 fonts, 0 dirs\n",
            "/usr/local/share/fonts: caching, new cache contents: 0 fonts, 0 dirs\n",
            "/root/.local/share/fonts: skipping, no such directory\n",
            "/root/.fonts: skipping, no such directory\n",
            "/var/cache/fontconfig: cleaning cache directory\n",
            "/root/.cache/fontconfig: not cleaning non-existent cache directory\n",
            "/root/.fontconfig: not cleaning non-existent cache directory\n",
            "fc-cache: succeeded\n"
          ]
        }
      ]
    },
    {
      "cell_type": "markdown",
      "source": [],
      "metadata": {
        "id": "vaaRkQuhrE9K"
      }
    },
    {
      "cell_type": "markdown",
      "source": [
        "# 01 데이터 불러오기"
      ],
      "metadata": {
        "id": "nU0Z6GXwmmGp"
      }
    },
    {
      "cell_type": "code",
      "source": [
        "from google.colab import drive\n",
        "drive.mount('/content/drive')"
      ],
      "metadata": {
        "id": "pddM9_9_B_wl",
        "colab": {
          "base_uri": "https://localhost:8080/"
        },
        "outputId": "1f0c02df-eeac-422b-a991-8eedd150e7a6"
      },
      "execution_count": 3,
      "outputs": [
        {
          "output_type": "stream",
          "name": "stdout",
          "text": [
            "Mounted at /content/drive\n"
          ]
        }
      ]
    },
    {
      "cell_type": "code",
      "source": [
        "#데이터 불러오기\n",
        "train = pd.read_csv(\"/content/drive/MyDrive/ESAA/22-2/DATA/movies_train.csv\")\n",
        "test = pd.read_csv('/content/drive/MyDrive/ESAA/22-2/DATA/movies_test.csv')\n",
        "submission = pd.read_csv('/content/drive/MyDrive/ESAA/22-2/DATA/submission.csv')"
      ],
      "metadata": {
        "id": "_AI8AEeYy7iw"
      },
      "execution_count": 6,
      "outputs": []
    },
    {
      "cell_type": "code",
      "source": [
        "train.head()"
      ],
      "metadata": {
        "id": "hpmf0a6p_OWE",
        "colab": {
          "base_uri": "https://localhost:8080/",
          "height": 392
        },
        "outputId": "e803e114-b0f9-452c-9c0b-57092f57ff37"
      },
      "execution_count": 7,
      "outputs": [
        {
          "output_type": "execute_result",
          "data": {
            "text/plain": [
              "       title   distributor genre release_time  time screening_rat director  \\\n",
              "0     개들의 전쟁      롯데엔터테인먼트    액션   2012-11-22    96      청소년 관람불가      조병옥   \n",
              "1       내부자들        (주)쇼박스   느와르   2015-11-19   130      청소년 관람불가      우민호   \n",
              "2  은밀하게 위대하게        (주)쇼박스    액션   2013-06-05   123       15세 관람가      장철수   \n",
              "3   나는 공무원이다        (주)NEW   코미디   2012-07-12   101        전체 관람가      구자홍   \n",
              "4       불량남녀  쇼박스(주)미디어플렉스   코미디   2010-11-04   108       15세 관람가      신근호   \n",
              "\n",
              "   dir_prev_bfnum  dir_prev_num  num_staff  num_actor  box_off_num  \n",
              "0             NaN             0         91          2        23398  \n",
              "1      1161602.50             2        387          3      7072501  \n",
              "2       220775.25             4        343          4      6959083  \n",
              "3        23894.00             2         20          6       217866  \n",
              "4            1.00             1        251          2       483387  "
            ],
            "text/html": [
              "\n",
              "  <div id=\"df-d2751d32-e380-4539-9698-82b8c519d932\">\n",
              "    <div class=\"colab-df-container\">\n",
              "      <div>\n",
              "<style scoped>\n",
              "    .dataframe tbody tr th:only-of-type {\n",
              "        vertical-align: middle;\n",
              "    }\n",
              "\n",
              "    .dataframe tbody tr th {\n",
              "        vertical-align: top;\n",
              "    }\n",
              "\n",
              "    .dataframe thead th {\n",
              "        text-align: right;\n",
              "    }\n",
              "</style>\n",
              "<table border=\"1\" class=\"dataframe\">\n",
              "  <thead>\n",
              "    <tr style=\"text-align: right;\">\n",
              "      <th></th>\n",
              "      <th>title</th>\n",
              "      <th>distributor</th>\n",
              "      <th>genre</th>\n",
              "      <th>release_time</th>\n",
              "      <th>time</th>\n",
              "      <th>screening_rat</th>\n",
              "      <th>director</th>\n",
              "      <th>dir_prev_bfnum</th>\n",
              "      <th>dir_prev_num</th>\n",
              "      <th>num_staff</th>\n",
              "      <th>num_actor</th>\n",
              "      <th>box_off_num</th>\n",
              "    </tr>\n",
              "  </thead>\n",
              "  <tbody>\n",
              "    <tr>\n",
              "      <th>0</th>\n",
              "      <td>개들의 전쟁</td>\n",
              "      <td>롯데엔터테인먼트</td>\n",
              "      <td>액션</td>\n",
              "      <td>2012-11-22</td>\n",
              "      <td>96</td>\n",
              "      <td>청소년 관람불가</td>\n",
              "      <td>조병옥</td>\n",
              "      <td>NaN</td>\n",
              "      <td>0</td>\n",
              "      <td>91</td>\n",
              "      <td>2</td>\n",
              "      <td>23398</td>\n",
              "    </tr>\n",
              "    <tr>\n",
              "      <th>1</th>\n",
              "      <td>내부자들</td>\n",
              "      <td>(주)쇼박스</td>\n",
              "      <td>느와르</td>\n",
              "      <td>2015-11-19</td>\n",
              "      <td>130</td>\n",
              "      <td>청소년 관람불가</td>\n",
              "      <td>우민호</td>\n",
              "      <td>1161602.50</td>\n",
              "      <td>2</td>\n",
              "      <td>387</td>\n",
              "      <td>3</td>\n",
              "      <td>7072501</td>\n",
              "    </tr>\n",
              "    <tr>\n",
              "      <th>2</th>\n",
              "      <td>은밀하게 위대하게</td>\n",
              "      <td>(주)쇼박스</td>\n",
              "      <td>액션</td>\n",
              "      <td>2013-06-05</td>\n",
              "      <td>123</td>\n",
              "      <td>15세 관람가</td>\n",
              "      <td>장철수</td>\n",
              "      <td>220775.25</td>\n",
              "      <td>4</td>\n",
              "      <td>343</td>\n",
              "      <td>4</td>\n",
              "      <td>6959083</td>\n",
              "    </tr>\n",
              "    <tr>\n",
              "      <th>3</th>\n",
              "      <td>나는 공무원이다</td>\n",
              "      <td>(주)NEW</td>\n",
              "      <td>코미디</td>\n",
              "      <td>2012-07-12</td>\n",
              "      <td>101</td>\n",
              "      <td>전체 관람가</td>\n",
              "      <td>구자홍</td>\n",
              "      <td>23894.00</td>\n",
              "      <td>2</td>\n",
              "      <td>20</td>\n",
              "      <td>6</td>\n",
              "      <td>217866</td>\n",
              "    </tr>\n",
              "    <tr>\n",
              "      <th>4</th>\n",
              "      <td>불량남녀</td>\n",
              "      <td>쇼박스(주)미디어플렉스</td>\n",
              "      <td>코미디</td>\n",
              "      <td>2010-11-04</td>\n",
              "      <td>108</td>\n",
              "      <td>15세 관람가</td>\n",
              "      <td>신근호</td>\n",
              "      <td>1.00</td>\n",
              "      <td>1</td>\n",
              "      <td>251</td>\n",
              "      <td>2</td>\n",
              "      <td>483387</td>\n",
              "    </tr>\n",
              "  </tbody>\n",
              "</table>\n",
              "</div>\n",
              "      <button class=\"colab-df-convert\" onclick=\"convertToInteractive('df-d2751d32-e380-4539-9698-82b8c519d932')\"\n",
              "              title=\"Convert this dataframe to an interactive table.\"\n",
              "              style=\"display:none;\">\n",
              "        \n",
              "  <svg xmlns=\"http://www.w3.org/2000/svg\" height=\"24px\"viewBox=\"0 0 24 24\"\n",
              "       width=\"24px\">\n",
              "    <path d=\"M0 0h24v24H0V0z\" fill=\"none\"/>\n",
              "    <path d=\"M18.56 5.44l.94 2.06.94-2.06 2.06-.94-2.06-.94-.94-2.06-.94 2.06-2.06.94zm-11 1L8.5 8.5l.94-2.06 2.06-.94-2.06-.94L8.5 2.5l-.94 2.06-2.06.94zm10 10l.94 2.06.94-2.06 2.06-.94-2.06-.94-.94-2.06-.94 2.06-2.06.94z\"/><path d=\"M17.41 7.96l-1.37-1.37c-.4-.4-.92-.59-1.43-.59-.52 0-1.04.2-1.43.59L10.3 9.45l-7.72 7.72c-.78.78-.78 2.05 0 2.83L4 21.41c.39.39.9.59 1.41.59.51 0 1.02-.2 1.41-.59l7.78-7.78 2.81-2.81c.8-.78.8-2.07 0-2.86zM5.41 20L4 18.59l7.72-7.72 1.47 1.35L5.41 20z\"/>\n",
              "  </svg>\n",
              "      </button>\n",
              "      \n",
              "  <style>\n",
              "    .colab-df-container {\n",
              "      display:flex;\n",
              "      flex-wrap:wrap;\n",
              "      gap: 12px;\n",
              "    }\n",
              "\n",
              "    .colab-df-convert {\n",
              "      background-color: #E8F0FE;\n",
              "      border: none;\n",
              "      border-radius: 50%;\n",
              "      cursor: pointer;\n",
              "      display: none;\n",
              "      fill: #1967D2;\n",
              "      height: 32px;\n",
              "      padding: 0 0 0 0;\n",
              "      width: 32px;\n",
              "    }\n",
              "\n",
              "    .colab-df-convert:hover {\n",
              "      background-color: #E2EBFA;\n",
              "      box-shadow: 0px 1px 2px rgba(60, 64, 67, 0.3), 0px 1px 3px 1px rgba(60, 64, 67, 0.15);\n",
              "      fill: #174EA6;\n",
              "    }\n",
              "\n",
              "    [theme=dark] .colab-df-convert {\n",
              "      background-color: #3B4455;\n",
              "      fill: #D2E3FC;\n",
              "    }\n",
              "\n",
              "    [theme=dark] .colab-df-convert:hover {\n",
              "      background-color: #434B5C;\n",
              "      box-shadow: 0px 1px 3px 1px rgba(0, 0, 0, 0.15);\n",
              "      filter: drop-shadow(0px 1px 2px rgba(0, 0, 0, 0.3));\n",
              "      fill: #FFFFFF;\n",
              "    }\n",
              "  </style>\n",
              "\n",
              "      <script>\n",
              "        const buttonEl =\n",
              "          document.querySelector('#df-d2751d32-e380-4539-9698-82b8c519d932 button.colab-df-convert');\n",
              "        buttonEl.style.display =\n",
              "          google.colab.kernel.accessAllowed ? 'block' : 'none';\n",
              "\n",
              "        async function convertToInteractive(key) {\n",
              "          const element = document.querySelector('#df-d2751d32-e380-4539-9698-82b8c519d932');\n",
              "          const dataTable =\n",
              "            await google.colab.kernel.invokeFunction('convertToInteractive',\n",
              "                                                     [key], {});\n",
              "          if (!dataTable) return;\n",
              "\n",
              "          const docLinkHtml = 'Like what you see? Visit the ' +\n",
              "            '<a target=\"_blank\" href=https://colab.research.google.com/notebooks/data_table.ipynb>data table notebook</a>'\n",
              "            + ' to learn more about interactive tables.';\n",
              "          element.innerHTML = '';\n",
              "          dataTable['output_type'] = 'display_data';\n",
              "          await google.colab.output.renderOutput(dataTable, element);\n",
              "          const docLink = document.createElement('div');\n",
              "          docLink.innerHTML = docLinkHtml;\n",
              "          element.appendChild(docLink);\n",
              "        }\n",
              "      </script>\n",
              "    </div>\n",
              "  </div>\n",
              "  "
            ]
          },
          "metadata": {},
          "execution_count": 7
        }
      ]
    },
    {
      "cell_type": "code",
      "source": [
        "train.info()"
      ],
      "metadata": {
        "id": "Bdswu0P5AL-n",
        "colab": {
          "base_uri": "https://localhost:8080/"
        },
        "outputId": "ce7a062a-69a2-4b50-fe88-100e16d68803"
      },
      "execution_count": 8,
      "outputs": [
        {
          "output_type": "stream",
          "name": "stdout",
          "text": [
            "<class 'pandas.core.frame.DataFrame'>\n",
            "RangeIndex: 600 entries, 0 to 599\n",
            "Data columns (total 12 columns):\n",
            " #   Column          Non-Null Count  Dtype  \n",
            "---  ------          --------------  -----  \n",
            " 0   title           600 non-null    object \n",
            " 1   distributor     600 non-null    object \n",
            " 2   genre           600 non-null    object \n",
            " 3   release_time    600 non-null    object \n",
            " 4   time            600 non-null    int64  \n",
            " 5   screening_rat   600 non-null    object \n",
            " 6   director        600 non-null    object \n",
            " 7   dir_prev_bfnum  270 non-null    float64\n",
            " 8   dir_prev_num    600 non-null    int64  \n",
            " 9   num_staff       600 non-null    int64  \n",
            " 10  num_actor       600 non-null    int64  \n",
            " 11  box_off_num     600 non-null    int64  \n",
            "dtypes: float64(1), int64(5), object(6)\n",
            "memory usage: 56.4+ KB\n"
          ]
        }
      ]
    },
    {
      "cell_type": "markdown",
      "source": [
        "# 02 EDA 및 전처리"
      ],
      "metadata": {
        "id": "FQ95BOj2mlWQ"
      }
    },
    {
      "cell_type": "code",
      "source": [
        "test.isnull().sum()"
      ],
      "metadata": {
        "id": "rzb-2JgXDLNw",
        "colab": {
          "base_uri": "https://localhost:8080/"
        },
        "outputId": "68ab299c-89a3-4ab4-fa89-ad73f9262da3"
      },
      "execution_count": 9,
      "outputs": [
        {
          "output_type": "execute_result",
          "data": {
            "text/plain": [
              "title               0\n",
              "distributor         0\n",
              "genre               0\n",
              "release_time        0\n",
              "time                0\n",
              "screening_rat       0\n",
              "director            0\n",
              "dir_prev_bfnum    136\n",
              "dir_prev_num        0\n",
              "num_staff           0\n",
              "num_actor           0\n",
              "dtype: int64"
            ]
          },
          "metadata": {},
          "execution_count": 9
        }
      ]
    },
    {
      "cell_type": "code",
      "source": [
        "train.isnull().sum()"
      ],
      "metadata": {
        "id": "djWoJkpwDPZi",
        "colab": {
          "base_uri": "https://localhost:8080/"
        },
        "outputId": "7c623d6c-9525-4da5-e1bb-3fb697d0ce42"
      },
      "execution_count": 10,
      "outputs": [
        {
          "output_type": "execute_result",
          "data": {
            "text/plain": [
              "title               0\n",
              "distributor         0\n",
              "genre               0\n",
              "release_time        0\n",
              "time                0\n",
              "screening_rat       0\n",
              "director            0\n",
              "dir_prev_bfnum    330\n",
              "dir_prev_num        0\n",
              "num_staff           0\n",
              "num_actor           0\n",
              "box_off_num         0\n",
              "dtype: int64"
            ]
          },
          "metadata": {},
          "execution_count": 10
        }
      ]
    },
    {
      "cell_type": "markdown",
      "source": [
        "## 1) 영화제목 (title)"
      ],
      "metadata": {
        "id": "i9AnIA-BAXgy"
      }
    },
    {
      "cell_type": "code",
      "source": [
        "train.drop(['title'], axis=1, inplace=True)\n",
        "test.drop(['title'], axis=1, inplace=True)"
      ],
      "metadata": {
        "id": "rC505gnH-nDv"
      },
      "execution_count": 11,
      "outputs": []
    },
    {
      "cell_type": "markdown",
      "source": [
        "## 2) 배급사 (distributor)\n"
      ],
      "metadata": {
        "id": "0lqWaZrcmsqZ"
      }
    },
    {
      "cell_type": "code",
      "source": [
        "#distributor 열에서 (주) -> 주를 삭제,()만 남음 \n",
        "train['distributor'] = train.distributor.str.replace(\"(주)\", '') \n",
        "test['distributor'] = test.distributor.str.replace(\"(주)\", '')"
      ],
      "metadata": {
        "id": "Pmi_Ascd02mc"
      },
      "execution_count": 12,
      "outputs": []
    },
    {
      "cell_type": "code",
      "source": [
        "train['distributor'] = [re.sub(r'[^0-9a-zA-Z가-힣]', '', x) for x in train.distributor]\n",
        "test['distributor'] = [re.sub(r'[^0-9a-zA-Z가-힣]', '', x) for x in test.distributor]"
      ],
      "metadata": {
        "id": "OesZ-Zt12lBY"
      },
      "execution_count": 13,
      "outputs": []
    },
    {
      "cell_type": "code",
      "source": [
        "def get_dis(x) :\n",
        "    if 'CJ' in x or 'CGV' in x :\n",
        "        return 'CJ'\n",
        "    elif '쇼박스' in x :\n",
        "        return '쇼박스'\n",
        "    elif 'SK' in x :\n",
        "        return 'SK'\n",
        "    elif '리틀빅픽' in x :\n",
        "        return '리틀빅픽처스'\n",
        "    elif '스폰지' in x :\n",
        "        return '스폰지'\n",
        "    elif '싸이더스' in x :\n",
        "        return '싸이더스'\n",
        "    elif '에이원' in x :\n",
        "        return '에이원'\n",
        "    elif '마인스' in x :\n",
        "        return '마인스'\n",
        "    elif '마운틴픽' in x :\n",
        "        return '마운틴픽처스'\n",
        "    elif '디씨드' in x :\n",
        "        return '디씨드'\n",
        "    elif '드림팩트' in x :\n",
        "        return '드림팩트'\n",
        "    elif '메가박스' in x :\n",
        "        return '메가박스'\n",
        "    elif '마운틴' in x :\n",
        "        return '마운틴'\n",
        "    else :\n",
        "        return x\n",
        "\n",
        "train['distributor'] = train.distributor.apply(get_dis)\n",
        "test['distributor'] = test.distributor.apply(get_dis)\n",
        "\n",
        "#distributor 종류 너무 많아서 get_dis 함수로 이름 통일된 것 확인\n",
        "find = train[train['distributor'].str.contains('CGV')]\n",
        "print(find)"
      ],
      "metadata": {
        "id": "EagmqULh1Dsg",
        "colab": {
          "base_uri": "https://localhost:8080/"
        },
        "outputId": "d0835279-bd18-4fba-de49-5b29f0602dc0"
      },
      "execution_count": 14,
      "outputs": [
        {
          "output_type": "stream",
          "name": "stdout",
          "text": [
            "Empty DataFrame\n",
            "Columns: [distributor, genre, release_time, time, screening_rat, director, dir_prev_bfnum, dir_prev_num, num_staff, num_actor, box_off_num]\n",
            "Index: []\n"
          ]
        }
      ]
    },
    {
      "cell_type": "code",
      "source": [
        "#배급사 별 관객수의 박스플랏 -> 이상치 존재 -> 중앙값으로 처리\n",
        "plt.rcParams['figure.figsize'] = [10,10] \n",
        "sns.boxenplot(x='distributor', y='box_off_num', data=train)"
      ],
      "metadata": {
        "id": "QPO80ZWA1HUs",
        "colab": {
          "base_uri": "https://localhost:8080/",
          "height": 672
        },
        "outputId": "c32c408c-4582-4b43-cfbc-912c39c8f64c"
      },
      "execution_count": 15,
      "outputs": [
        {
          "output_type": "execute_result",
          "data": {
            "text/plain": [
              "<matplotlib.axes._subplots.AxesSubplot at 0x7f8c89808dc0>"
            ]
          },
          "metadata": {},
          "execution_count": 15
        },
        {
          "output_type": "stream",
          "name": "stderr",
          "text": [
            "WARNING:matplotlib.font_manager:findfont: Font family ['NanumBarunGothic'] not found. Falling back to DejaVu Sans.\n"
          ]
        },
        {
          "output_type": "display_data",
          "data": {
            "text/plain": [
              "<Figure size 720x720 with 1 Axes>"
            ],
            "image/png": "[encoded data removed]"
          },
          "metadata": {
            "needs_background": "light"
          }
        }
      ]
    },
    {
      "cell_type": "code",
      "source": [
        "#배급사별 관객수 중앙값으로 처리 *로그변환 X\n",
        "df1_1=pd.DataFrame(train.groupby('distributor').box_off_num.median().sort_values(ascending=True))\n",
        "df1_1=df1_1.reset_index()\n",
        "plt.rcParams['figure.figsize'] = [25,25] \n",
        "ax = plt.subplots()\n",
        "ax = sns.barplot(x='box_off_num', y='distributor',data = df1_1)\n",
        "#skewed 확인"
      ],
      "metadata": {
        "id": "Footgu-F1JVE",
        "colab": {
          "base_uri": "https://localhost:8080/",
          "height": 861
        },
        "outputId": "b2764e08-68e5-44ca-ec69-3905930f549f"
      },
      "execution_count": 16,
      "outputs": [
        {
          "output_type": "display_data",
          "data": {
            "text/plain": [
              "<Figure size 1800x1800 with 1 Axes>"
            ],
            "image/png": "[encoded data removed]"
          },
          "metadata": {
            "needs_background": "light"
          }
        }
      ]
    },
    {
      "cell_type": "code",
      "source": [
        "df1_1 = df1_1.reset_index()\n",
        "df1_1['dist_rank']=df1_1['index']+1\n",
        "df1_1 = df1_1.drop('index', axis = 1)\n",
        "df1_1 = df1_1.drop('box_off_num', axis = 1)"
      ],
      "metadata": {
        "id": "y894ezIR1OmO"
      },
      "execution_count": 17,
      "outputs": []
    },
    {
      "cell_type": "code",
      "source": [
        "df1_1_OUTER_JOIN = pd.merge(train,df1_1, left_on='distributor', right_on='distributor', how='outer')\n",
        "train = pd.DataFrame(df1_1_OUTER_JOIN)\n",
        "train"
      ],
      "metadata": {
        "id": "aAy2mfoH1Q8J",
        "colab": {
          "base_uri": "https://localhost:8080/",
          "height": 627
        },
        "outputId": "aefa7742-594d-4d0c-dd93-88036e087d43"
      },
      "execution_count": 18,
      "outputs": [
        {
          "output_type": "execute_result",
          "data": {
            "text/plain": [
              "    distributor   genre release_time  time screening_rat director  \\\n",
              "0      롯데엔터테인먼트      액션   2012-11-22    96      청소년 관람불가      조병옥   \n",
              "1      롯데엔터테인먼트     코미디   2012-10-25   113       15세 관람가      육상효   \n",
              "2      롯데엔터테인먼트     드라마   2014-02-13   108      청소년 관람불가      권칠인   \n",
              "3      롯데엔터테인먼트  멜로/로맨스   2013-04-04    87      청소년 관람불가      민규동   \n",
              "4      롯데엔터테인먼트     느와르   2013-11-14   124      청소년 관람불가      곽경택   \n",
              "..          ...     ...          ...   ...           ...      ...   \n",
              "595         영화사     드라마   2012-12-06   100       15세 관람가      김성훈   \n",
              "596    크리에이티브컴즈     드라마   2012-09-13    61       15세 관람가      전화성   \n",
              "597      ysfilm     드라마   2010-07-01    78       12세 관람가      조연수   \n",
              "598         이달투   애니메이션   2014-08-21    90        전체 관람가      안재훈   \n",
              "599        퍼스트런    미스터리   2013-09-12    97      청소년 관람불가      최위안   \n",
              "\n",
              "     dir_prev_bfnum  dir_prev_num  num_staff  num_actor  box_off_num  \\\n",
              "0               NaN             0         91          2        23398   \n",
              "1          837969.0             2        262          4       233211   \n",
              "2           75740.0             1        288          3       781516   \n",
              "3         4598985.0             1        182          3        38809   \n",
              "4          372863.0             2        319          3      2971475   \n",
              "..              ...           ...        ...        ...          ...   \n",
              "595         86837.0             2         10          3         7173   \n",
              "596           424.0             2          6          8          188   \n",
              "597             NaN             0         17          7          172   \n",
              "598         53235.0             1        167          7        35567   \n",
              "599             NaN             0          5          3         1132   \n",
              "\n",
              "     dist_rank  \n",
              "0          134  \n",
              "1          134  \n",
              "2          134  \n",
              "3          134  \n",
              "4          134  \n",
              "..         ...  \n",
              "595         89  \n",
              "596         13  \n",
              "597         12  \n",
              "598        110  \n",
              "599         45  \n",
              "\n",
              "[600 rows x 12 columns]"
            ],
            "text/html": [
              "\n",
              "  <div id=\"df-b796319d-4725-4d40-bee0-614244625826\">\n",
              "    <div class=\"colab-df-container\">\n",
              "      <div>\n",
              "<style scoped>\n",
              "    .dataframe tbody tr th:only-of-type {\n",
              "        vertical-align: middle;\n",
              "    }\n",
              "\n",
              "    .dataframe tbody tr th {\n",
              "        vertical-align: top;\n",
              "    }\n",
              "\n",
              "    .dataframe thead th {\n",
              "        text-align: right;\n",
              "    }\n",
              "</style>\n",
              "<table border=\"1\" class=\"dataframe\">\n",
              "  <thead>\n",
              "    <tr style=\"text-align: right;\">\n",
              "      <th></th>\n",
              "      <th>distributor</th>\n",
              "      <th>genre</th>\n",
              "      <th>release_time</th>\n",
              "      <th>time</th>\n",
              "      <th>screening_rat</th>\n",
              "      <th>director</th>\n",
              "      <th>dir_prev_bfnum</th>\n",
              "      <th>dir_prev_num</th>\n",
              "      <th>num_staff</th>\n",
              "      <th>num_actor</th>\n",
              "      <th>box_off_num</th>\n",
              "      <th>dist_rank</th>\n",
              "    </tr>\n",
              "  </thead>\n",
              "  <tbody>\n",
              "    <tr>\n",
              "      <th>0</th>\n",
              "      <td>롯데엔터테인먼트</td>\n",
              "      <td>액션</td>\n",
              "      <td>2012-11-22</td>\n",
              "      <td>96</td>\n",
              "      <td>청소년 관람불가</td>\n",
              "      <td>조병옥</td>\n",
              "      <td>NaN</td>\n",
              "      <td>0</td>\n",
              "      <td>91</td>\n",
              "      <td>2</td>\n",
              "      <td>23398</td>\n",
              "      <td>134</td>\n",
              "    </tr>\n",
              "    <tr>\n",
              "      <th>1</th>\n",
              "      <td>롯데엔터테인먼트</td>\n",
              "      <td>코미디</td>\n",
              "      <td>2012-10-25</td>\n",
              "      <td>113</td>\n",
              "      <td>15세 관람가</td>\n",
              "      <td>육상효</td>\n",
              "      <td>837969.0</td>\n",
              "      <td>2</td>\n",
              "      <td>262</td>\n",
              "      <td>4</td>\n",
              "      <td>233211</td>\n",
              "      <td>134</td>\n",
              "    </tr>\n",
              "    <tr>\n",
              "      <th>2</th>\n",
              "      <td>롯데엔터테인먼트</td>\n",
              "      <td>드라마</td>\n",
              "      <td>2014-02-13</td>\n",
              "      <td>108</td>\n",
              "      <td>청소년 관람불가</td>\n",
              "      <td>권칠인</td>\n",
              "      <td>75740.0</td>\n",
              "      <td>1</td>\n",
              "      <td>288</td>\n",
              "      <td>3</td>\n",
              "      <td>781516</td>\n",
              "      <td>134</td>\n",
              "    </tr>\n",
              "    <tr>\n",
              "      <th>3</th>\n",
              "      <td>롯데엔터테인먼트</td>\n",
              "      <td>멜로/로맨스</td>\n",
              "      <td>2013-04-04</td>\n",
              "      <td>87</td>\n",
              "      <td>청소년 관람불가</td>\n",
              "      <td>민규동</td>\n",
              "      <td>4598985.0</td>\n",
              "      <td>1</td>\n",
              "      <td>182</td>\n",
              "      <td>3</td>\n",
              "      <td>38809</td>\n",
              "      <td>134</td>\n",
              "    </tr>\n",
              "    <tr>\n",
              "      <th>4</th>\n",
              "      <td>롯데엔터테인먼트</td>\n",
              "      <td>느와르</td>\n",
              "      <td>2013-11-14</td>\n",
              "      <td>124</td>\n",
              "      <td>청소년 관람불가</td>\n",
              "      <td>곽경택</td>\n",
              "      <td>372863.0</td>\n",
              "      <td>2</td>\n",
              "      <td>319</td>\n",
              "      <td>3</td>\n",
              "      <td>2971475</td>\n",
              "      <td>134</td>\n",
              "    </tr>\n",
              "    <tr>\n",
              "      <th>...</th>\n",
              "      <td>...</td>\n",
              "      <td>...</td>\n",
              "      <td>...</td>\n",
              "      <td>...</td>\n",
              "      <td>...</td>\n",
              "      <td>...</td>\n",
              "      <td>...</td>\n",
              "      <td>...</td>\n",
              "      <td>...</td>\n",
              "      <td>...</td>\n",
              "      <td>...</td>\n",
              "      <td>...</td>\n",
              "    </tr>\n",
              "    <tr>\n",
              "      <th>595</th>\n",
              "      <td>영화사</td>\n",
              "      <td>드라마</td>\n",
              "      <td>2012-12-06</td>\n",
              "      <td>100</td>\n",
              "      <td>15세 관람가</td>\n",
              "      <td>김성훈</td>\n",
              "      <td>86837.0</td>\n",
              "      <td>2</td>\n",
              "      <td>10</td>\n",
              "      <td>3</td>\n",
              "      <td>7173</td>\n",
              "      <td>89</td>\n",
              "    </tr>\n",
              "    <tr>\n",
              "      <th>596</th>\n",
              "      <td>크리에이티브컴즈</td>\n",
              "      <td>드라마</td>\n",
              "      <td>2012-09-13</td>\n",
              "      <td>61</td>\n",
              "      <td>15세 관람가</td>\n",
              "      <td>전화성</td>\n",
              "      <td>424.0</td>\n",
              "      <td>2</td>\n",
              "      <td>6</td>\n",
              "      <td>8</td>\n",
              "      <td>188</td>\n",
              "      <td>13</td>\n",
              "    </tr>\n",
              "    <tr>\n",
              "      <th>597</th>\n",
              "      <td>ysfilm</td>\n",
              "      <td>드라마</td>\n",
              "      <td>2010-07-01</td>\n",
              "      <td>78</td>\n",
              "      <td>12세 관람가</td>\n",
              "      <td>조연수</td>\n",
              "      <td>NaN</td>\n",
              "      <td>0</td>\n",
              "      <td>17</td>\n",
              "      <td>7</td>\n",
              "      <td>172</td>\n",
              "      <td>12</td>\n",
              "    </tr>\n",
              "    <tr>\n",
              "      <th>598</th>\n",
              "      <td>이달투</td>\n",
              "      <td>애니메이션</td>\n",
              "      <td>2014-08-21</td>\n",
              "      <td>90</td>\n",
              "      <td>전체 관람가</td>\n",
              "      <td>안재훈</td>\n",
              "      <td>53235.0</td>\n",
              "      <td>1</td>\n",
              "      <td>167</td>\n",
              "      <td>7</td>\n",
              "      <td>35567</td>\n",
              "      <td>110</td>\n",
              "    </tr>\n",
              "    <tr>\n",
              "      <th>599</th>\n",
              "      <td>퍼스트런</td>\n",
              "      <td>미스터리</td>\n",
              "      <td>2013-09-12</td>\n",
              "      <td>97</td>\n",
              "      <td>청소년 관람불가</td>\n",
              "      <td>최위안</td>\n",
              "      <td>NaN</td>\n",
              "      <td>0</td>\n",
              "      <td>5</td>\n",
              "      <td>3</td>\n",
              "      <td>1132</td>\n",
              "      <td>45</td>\n",
              "    </tr>\n",
              "  </tbody>\n",
              "</table>\n",
              "<p>600 rows × 12 columns</p>\n",
              "</div>\n",
              "      <button class=\"colab-df-convert\" onclick=\"convertToInteractive('df-b796319d-4725-4d40-bee0-614244625826')\"\n",
              "              title=\"Convert this dataframe to an interactive table.\"\n",
              "              style=\"display:none;\">\n",
              "        \n",
              "  <svg xmlns=\"http://www.w3.org/2000/svg\" height=\"24px\"viewBox=\"0 0 24 24\"\n",
              "       width=\"24px\">\n",
              "    <path d=\"M0 0h24v24H0V0z\" fill=\"none\"/>\n",
              "    <path d=\"M18.56 5.44l.94 2.06.94-2.06 2.06-.94-2.06-.94-.94-2.06-.94 2.06-2.06.94zm-11 1L8.5 8.5l.94-2.06 2.06-.94-2.06-.94L8.5 2.5l-.94 2.06-2.06.94zm10 10l.94 2.06.94-2.06 2.06-.94-2.06-.94-.94-2.06-.94 2.06-2.06.94z\"/><path d=\"M17.41 7.96l-1.37-1.37c-.4-.4-.92-.59-1.43-.59-.52 0-1.04.2-1.43.59L10.3 9.45l-7.72 7.72c-.78.78-.78 2.05 0 2.83L4 21.41c.39.39.9.59 1.41.59.51 0 1.02-.2 1.41-.59l7.78-7.78 2.81-2.81c.8-.78.8-2.07 0-2.86zM5.41 20L4 18.59l7.72-7.72 1.47 1.35L5.41 20z\"/>\n",
              "  </svg>\n",
              "      </button>\n",
              "      \n",
              "  <style>\n",
              "    .colab-df-container {\n",
              "      display:flex;\n",
              "      flex-wrap:wrap;\n",
              "      gap: 12px;\n",
              "    }\n",
              "\n",
              "    .colab-df-convert {\n",
              "      background-color: #E8F0FE;\n",
              "      border: none;\n",
              "      border-radius: 50%;\n",
              "      cursor: pointer;\n",
              "      display: none;\n",
              "      fill: #1967D2;\n",
              "      height: 32px;\n",
              "      padding: 0 0 0 0;\n",
              "      width: 32px;\n",
              "    }\n",
              "\n",
              "    .colab-df-convert:hover {\n",
              "      background-color: #E2EBFA;\n",
              "      box-shadow: 0px 1px 2px rgba(60, 64, 67, 0.3), 0px 1px 3px 1px rgba(60, 64, 67, 0.15);\n",
              "      fill: #174EA6;\n",
              "    }\n",
              "\n",
              "    [theme=dark] .colab-df-convert {\n",
              "      background-color: #3B4455;\n",
              "      fill: #D2E3FC;\n",
              "    }\n",
              "\n",
              "    [theme=dark] .colab-df-convert:hover {\n",
              "      background-color: #434B5C;\n",
              "      box-shadow: 0px 1px 3px 1px rgba(0, 0, 0, 0.15);\n",
              "      filter: drop-shadow(0px 1px 2px rgba(0, 0, 0, 0.3));\n",
              "      fill: #FFFFFF;\n",
              "    }\n",
              "  </style>\n",
              "\n",
              "      <script>\n",
              "        const buttonEl =\n",
              "          document.querySelector('#df-b796319d-4725-4d40-bee0-614244625826 button.colab-df-convert');\n",
              "        buttonEl.style.display =\n",
              "          google.colab.kernel.accessAllowed ? 'block' : 'none';\n",
              "\n",
              "        async function convertToInteractive(key) {\n",
              "          const element = document.querySelector('#df-b796319d-4725-4d40-bee0-614244625826');\n",
              "          const dataTable =\n",
              "            await google.colab.kernel.invokeFunction('convertToInteractive',\n",
              "                                                     [key], {});\n",
              "          if (!dataTable) return;\n",
              "\n",
              "          const docLinkHtml = 'Like what you see? Visit the ' +\n",
              "            '<a target=\"_blank\" href=https://colab.research.google.com/notebooks/data_table.ipynb>data table notebook</a>'\n",
              "            + ' to learn more about interactive tables.';\n",
              "          element.innerHTML = '';\n",
              "          dataTable['output_type'] = 'display_data';\n",
              "          await google.colab.output.renderOutput(dataTable, element);\n",
              "          const docLink = document.createElement('div');\n",
              "          docLink.innerHTML = docLinkHtml;\n",
              "          element.appendChild(docLink);\n",
              "        }\n",
              "      </script>\n",
              "    </div>\n",
              "  </div>\n",
              "  "
            ]
          },
          "metadata": {},
          "execution_count": 18
        }
      ]
    },
    {
      "cell_type": "code",
      "source": [
        "test.head(3)"
      ],
      "metadata": {
        "id": "89q2D-fc1SSd",
        "colab": {
          "base_uri": "https://localhost:8080/",
          "height": 225
        },
        "outputId": "e5e35df4-76b3-411f-b23b-769b76adfb96"
      },
      "execution_count": 19,
      "outputs": [
        {
          "output_type": "execute_result",
          "data": {
            "text/plain": [
              "  distributor   genre release_time  time screening_rat director  \\\n",
              "0      시네마서비스     느와르   2010-01-07   125      청소년 관람불가      김형준   \n",
              "1         쇼박스  멜로/로맨스   2010-01-14   113       12세 관람가      이광재   \n",
              "2          CJ     드라마   2010-01-28   115       12세 관람가      강대규   \n",
              "\n",
              "   dir_prev_bfnum  dir_prev_num  num_staff  num_actor  \n",
              "0    3.005290e+05             2        304          3  \n",
              "1    3.427002e+05             4        275          3  \n",
              "2    4.206611e+06             3        419          7  "
            ],
            "text/html": [
              "\n",
              "  <div id=\"df-fe6e4ca6-44ed-4512-a79d-9d7fcfc81716\">\n",
              "    <div class=\"colab-df-container\">\n",
              "      <div>\n",
              "<style scoped>\n",
              "    .dataframe tbody tr th:only-of-type {\n",
              "        vertical-align: middle;\n",
              "    }\n",
              "\n",
              "    .dataframe tbody tr th {\n",
              "        vertical-align: top;\n",
              "    }\n",
              "\n",
              "    .dataframe thead th {\n",
              "        text-align: right;\n",
              "    }\n",
              "</style>\n",
              "<table border=\"1\" class=\"dataframe\">\n",
              "  <thead>\n",
              "    <tr style=\"text-align: right;\">\n",
              "      <th></th>\n",
              "      <th>distributor</th>\n",
              "      <th>genre</th>\n",
              "      <th>release_time</th>\n",
              "      <th>time</th>\n",
              "      <th>screening_rat</th>\n",
              "      <th>director</th>\n",
              "      <th>dir_prev_bfnum</th>\n",
              "      <th>dir_prev_num</th>\n",
              "      <th>num_staff</th>\n",
              "      <th>num_actor</th>\n",
              "    </tr>\n",
              "  </thead>\n",
              "  <tbody>\n",
              "    <tr>\n",
              "      <th>0</th>\n",
              "      <td>시네마서비스</td>\n",
              "      <td>느와르</td>\n",
              "      <td>2010-01-07</td>\n",
              "      <td>125</td>\n",
              "      <td>청소년 관람불가</td>\n",
              "      <td>김형준</td>\n",
              "      <td>3.005290e+05</td>\n",
              "      <td>2</td>\n",
              "      <td>304</td>\n",
              "      <td>3</td>\n",
              "    </tr>\n",
              "    <tr>\n",
              "      <th>1</th>\n",
              "      <td>쇼박스</td>\n",
              "      <td>멜로/로맨스</td>\n",
              "      <td>2010-01-14</td>\n",
              "      <td>113</td>\n",
              "      <td>12세 관람가</td>\n",
              "      <td>이광재</td>\n",
              "      <td>3.427002e+05</td>\n",
              "      <td>4</td>\n",
              "      <td>275</td>\n",
              "      <td>3</td>\n",
              "    </tr>\n",
              "    <tr>\n",
              "      <th>2</th>\n",
              "      <td>CJ</td>\n",
              "      <td>드라마</td>\n",
              "      <td>2010-01-28</td>\n",
              "      <td>115</td>\n",
              "      <td>12세 관람가</td>\n",
              "      <td>강대규</td>\n",
              "      <td>4.206611e+06</td>\n",
              "      <td>3</td>\n",
              "      <td>419</td>\n",
              "      <td>7</td>\n",
              "    </tr>\n",
              "  </tbody>\n",
              "</table>\n",
              "</div>\n",
              "      <button class=\"colab-df-convert\" onclick=\"convertToInteractive('df-fe6e4ca6-44ed-4512-a79d-9d7fcfc81716')\"\n",
              "              title=\"Convert this dataframe to an interactive table.\"\n",
              "              style=\"display:none;\">\n",
              "        \n",
              "  <svg xmlns=\"http://www.w3.org/2000/svg\" height=\"24px\"viewBox=\"0 0 24 24\"\n",
              "       width=\"24px\">\n",
              "    <path d=\"M0 0h24v24H0V0z\" fill=\"none\"/>\n",
              "    <path d=\"M18.56 5.44l.94 2.06.94-2.06 2.06-.94-2.06-.94-.94-2.06-.94 2.06-2.06.94zm-11 1L8.5 8.5l.94-2.06 2.06-.94-2.06-.94L8.5 2.5l-.94 2.06-2.06.94zm10 10l.94 2.06.94-2.06 2.06-.94-2.06-.94-.94-2.06-.94 2.06-2.06.94z\"/><path d=\"M17.41 7.96l-1.37-1.37c-.4-.4-.92-.59-1.43-.59-.52 0-1.04.2-1.43.59L10.3 9.45l-7.72 7.72c-.78.78-.78 2.05 0 2.83L4 21.41c.39.39.9.59 1.41.59.51 0 1.02-.2 1.41-.59l7.78-7.78 2.81-2.81c.8-.78.8-2.07 0-2.86zM5.41 20L4 18.59l7.72-7.72 1.47 1.35L5.41 20z\"/>\n",
              "  </svg>\n",
              "      </button>\n",
              "      \n",
              "  <style>\n",
              "    .colab-df-container {\n",
              "      display:flex;\n",
              "      flex-wrap:wrap;\n",
              "      gap: 12px;\n",
              "    }\n",
              "\n",
              "    .colab-df-convert {\n",
              "      background-color: #E8F0FE;\n",
              "      border: none;\n",
              "      border-radius: 50%;\n",
              "      cursor: pointer;\n",
              "      display: none;\n",
              "      fill: #1967D2;\n",
              "      height: 32px;\n",
              "      padding: 0 0 0 0;\n",
              "      width: 32px;\n",
              "    }\n",
              "\n",
              "    .colab-df-convert:hover {\n",
              "      background-color: #E2EBFA;\n",
              "      box-shadow: 0px 1px 2px rgba(60, 64, 67, 0.3), 0px 1px 3px 1px rgba(60, 64, 67, 0.15);\n",
              "      fill: #174EA6;\n",
              "    }\n",
              "\n",
              "    [theme=dark] .colab-df-convert {\n",
              "      background-color: #3B4455;\n",
              "      fill: #D2E3FC;\n",
              "    }\n",
              "\n",
              "    [theme=dark] .colab-df-convert:hover {\n",
              "      background-color: #434B5C;\n",
              "      box-shadow: 0px 1px 3px 1px rgba(0, 0, 0, 0.15);\n",
              "      filter: drop-shadow(0px 1px 2px rgba(0, 0, 0, 0.3));\n",
              "      fill: #FFFFFF;\n",
              "    }\n",
              "  </style>\n",
              "\n",
              "      <script>\n",
              "        const buttonEl =\n",
              "          document.querySelector('#df-fe6e4ca6-44ed-4512-a79d-9d7fcfc81716 button.colab-df-convert');\n",
              "        buttonEl.style.display =\n",
              "          google.colab.kernel.accessAllowed ? 'block' : 'none';\n",
              "\n",
              "        async function convertToInteractive(key) {\n",
              "          const element = document.querySelector('#df-fe6e4ca6-44ed-4512-a79d-9d7fcfc81716');\n",
              "          const dataTable =\n",
              "            await google.colab.kernel.invokeFunction('convertToInteractive',\n",
              "                                                     [key], {});\n",
              "          if (!dataTable) return;\n",
              "\n",
              "          const docLinkHtml = 'Like what you see? Visit the ' +\n",
              "            '<a target=\"_blank\" href=https://colab.research.google.com/notebooks/data_table.ipynb>data table notebook</a>'\n",
              "            + ' to learn more about interactive tables.';\n",
              "          element.innerHTML = '';\n",
              "          dataTable['output_type'] = 'display_data';\n",
              "          await google.colab.output.renderOutput(dataTable, element);\n",
              "          const docLink = document.createElement('div');\n",
              "          docLink.innerHTML = docLinkHtml;\n",
              "          element.appendChild(docLink);\n",
              "        }\n",
              "      </script>\n",
              "    </div>\n",
              "  </div>\n",
              "  "
            ]
          },
          "metadata": {},
          "execution_count": 19
        }
      ]
    },
    {
      "cell_type": "code",
      "source": [
        "#test data에는 box_off_num이 없음 -> 그냥 train data의 dist_rank를 test data에 새로운 열 dist_rank 추가함.\n",
        "join=pd.merge(test,df1_1,left_on='distributor', right_on='distributor', how='left') #df1_1에 없는 값을 다 NaN처리함.\n",
        "test = pd.DataFrame(join)\n",
        "test"
      ],
      "metadata": {
        "id": "vVpAcD_41Utj",
        "colab": {
          "base_uri": "https://localhost:8080/",
          "height": 540
        },
        "outputId": "50b3b861-e5bc-473a-efed-a3d1a0349f8c"
      },
      "execution_count": 20,
      "outputs": [
        {
          "output_type": "execute_result",
          "data": {
            "text/plain": [
              "    distributor   genre release_time  time screening_rat director  \\\n",
              "0        시네마서비스     느와르   2010-01-07   125      청소년 관람불가      김형준   \n",
              "1           쇼박스  멜로/로맨스   2010-01-14   113       12세 관람가      이광재   \n",
              "2            CJ     드라마   2010-01-28   115       12세 관람가      강대규   \n",
              "3           쇼박스      액션   2010-02-04   116       15세 관람가       장훈   \n",
              "4            CJ      공포   2010-02-18   110       15세 관람가      권호영   \n",
              "..          ...     ...          ...   ...           ...      ...   \n",
              "238         디씨드     드라마   2015-11-19    78       15세 관람가      안슬기   \n",
              "239       인디스토리   다큐멘터리   2015-10-29    86       12세 관람가      이일하   \n",
              "240     컨텐츠온미디어     느와르   2015-10-28   107      청소년 관람불가      안용훈   \n",
              "241      마운틴픽처스     드라마   2015-10-22   102      청소년 관람불가      송동윤   \n",
              "242       케이알씨지  멜로/로맨스   2015-10-22    76      청소년 관람불가       이전   \n",
              "\n",
              "     dir_prev_bfnum  dir_prev_num  num_staff  num_actor  dist_rank  \n",
              "0      3.005290e+05             2        304          3      132.0  \n",
              "1      3.427002e+05             4        275          3      145.0  \n",
              "2      4.206611e+06             3        419          7      141.0  \n",
              "3      6.913420e+05             2        408          2      145.0  \n",
              "4      3.173800e+04             1        380          1      141.0  \n",
              "..              ...           ...        ...        ...        ...  \n",
              "238    2.590000e+03             1          4          4      112.0  \n",
              "239             NaN             0         18          2       69.0  \n",
              "240             NaN             0        224          4        NaN  \n",
              "241    5.069900e+04             1         68          7       46.0  \n",
              "242             NaN             0         10          4       29.0  \n",
              "\n",
              "[243 rows x 11 columns]"
            ],
            "text/html": [
              "\n",
              "  <div id=\"df-0bc30ca3-c918-4728-a85e-561d17c8f774\">\n",
              "    <div class=\"colab-df-container\">\n",
              "      <div>\n",
              "<style scoped>\n",
              "    .dataframe tbody tr th:only-of-type {\n",
              "        vertical-align: middle;\n",
              "    }\n",
              "\n",
              "    .dataframe tbody tr th {\n",
              "        vertical-align: top;\n",
              "    }\n",
              "\n",
              "    .dataframe thead th {\n",
              "        text-align: right;\n",
              "    }\n",
              "</style>\n",
              "<table border=\"1\" class=\"dataframe\">\n",
              "  <thead>\n",
              "    <tr style=\"text-align: right;\">\n",
              "      <th></th>\n",
              "      <th>distributor</th>\n",
              "      <th>genre</th>\n",
              "      <th>release_time</th>\n",
              "      <th>time</th>\n",
              "      <th>screening_rat</th>\n",
              "      <th>director</th>\n",
              "      <th>dir_prev_bfnum</th>\n",
              "      <th>dir_prev_num</th>\n",
              "      <th>num_staff</th>\n",
              "      <th>num_actor</th>\n",
              "      <th>dist_rank</th>\n",
              "    </tr>\n",
              "  </thead>\n",
              "  <tbody>\n",
              "    <tr>\n",
              "      <th>0</th>\n",
              "      <td>시네마서비스</td>\n",
              "      <td>느와르</td>\n",
              "      <td>2010-01-07</td>\n",
              "      <td>125</td>\n",
              "      <td>청소년 관람불가</td>\n",
              "      <td>김형준</td>\n",
              "      <td>3.005290e+05</td>\n",
              "      <td>2</td>\n",
              "      <td>304</td>\n",
              "      <td>3</td>\n",
              "      <td>132.0</td>\n",
              "    </tr>\n",
              "    <tr>\n",
              "      <th>1</th>\n",
              "      <td>쇼박스</td>\n",
              "      <td>멜로/로맨스</td>\n",
              "      <td>2010-01-14</td>\n",
              "      <td>113</td>\n",
              "      <td>12세 관람가</td>\n",
              "      <td>이광재</td>\n",
              "      <td>3.427002e+05</td>\n",
              "      <td>4</td>\n",
              "      <td>275</td>\n",
              "      <td>3</td>\n",
              "      <td>145.0</td>\n",
              "    </tr>\n",
              "    <tr>\n",
              "      <th>2</th>\n",
              "      <td>CJ</td>\n",
              "      <td>드라마</td>\n",
              "      <td>2010-01-28</td>\n",
              "      <td>115</td>\n",
              "      <td>12세 관람가</td>\n",
              "      <td>강대규</td>\n",
              "      <td>4.206611e+06</td>\n",
              "      <td>3</td>\n",
              "      <td>419</td>\n",
              "      <td>7</td>\n",
              "      <td>141.0</td>\n",
              "    </tr>\n",
              "    <tr>\n",
              "      <th>3</th>\n",
              "      <td>쇼박스</td>\n",
              "      <td>액션</td>\n",
              "      <td>2010-02-04</td>\n",
              "      <td>116</td>\n",
              "      <td>15세 관람가</td>\n",
              "      <td>장훈</td>\n",
              "      <td>6.913420e+05</td>\n",
              "      <td>2</td>\n",
              "      <td>408</td>\n",
              "      <td>2</td>\n",
              "      <td>145.0</td>\n",
              "    </tr>\n",
              "    <tr>\n",
              "      <th>4</th>\n",
              "      <td>CJ</td>\n",
              "      <td>공포</td>\n",
              "      <td>2010-02-18</td>\n",
              "      <td>110</td>\n",
              "      <td>15세 관람가</td>\n",
              "      <td>권호영</td>\n",
              "      <td>3.173800e+04</td>\n",
              "      <td>1</td>\n",
              "      <td>380</td>\n",
              "      <td>1</td>\n",
              "      <td>141.0</td>\n",
              "    </tr>\n",
              "    <tr>\n",
              "      <th>...</th>\n",
              "      <td>...</td>\n",
              "      <td>...</td>\n",
              "      <td>...</td>\n",
              "      <td>...</td>\n",
              "      <td>...</td>\n",
              "      <td>...</td>\n",
              "      <td>...</td>\n",
              "      <td>...</td>\n",
              "      <td>...</td>\n",
              "      <td>...</td>\n",
              "      <td>...</td>\n",
              "    </tr>\n",
              "    <tr>\n",
              "      <th>238</th>\n",
              "      <td>디씨드</td>\n",
              "      <td>드라마</td>\n",
              "      <td>2015-11-19</td>\n",
              "      <td>78</td>\n",
              "      <td>15세 관람가</td>\n",
              "      <td>안슬기</td>\n",
              "      <td>2.590000e+03</td>\n",
              "      <td>1</td>\n",
              "      <td>4</td>\n",
              "      <td>4</td>\n",
              "      <td>112.0</td>\n",
              "    </tr>\n",
              "    <tr>\n",
              "      <th>239</th>\n",
              "      <td>인디스토리</td>\n",
              "      <td>다큐멘터리</td>\n",
              "      <td>2015-10-29</td>\n",
              "      <td>86</td>\n",
              "      <td>12세 관람가</td>\n",
              "      <td>이일하</td>\n",
              "      <td>NaN</td>\n",
              "      <td>0</td>\n",
              "      <td>18</td>\n",
              "      <td>2</td>\n",
              "      <td>69.0</td>\n",
              "    </tr>\n",
              "    <tr>\n",
              "      <th>240</th>\n",
              "      <td>컨텐츠온미디어</td>\n",
              "      <td>느와르</td>\n",
              "      <td>2015-10-28</td>\n",
              "      <td>107</td>\n",
              "      <td>청소년 관람불가</td>\n",
              "      <td>안용훈</td>\n",
              "      <td>NaN</td>\n",
              "      <td>0</td>\n",
              "      <td>224</td>\n",
              "      <td>4</td>\n",
              "      <td>NaN</td>\n",
              "    </tr>\n",
              "    <tr>\n",
              "      <th>241</th>\n",
              "      <td>마운틴픽처스</td>\n",
              "      <td>드라마</td>\n",
              "      <td>2015-10-22</td>\n",
              "      <td>102</td>\n",
              "      <td>청소년 관람불가</td>\n",
              "      <td>송동윤</td>\n",
              "      <td>5.069900e+04</td>\n",
              "      <td>1</td>\n",
              "      <td>68</td>\n",
              "      <td>7</td>\n",
              "      <td>46.0</td>\n",
              "    </tr>\n",
              "    <tr>\n",
              "      <th>242</th>\n",
              "      <td>케이알씨지</td>\n",
              "      <td>멜로/로맨스</td>\n",
              "      <td>2015-10-22</td>\n",
              "      <td>76</td>\n",
              "      <td>청소년 관람불가</td>\n",
              "      <td>이전</td>\n",
              "      <td>NaN</td>\n",
              "      <td>0</td>\n",
              "      <td>10</td>\n",
              "      <td>4</td>\n",
              "      <td>29.0</td>\n",
              "    </tr>\n",
              "  </tbody>\n",
              "</table>\n",
              "<p>243 rows × 11 columns</p>\n",
              "</div>\n",
              "      <button class=\"colab-df-convert\" onclick=\"convertToInteractive('df-0bc30ca3-c918-4728-a85e-561d17c8f774')\"\n",
              "              title=\"Convert this dataframe to an interactive table.\"\n",
              "              style=\"display:none;\">\n",
              "        \n",
              "  <svg xmlns=\"http://www.w3.org/2000/svg\" height=\"24px\"viewBox=\"0 0 24 24\"\n",
              "       width=\"24px\">\n",
              "    <path d=\"M0 0h24v24H0V0z\" fill=\"none\"/>\n",
              "    <path d=\"M18.56 5.44l.94 2.06.94-2.06 2.06-.94-2.06-.94-.94-2.06-.94 2.06-2.06.94zm-11 1L8.5 8.5l.94-2.06 2.06-.94-2.06-.94L8.5 2.5l-.94 2.06-2.06.94zm10 10l.94 2.06.94-2.06 2.06-.94-2.06-.94-.94-2.06-.94 2.06-2.06.94z\"/><path d=\"M17.41 7.96l-1.37-1.37c-.4-.4-.92-.59-1.43-.59-.52 0-1.04.2-1.43.59L10.3 9.45l-7.72 7.72c-.78.78-.78 2.05 0 2.83L4 21.41c.39.39.9.59 1.41.59.51 0 1.02-.2 1.41-.59l7.78-7.78 2.81-2.81c.8-.78.8-2.07 0-2.86zM5.41 20L4 18.59l7.72-7.72 1.47 1.35L5.41 20z\"/>\n",
              "  </svg>\n",
              "      </button>\n",
              "      \n",
              "  <style>\n",
              "    .colab-df-container {\n",
              "      display:flex;\n",
              "      flex-wrap:wrap;\n",
              "      gap: 12px;\n",
              "    }\n",
              "\n",
              "    .colab-df-convert {\n",
              "      background-color: #E8F0FE;\n",
              "      border: none;\n",
              "      border-radius: 50%;\n",
              "      cursor: pointer;\n",
              "      display: none;\n",
              "      fill: #1967D2;\n",
              "      height: 32px;\n",
              "      padding: 0 0 0 0;\n",
              "      width: 32px;\n",
              "    }\n",
              "\n",
              "    .colab-df-convert:hover {\n",
              "      background-color: #E2EBFA;\n",
              "      box-shadow: 0px 1px 2px rgba(60, 64, 67, 0.3), 0px 1px 3px 1px rgba(60, 64, 67, 0.15);\n",
              "      fill: #174EA6;\n",
              "    }\n",
              "\n",
              "    [theme=dark] .colab-df-convert {\n",
              "      background-color: #3B4455;\n",
              "      fill: #D2E3FC;\n",
              "    }\n",
              "\n",
              "    [theme=dark] .colab-df-convert:hover {\n",
              "      background-color: #434B5C;\n",
              "      box-shadow: 0px 1px 3px 1px rgba(0, 0, 0, 0.15);\n",
              "      filter: drop-shadow(0px 1px 2px rgba(0, 0, 0, 0.3));\n",
              "      fill: #FFFFFF;\n",
              "    }\n",
              "  </style>\n",
              "\n",
              "      <script>\n",
              "        const buttonEl =\n",
              "          document.querySelector('#df-0bc30ca3-c918-4728-a85e-561d17c8f774 button.colab-df-convert');\n",
              "        buttonEl.style.display =\n",
              "          google.colab.kernel.accessAllowed ? 'block' : 'none';\n",
              "\n",
              "        async function convertToInteractive(key) {\n",
              "          const element = document.querySelector('#df-0bc30ca3-c918-4728-a85e-561d17c8f774');\n",
              "          const dataTable =\n",
              "            await google.colab.kernel.invokeFunction('convertToInteractive',\n",
              "                                                     [key], {});\n",
              "          if (!dataTable) return;\n",
              "\n",
              "          const docLinkHtml = 'Like what you see? Visit the ' +\n",
              "            '<a target=\"_blank\" href=https://colab.research.google.com/notebooks/data_table.ipynb>data table notebook</a>'\n",
              "            + ' to learn more about interactive tables.';\n",
              "          element.innerHTML = '';\n",
              "          dataTable['output_type'] = 'display_data';\n",
              "          await google.colab.output.renderOutput(dataTable, element);\n",
              "          const docLink = document.createElement('div');\n",
              "          docLink.innerHTML = docLinkHtml;\n",
              "          element.appendChild(docLink);\n",
              "        }\n",
              "      </script>\n",
              "    </div>\n",
              "  </div>\n",
              "  "
            ]
          },
          "metadata": {},
          "execution_count": 20
        }
      ]
    },
    {
      "cell_type": "code",
      "source": [
        "#train 데이터 기준으로 만들어진 rank라서 train에 없는 test의 distributor는 NaN값으로 뜸, 여기서 이것을 순위가 제일 안좋은 0으로 처리할지?\n",
        "## test['dist_rank'] = test['dist_rank'].fillna(0) \n",
        "test[\"dist_rank\"].fillna(test[\"dist_rank\"].median(),inplace=True)\n",
        "test.isnull().sum()"
      ],
      "metadata": {
        "id": "AJ-DeawA1ckZ",
        "colab": {
          "base_uri": "https://localhost:8080/"
        },
        "outputId": "00252c15-efe5-484d-f571-c1211d606e6d"
      },
      "execution_count": 21,
      "outputs": [
        {
          "output_type": "execute_result",
          "data": {
            "text/plain": [
              "distributor         0\n",
              "genre               0\n",
              "release_time        0\n",
              "time                0\n",
              "screening_rat       0\n",
              "director            0\n",
              "dir_prev_bfnum    136\n",
              "dir_prev_num        0\n",
              "num_staff           0\n",
              "num_actor           0\n",
              "dist_rank           0\n",
              "dtype: int64"
            ]
          },
          "metadata": {},
          "execution_count": 21
        }
      ]
    },
    {
      "cell_type": "markdown",
      "source": [
        "## 3) 장르 (genre)"
      ],
      "metadata": {
        "id": "d3doNZPRmsvw"
      }
    },
    {
      "cell_type": "code",
      "source": [
        "#장르 별 관객 수의 박스플랏\n",
        "sns.boxenplot(x='genre', y='box_off_num', data=train)"
      ],
      "metadata": {
        "id": "fkBkvgVH1gcR",
        "colab": {
          "base_uri": "https://localhost:8080/",
          "height": 928
        },
        "outputId": "af59f41b-b8ed-4c4a-c0f3-fe3b198e13d7"
      },
      "execution_count": 22,
      "outputs": [
        {
          "output_type": "execute_result",
          "data": {
            "text/plain": [
              "<matplotlib.axes._subplots.AxesSubplot at 0x7f8c866a0460>"
            ]
          },
          "metadata": {},
          "execution_count": 22
        },
        {
          "output_type": "display_data",
          "data": {
            "text/plain": [
              "<Figure size 1800x1800 with 1 Axes>"
            ],
            "image/png": "[encoded data removed]"
          },
          "metadata": {
            "needs_background": "light"
          }
        }
      ]
    },
    {
      "cell_type": "code",
      "source": [
        "#장르별 관객수 중앙값으로 처리 *로그변환 X\n",
        "df2_1=pd.DataFrame(train.groupby('genre').box_off_num.median().sort_values(ascending=True))\n",
        "df2_1=df2_1.reset_index()\n",
        "plt.rcParams['figure.figsize'] = [25,25] \n",
        "ax = plt.subplots()\n",
        "ax = sns.barplot(x='box_off_num', y='genre',data = df2_1)\n",
        "#skewed 확인"
      ],
      "metadata": {
        "id": "0qLXsEmP1iQG",
        "colab": {
          "base_uri": "https://localhost:8080/",
          "height": 894
        },
        "outputId": "59f94245-c575-44b2-8ce2-4dc99d0c67e9"
      },
      "execution_count": 23,
      "outputs": [
        {
          "output_type": "display_data",
          "data": {
            "text/plain": [
              "<Figure size 1800x1800 with 1 Axes>"
            ],
            "image/png": "[encoded data removed]"
          },
          "metadata": {
            "needs_background": "light"
          }
        }
      ]
    },
    {
      "cell_type": "code",
      "source": [
        "df2_1 = df2_1.reset_index()\n",
        "df2_1['genre_rank']=df2_1['index']+1\n",
        "df2_1 = df2_1.drop('index', axis = 1)\n",
        "df2_1 = df2_1.drop('box_off_num', axis = 1)"
      ],
      "metadata": {
        "id": "hd6PMgQJ1jkc"
      },
      "execution_count": 24,
      "outputs": []
    },
    {
      "cell_type": "code",
      "source": [
        "df2_1_OUTER_JOIN = pd.merge(train,df2_1, left_on='genre', right_on='genre', how='outer')\n",
        "train = pd.DataFrame(df2_1_OUTER_JOIN)\n",
        "train"
      ],
      "metadata": {
        "id": "-oTghvc71lLz",
        "colab": {
          "base_uri": "https://localhost:8080/",
          "height": 609
        },
        "outputId": "029d4b02-d2b1-42ba-8642-23cfaa2b81bb"
      },
      "execution_count": 25,
      "outputs": [
        {
          "output_type": "execute_result",
          "data": {
            "text/plain": [
              "    distributor genre release_time  time screening_rat director  \\\n",
              "0      롯데엔터테인먼트    액션   2012-11-22    96      청소년 관람불가      조병옥   \n",
              "1      롯데엔터테인먼트    액션   2011-11-24   111       15세 관람가      황병국   \n",
              "2      롯데엔터테인먼트    액션   2011-08-10   122       15세 관람가      김한민   \n",
              "3      롯데엔터테인먼트    액션   2015-09-24   112       12세 관람가      천성일   \n",
              "4      롯데엔터테인먼트    액션   2015-08-13   121       15세 관람가      박흥식   \n",
              "..          ...   ...          ...   ...           ...      ...   \n",
              "595       영화사조제   뮤지컬   2011-06-09   100       12세 관람가      신춘수   \n",
              "596        패뷸러스   뮤지컬   2015-10-22    80        전체 관람가      정성복   \n",
              "597          SK   뮤지컬   2011-11-17   133        전체 관람가      정성복   \n",
              "598       팝파트너스  서스펜스   2013-09-25   107      청소년 관람불가      한종훈   \n",
              "599        인벤트디  서스펜스   2014-04-10   117      청소년 관람불가      김태균   \n",
              "\n",
              "     dir_prev_bfnum  dir_prev_num  num_staff  num_actor  box_off_num  \\\n",
              "0               NaN             0         91          2        23398   \n",
              "1               NaN             0        253          6      1118258   \n",
              "2      2.079989e+06             1        687          4      7482180   \n",
              "3      4.385472e+06             2        388          2       609063   \n",
              "4      1.209303e+05             3        439          3       431310   \n",
              "..              ...           ...        ...        ...          ...   \n",
              "595             NaN             0          4          4         3089   \n",
              "596             NaN             0          0          0          862   \n",
              "597             NaN             0          4          4        16323   \n",
              "598    5.342325e+05             2         15          4        23052   \n",
              "599             NaN             0        207          2       142170   \n",
              "\n",
              "     dist_rank  genre_rank  \n",
              "0          134          11  \n",
              "1          134          11  \n",
              "2          134          11  \n",
              "3          134          11  \n",
              "4          134          11  \n",
              "..         ...         ...  \n",
              "595         54           4  \n",
              "596         37           4  \n",
              "597        137           4  \n",
              "598        107           8  \n",
              "599        123           8  \n",
              "\n",
              "[600 rows x 13 columns]"
            ],
            "text/html": [
              "\n",
              "  <div id=\"df-e43d9beb-0d99-428e-bb67-3b150484d0b6\">\n",
              "    <div class=\"colab-df-container\">\n",
              "      <div>\n",
              "<style scoped>\n",
              "    .dataframe tbody tr th:only-of-type {\n",
              "        vertical-align: middle;\n",
              "    }\n",
              "\n",
              "    .dataframe tbody tr th {\n",
              "        vertical-align: top;\n",
              "    }\n",
              "\n",
              "    .dataframe thead th {\n",
              "        text-align: right;\n",
              "    }\n",
              "</style>\n",
              "<table border=\"1\" class=\"dataframe\">\n",
              "  <thead>\n",
              "    <tr style=\"text-align: right;\">\n",
              "      <th></th>\n",
              "      <th>distributor</th>\n",
              "      <th>genre</th>\n",
              "      <th>release_time</th>\n",
              "      <th>time</th>\n",
              "      <th>screening_rat</th>\n",
              "      <th>director</th>\n",
              "      <th>dir_prev_bfnum</th>\n",
              "      <th>dir_prev_num</th>\n",
              "      <th>num_staff</th>\n",
              "      <th>num_actor</th>\n",
              "      <th>box_off_num</th>\n",
              "      <th>dist_rank</th>\n",
              "      <th>genre_rank</th>\n",
              "    </tr>\n",
              "  </thead>\n",
              "  <tbody>\n",
              "    <tr>\n",
              "      <th>0</th>\n",
              "      <td>롯데엔터테인먼트</td>\n",
              "      <td>액션</td>\n",
              "      <td>2012-11-22</td>\n",
              "      <td>96</td>\n",
              "      <td>청소년 관람불가</td>\n",
              "      <td>조병옥</td>\n",
              "      <td>NaN</td>\n",
              "      <td>0</td>\n",
              "      <td>91</td>\n",
              "      <td>2</td>\n",
              "      <td>23398</td>\n",
              "      <td>134</td>\n",
              "      <td>11</td>\n",
              "    </tr>\n",
              "    <tr>\n",
              "      <th>1</th>\n",
              "      <td>롯데엔터테인먼트</td>\n",
              "      <td>액션</td>\n",
              "      <td>2011-11-24</td>\n",
              "      <td>111</td>\n",
              "      <td>15세 관람가</td>\n",
              "      <td>황병국</td>\n",
              "      <td>NaN</td>\n",
              "      <td>0</td>\n",
              "      <td>253</td>\n",
              "      <td>6</td>\n",
              "      <td>1118258</td>\n",
              "      <td>134</td>\n",
              "      <td>11</td>\n",
              "    </tr>\n",
              "    <tr>\n",
              "      <th>2</th>\n",
              "      <td>롯데엔터테인먼트</td>\n",
              "      <td>액션</td>\n",
              "      <td>2011-08-10</td>\n",
              "      <td>122</td>\n",
              "      <td>15세 관람가</td>\n",
              "      <td>김한민</td>\n",
              "      <td>2.079989e+06</td>\n",
              "      <td>1</td>\n",
              "      <td>687</td>\n",
              "      <td>4</td>\n",
              "      <td>7482180</td>\n",
              "      <td>134</td>\n",
              "      <td>11</td>\n",
              "    </tr>\n",
              "    <tr>\n",
              "      <th>3</th>\n",
              "      <td>롯데엔터테인먼트</td>\n",
              "      <td>액션</td>\n",
              "      <td>2015-09-24</td>\n",
              "      <td>112</td>\n",
              "      <td>12세 관람가</td>\n",
              "      <td>천성일</td>\n",
              "      <td>4.385472e+06</td>\n",
              "      <td>2</td>\n",
              "      <td>388</td>\n",
              "      <td>2</td>\n",
              "      <td>609063</td>\n",
              "      <td>134</td>\n",
              "      <td>11</td>\n",
              "    </tr>\n",
              "    <tr>\n",
              "      <th>4</th>\n",
              "      <td>롯데엔터테인먼트</td>\n",
              "      <td>액션</td>\n",
              "      <td>2015-08-13</td>\n",
              "      <td>121</td>\n",
              "      <td>15세 관람가</td>\n",
              "      <td>박흥식</td>\n",
              "      <td>1.209303e+05</td>\n",
              "      <td>3</td>\n",
              "      <td>439</td>\n",
              "      <td>3</td>\n",
              "      <td>431310</td>\n",
              "      <td>134</td>\n",
              "      <td>11</td>\n",
              "    </tr>\n",
              "    <tr>\n",
              "      <th>...</th>\n",
              "      <td>...</td>\n",
              "      <td>...</td>\n",
              "      <td>...</td>\n",
              "      <td>...</td>\n",
              "      <td>...</td>\n",
              "      <td>...</td>\n",
              "      <td>...</td>\n",
              "      <td>...</td>\n",
              "      <td>...</td>\n",
              "      <td>...</td>\n",
              "      <td>...</td>\n",
              "      <td>...</td>\n",
              "      <td>...</td>\n",
              "    </tr>\n",
              "    <tr>\n",
              "      <th>595</th>\n",
              "      <td>영화사조제</td>\n",
              "      <td>뮤지컬</td>\n",
              "      <td>2011-06-09</td>\n",
              "      <td>100</td>\n",
              "      <td>12세 관람가</td>\n",
              "      <td>신춘수</td>\n",
              "      <td>NaN</td>\n",
              "      <td>0</td>\n",
              "      <td>4</td>\n",
              "      <td>4</td>\n",
              "      <td>3089</td>\n",
              "      <td>54</td>\n",
              "      <td>4</td>\n",
              "    </tr>\n",
              "    <tr>\n",
              "      <th>596</th>\n",
              "      <td>패뷸러스</td>\n",
              "      <td>뮤지컬</td>\n",
              "      <td>2015-10-22</td>\n",
              "      <td>80</td>\n",
              "      <td>전체 관람가</td>\n",
              "      <td>정성복</td>\n",
              "      <td>NaN</td>\n",
              "      <td>0</td>\n",
              "      <td>0</td>\n",
              "      <td>0</td>\n",
              "      <td>862</td>\n",
              "      <td>37</td>\n",
              "      <td>4</td>\n",
              "    </tr>\n",
              "    <tr>\n",
              "      <th>597</th>\n",
              "      <td>SK</td>\n",
              "      <td>뮤지컬</td>\n",
              "      <td>2011-11-17</td>\n",
              "      <td>133</td>\n",
              "      <td>전체 관람가</td>\n",
              "      <td>정성복</td>\n",
              "      <td>NaN</td>\n",
              "      <td>0</td>\n",
              "      <td>4</td>\n",
              "      <td>4</td>\n",
              "      <td>16323</td>\n",
              "      <td>137</td>\n",
              "      <td>4</td>\n",
              "    </tr>\n",
              "    <tr>\n",
              "      <th>598</th>\n",
              "      <td>팝파트너스</td>\n",
              "      <td>서스펜스</td>\n",
              "      <td>2013-09-25</td>\n",
              "      <td>107</td>\n",
              "      <td>청소년 관람불가</td>\n",
              "      <td>한종훈</td>\n",
              "      <td>5.342325e+05</td>\n",
              "      <td>2</td>\n",
              "      <td>15</td>\n",
              "      <td>4</td>\n",
              "      <td>23052</td>\n",
              "      <td>107</td>\n",
              "      <td>8</td>\n",
              "    </tr>\n",
              "    <tr>\n",
              "      <th>599</th>\n",
              "      <td>인벤트디</td>\n",
              "      <td>서스펜스</td>\n",
              "      <td>2014-04-10</td>\n",
              "      <td>117</td>\n",
              "      <td>청소년 관람불가</td>\n",
              "      <td>김태균</td>\n",
              "      <td>NaN</td>\n",
              "      <td>0</td>\n",
              "      <td>207</td>\n",
              "      <td>2</td>\n",
              "      <td>142170</td>\n",
              "      <td>123</td>\n",
              "      <td>8</td>\n",
              "    </tr>\n",
              "  </tbody>\n",
              "</table>\n",
              "<p>600 rows × 13 columns</p>\n",
              "</div>\n",
              "      <button class=\"colab-df-convert\" onclick=\"convertToInteractive('df-e43d9beb-0d99-428e-bb67-3b150484d0b6')\"\n",
              "              title=\"Convert this dataframe to an interactive table.\"\n",
              "              style=\"display:none;\">\n",
              "        \n",
              "  <svg xmlns=\"http://www.w3.org/2000/svg\" height=\"24px\"viewBox=\"0 0 24 24\"\n",
              "       width=\"24px\">\n",
              "    <path d=\"M0 0h24v24H0V0z\" fill=\"none\"/>\n",
              "    <path d=\"M18.56 5.44l.94 2.06.94-2.06 2.06-.94-2.06-.94-.94-2.06-.94 2.06-2.06.94zm-11 1L8.5 8.5l.94-2.06 2.06-.94-2.06-.94L8.5 2.5l-.94 2.06-2.06.94zm10 10l.94 2.06.94-2.06 2.06-.94-2.06-.94-.94-2.06-.94 2.06-2.06.94z\"/><path d=\"M17.41 7.96l-1.37-1.37c-.4-.4-.92-.59-1.43-.59-.52 0-1.04.2-1.43.59L10.3 9.45l-7.72 7.72c-.78.78-.78 2.05 0 2.83L4 21.41c.39.39.9.59 1.41.59.51 0 1.02-.2 1.41-.59l7.78-7.78 2.81-2.81c.8-.78.8-2.07 0-2.86zM5.41 20L4 18.59l7.72-7.72 1.47 1.35L5.41 20z\"/>\n",
              "  </svg>\n",
              "      </button>\n",
              "      \n",
              "  <style>\n",
              "    .colab-df-container {\n",
              "      display:flex;\n",
              "      flex-wrap:wrap;\n",
              "      gap: 12px;\n",
              "    }\n",
              "\n",
              "    .colab-df-convert {\n",
              "      background-color: #E8F0FE;\n",
              "      border: none;\n",
              "      border-radius: 50%;\n",
              "      cursor: pointer;\n",
              "      display: none;\n",
              "      fill: #1967D2;\n",
              "      height: 32px;\n",
              "      padding: 0 0 0 0;\n",
              "      width: 32px;\n",
              "    }\n",
              "\n",
              "    .colab-df-convert:hover {\n",
              "      background-color: #E2EBFA;\n",
              "      box-shadow: 0px 1px 2px rgba(60, 64, 67, 0.3), 0px 1px 3px 1px rgba(60, 64, 67, 0.15);\n",
              "      fill: #174EA6;\n",
              "    }\n",
              "\n",
              "    [theme=dark] .colab-df-convert {\n",
              "      background-color: #3B4455;\n",
              "      fill: #D2E3FC;\n",
              "    }\n",
              "\n",
              "    [theme=dark] .colab-df-convert:hover {\n",
              "      background-color: #434B5C;\n",
              "      box-shadow: 0px 1px 3px 1px rgba(0, 0, 0, 0.15);\n",
              "      filter: drop-shadow(0px 1px 2px rgba(0, 0, 0, 0.3));\n",
              "      fill: #FFFFFF;\n",
              "    }\n",
              "  </style>\n",
              "\n",
              "      <script>\n",
              "        const buttonEl =\n",
              "          document.querySelector('#df-e43d9beb-0d99-428e-bb67-3b150484d0b6 button.colab-df-convert');\n",
              "        buttonEl.style.display =\n",
              "          google.colab.kernel.accessAllowed ? 'block' : 'none';\n",
              "\n",
              "        async function convertToInteractive(key) {\n",
              "          const element = document.querySelector('#df-e43d9beb-0d99-428e-bb67-3b150484d0b6');\n",
              "          const dataTable =\n",
              "            await google.colab.kernel.invokeFunction('convertToInteractive',\n",
              "                                                     [key], {});\n",
              "          if (!dataTable) return;\n",
              "\n",
              "          const docLinkHtml = 'Like what you see? Visit the ' +\n",
              "            '<a target=\"_blank\" href=https://colab.research.google.com/notebooks/data_table.ipynb>data table notebook</a>'\n",
              "            + ' to learn more about interactive tables.';\n",
              "          element.innerHTML = '';\n",
              "          dataTable['output_type'] = 'display_data';\n",
              "          await google.colab.output.renderOutput(dataTable, element);\n",
              "          const docLink = document.createElement('div');\n",
              "          docLink.innerHTML = docLinkHtml;\n",
              "          element.appendChild(docLink);\n",
              "        }\n",
              "      </script>\n",
              "    </div>\n",
              "  </div>\n",
              "  "
            ]
          },
          "metadata": {},
          "execution_count": 25
        }
      ]
    },
    {
      "cell_type": "code",
      "source": [
        "#test data에는 box_off_num이 없음 -> 그냥 train data의 genre_rank를 test data에 새로운 열 dist_rank 추가함.\n",
        "join2=pd.merge(test,df2_1,left_on='genre', right_on='genre', how='left')\n",
        "test = pd.DataFrame(join2)\n",
        "test"
      ],
      "metadata": {
        "id": "G73_ajkm1mZF",
        "colab": {
          "base_uri": "https://localhost:8080/",
          "height": 540
        },
        "outputId": "cb300db8-c925-43e4-d8ea-7c19689d8778"
      },
      "execution_count": 26,
      "outputs": [
        {
          "output_type": "execute_result",
          "data": {
            "text/plain": [
              "    distributor   genre release_time  time screening_rat director  \\\n",
              "0        시네마서비스     느와르   2010-01-07   125      청소년 관람불가      김형준   \n",
              "1           쇼박스  멜로/로맨스   2010-01-14   113       12세 관람가      이광재   \n",
              "2            CJ     드라마   2010-01-28   115       12세 관람가      강대규   \n",
              "3           쇼박스      액션   2010-02-04   116       15세 관람가       장훈   \n",
              "4            CJ      공포   2010-02-18   110       15세 관람가      권호영   \n",
              "..          ...     ...          ...   ...           ...      ...   \n",
              "238         디씨드     드라마   2015-11-19    78       15세 관람가      안슬기   \n",
              "239       인디스토리   다큐멘터리   2015-10-29    86       12세 관람가      이일하   \n",
              "240     컨텐츠온미디어     느와르   2015-10-28   107      청소년 관람불가      안용훈   \n",
              "241      마운틴픽처스     드라마   2015-10-22   102      청소년 관람불가      송동윤   \n",
              "242       케이알씨지  멜로/로맨스   2015-10-22    76      청소년 관람불가       이전   \n",
              "\n",
              "     dir_prev_bfnum  dir_prev_num  num_staff  num_actor  dist_rank  genre_rank  \n",
              "0      3.005290e+05             2        304          3      132.0          12  \n",
              "1      3.427002e+05             4        275          3      145.0           3  \n",
              "2      4.206611e+06             3        419          7      141.0           5  \n",
              "3      6.913420e+05             2        408          2      145.0          11  \n",
              "4      3.173800e+04             1        380          1      141.0           9  \n",
              "..              ...           ...        ...        ...        ...         ...  \n",
              "238    2.590000e+03             1          4          4      112.0           5  \n",
              "239             NaN             0         18          2       69.0           1  \n",
              "240             NaN             0        224          4      112.0          12  \n",
              "241    5.069900e+04             1         68          7       46.0           5  \n",
              "242             NaN             0         10          4       29.0           3  \n",
              "\n",
              "[243 rows x 12 columns]"
            ],
            "text/html": [
              "\n",
              "  <div id=\"df-f303eb2e-7a39-47b0-b70c-cce3a8a01f33\">\n",
              "    <div class=\"colab-df-container\">\n",
              "      <div>\n",
              "<style scoped>\n",
              "    .dataframe tbody tr th:only-of-type {\n",
              "        vertical-align: middle;\n",
              "    }\n",
              "\n",
              "    .dataframe tbody tr th {\n",
              "        vertical-align: top;\n",
              "    }\n",
              "\n",
              "    .dataframe thead th {\n",
              "        text-align: right;\n",
              "    }\n",
              "</style>\n",
              "<table border=\"1\" class=\"dataframe\">\n",
              "  <thead>\n",
              "    <tr style=\"text-align: right;\">\n",
              "      <th></th>\n",
              "      <th>distributor</th>\n",
              "      <th>genre</th>\n",
              "      <th>release_time</th>\n",
              "      <th>time</th>\n",
              "      <th>screening_rat</th>\n",
              "      <th>director</th>\n",
              "      <th>dir_prev_bfnum</th>\n",
              "      <th>dir_prev_num</th>\n",
              "      <th>num_staff</th>\n",
              "      <th>num_actor</th>\n",
              "      <th>dist_rank</th>\n",
              "      <th>genre_rank</th>\n",
              "    </tr>\n",
              "  </thead>\n",
              "  <tbody>\n",
              "    <tr>\n",
              "      <th>0</th>\n",
              "      <td>시네마서비스</td>\n",
              "      <td>느와르</td>\n",
              "      <td>2010-01-07</td>\n",
              "      <td>125</td>\n",
              "      <td>청소년 관람불가</td>\n",
              "      <td>김형준</td>\n",
              "      <td>3.005290e+05</td>\n",
              "      <td>2</td>\n",
              "      <td>304</td>\n",
              "      <td>3</td>\n",
              "      <td>132.0</td>\n",
              "      <td>12</td>\n",
              "    </tr>\n",
              "    <tr>\n",
              "      <th>1</th>\n",
              "      <td>쇼박스</td>\n",
              "      <td>멜로/로맨스</td>\n",
              "      <td>2010-01-14</td>\n",
              "      <td>113</td>\n",
              "      <td>12세 관람가</td>\n",
              "      <td>이광재</td>\n",
              "      <td>3.427002e+05</td>\n",
              "      <td>4</td>\n",
              "      <td>275</td>\n",
              "      <td>3</td>\n",
              "      <td>145.0</td>\n",
              "      <td>3</td>\n",
              "    </tr>\n",
              "    <tr>\n",
              "      <th>2</th>\n",
              "      <td>CJ</td>\n",
              "      <td>드라마</td>\n",
              "      <td>2010-01-28</td>\n",
              "      <td>115</td>\n",
              "      <td>12세 관람가</td>\n",
              "      <td>강대규</td>\n",
              "      <td>4.206611e+06</td>\n",
              "      <td>3</td>\n",
              "      <td>419</td>\n",
              "      <td>7</td>\n",
              "      <td>141.0</td>\n",
              "      <td>5</td>\n",
              "    </tr>\n",
              "    <tr>\n",
              "      <th>3</th>\n",
              "      <td>쇼박스</td>\n",
              "      <td>액션</td>\n",
              "      <td>2010-02-04</td>\n",
              "      <td>116</td>\n",
              "      <td>15세 관람가</td>\n",
              "      <td>장훈</td>\n",
              "      <td>6.913420e+05</td>\n",
              "      <td>2</td>\n",
              "      <td>408</td>\n",
              "      <td>2</td>\n",
              "      <td>145.0</td>\n",
              "      <td>11</td>\n",
              "    </tr>\n",
              "    <tr>\n",
              "      <th>4</th>\n",
              "      <td>CJ</td>\n",
              "      <td>공포</td>\n",
              "      <td>2010-02-18</td>\n",
              "      <td>110</td>\n",
              "      <td>15세 관람가</td>\n",
              "      <td>권호영</td>\n",
              "      <td>3.173800e+04</td>\n",
              "      <td>1</td>\n",
              "      <td>380</td>\n",
              "      <td>1</td>\n",
              "      <td>141.0</td>\n",
              "      <td>9</td>\n",
              "    </tr>\n",
              "    <tr>\n",
              "      <th>...</th>\n",
              "      <td>...</td>\n",
              "      <td>...</td>\n",
              "      <td>...</td>\n",
              "      <td>...</td>\n",
              "      <td>...</td>\n",
              "      <td>...</td>\n",
              "      <td>...</td>\n",
              "      <td>...</td>\n",
              "      <td>...</td>\n",
              "      <td>...</td>\n",
              "      <td>...</td>\n",
              "      <td>...</td>\n",
              "    </tr>\n",
              "    <tr>\n",
              "      <th>238</th>\n",
              "      <td>디씨드</td>\n",
              "      <td>드라마</td>\n",
              "      <td>2015-11-19</td>\n",
              "      <td>78</td>\n",
              "      <td>15세 관람가</td>\n",
              "      <td>안슬기</td>\n",
              "      <td>2.590000e+03</td>\n",
              "      <td>1</td>\n",
              "      <td>4</td>\n",
              "      <td>4</td>\n",
              "      <td>112.0</td>\n",
              "      <td>5</td>\n",
              "    </tr>\n",
              "    <tr>\n",
              "      <th>239</th>\n",
              "      <td>인디스토리</td>\n",
              "      <td>다큐멘터리</td>\n",
              "      <td>2015-10-29</td>\n",
              "      <td>86</td>\n",
              "      <td>12세 관람가</td>\n",
              "      <td>이일하</td>\n",
              "      <td>NaN</td>\n",
              "      <td>0</td>\n",
              "      <td>18</td>\n",
              "      <td>2</td>\n",
              "      <td>69.0</td>\n",
              "      <td>1</td>\n",
              "    </tr>\n",
              "    <tr>\n",
              "      <th>240</th>\n",
              "      <td>컨텐츠온미디어</td>\n",
              "      <td>느와르</td>\n",
              "      <td>2015-10-28</td>\n",
              "      <td>107</td>\n",
              "      <td>청소년 관람불가</td>\n",
              "      <td>안용훈</td>\n",
              "      <td>NaN</td>\n",
              "      <td>0</td>\n",
              "      <td>224</td>\n",
              "      <td>4</td>\n",
              "      <td>112.0</td>\n",
              "      <td>12</td>\n",
              "    </tr>\n",
              "    <tr>\n",
              "      <th>241</th>\n",
              "      <td>마운틴픽처스</td>\n",
              "      <td>드라마</td>\n",
              "      <td>2015-10-22</td>\n",
              "      <td>102</td>\n",
              "      <td>청소년 관람불가</td>\n",
              "      <td>송동윤</td>\n",
              "      <td>5.069900e+04</td>\n",
              "      <td>1</td>\n",
              "      <td>68</td>\n",
              "      <td>7</td>\n",
              "      <td>46.0</td>\n",
              "      <td>5</td>\n",
              "    </tr>\n",
              "    <tr>\n",
              "      <th>242</th>\n",
              "      <td>케이알씨지</td>\n",
              "      <td>멜로/로맨스</td>\n",
              "      <td>2015-10-22</td>\n",
              "      <td>76</td>\n",
              "      <td>청소년 관람불가</td>\n",
              "      <td>이전</td>\n",
              "      <td>NaN</td>\n",
              "      <td>0</td>\n",
              "      <td>10</td>\n",
              "      <td>4</td>\n",
              "      <td>29.0</td>\n",
              "      <td>3</td>\n",
              "    </tr>\n",
              "  </tbody>\n",
              "</table>\n",
              "<p>243 rows × 12 columns</p>\n",
              "</div>\n",
              "      <button class=\"colab-df-convert\" onclick=\"convertToInteractive('df-f303eb2e-7a39-47b0-b70c-cce3a8a01f33')\"\n",
              "              title=\"Convert this dataframe to an interactive table.\"\n",
              "              style=\"display:none;\">\n",
              "        \n",
              "  <svg xmlns=\"http://www.w3.org/2000/svg\" height=\"24px\"viewBox=\"0 0 24 24\"\n",
              "       width=\"24px\">\n",
              "    <path d=\"M0 0h24v24H0V0z\" fill=\"none\"/>\n",
              "    <path d=\"M18.56 5.44l.94 2.06.94-2.06 2.06-.94-2.06-.94-.94-2.06-.94 2.06-2.06.94zm-11 1L8.5 8.5l.94-2.06 2.06-.94-2.06-.94L8.5 2.5l-.94 2.06-2.06.94zm10 10l.94 2.06.94-2.06 2.06-.94-2.06-.94-.94-2.06-.94 2.06-2.06.94z\"/><path d=\"M17.41 7.96l-1.37-1.37c-.4-.4-.92-.59-1.43-.59-.52 0-1.04.2-1.43.59L10.3 9.45l-7.72 7.72c-.78.78-.78 2.05 0 2.83L4 21.41c.39.39.9.59 1.41.59.51 0 1.02-.2 1.41-.59l7.78-7.78 2.81-2.81c.8-.78.8-2.07 0-2.86zM5.41 20L4 18.59l7.72-7.72 1.47 1.35L5.41 20z\"/>\n",
              "  </svg>\n",
              "      </button>\n",
              "      \n",
              "  <style>\n",
              "    .colab-df-container {\n",
              "      display:flex;\n",
              "      flex-wrap:wrap;\n",
              "      gap: 12px;\n",
              "    }\n",
              "\n",
              "    .colab-df-convert {\n",
              "      background-color: #E8F0FE;\n",
              "      border: none;\n",
              "      border-radius: 50%;\n",
              "      cursor: pointer;\n",
              "      display: none;\n",
              "      fill: #1967D2;\n",
              "      height: 32px;\n",
              "      padding: 0 0 0 0;\n",
              "      width: 32px;\n",
              "    }\n",
              "\n",
              "    .colab-df-convert:hover {\n",
              "      background-color: #E2EBFA;\n",
              "      box-shadow: 0px 1px 2px rgba(60, 64, 67, 0.3), 0px 1px 3px 1px rgba(60, 64, 67, 0.15);\n",
              "      fill: #174EA6;\n",
              "    }\n",
              "\n",
              "    [theme=dark] .colab-df-convert {\n",
              "      background-color: #3B4455;\n",
              "      fill: #D2E3FC;\n",
              "    }\n",
              "\n",
              "    [theme=dark] .colab-df-convert:hover {\n",
              "      background-color: #434B5C;\n",
              "      box-shadow: 0px 1px 3px 1px rgba(0, 0, 0, 0.15);\n",
              "      filter: drop-shadow(0px 1px 2px rgba(0, 0, 0, 0.3));\n",
              "      fill: #FFFFFF;\n",
              "    }\n",
              "  </style>\n",
              "\n",
              "      <script>\n",
              "        const buttonEl =\n",
              "          document.querySelector('#df-f303eb2e-7a39-47b0-b70c-cce3a8a01f33 button.colab-df-convert');\n",
              "        buttonEl.style.display =\n",
              "          google.colab.kernel.accessAllowed ? 'block' : 'none';\n",
              "\n",
              "        async function convertToInteractive(key) {\n",
              "          const element = document.querySelector('#df-f303eb2e-7a39-47b0-b70c-cce3a8a01f33');\n",
              "          const dataTable =\n",
              "            await google.colab.kernel.invokeFunction('convertToInteractive',\n",
              "                                                     [key], {});\n",
              "          if (!dataTable) return;\n",
              "\n",
              "          const docLinkHtml = 'Like what you see? Visit the ' +\n",
              "            '<a target=\"_blank\" href=https://colab.research.google.com/notebooks/data_table.ipynb>data table notebook</a>'\n",
              "            + ' to learn more about interactive tables.';\n",
              "          element.innerHTML = '';\n",
              "          dataTable['output_type'] = 'display_data';\n",
              "          await google.colab.output.renderOutput(dataTable, element);\n",
              "          const docLink = document.createElement('div');\n",
              "          docLink.innerHTML = docLinkHtml;\n",
              "          element.appendChild(docLink);\n",
              "        }\n",
              "      </script>\n",
              "    </div>\n",
              "  </div>\n",
              "  "
            ]
          },
          "metadata": {},
          "execution_count": 26
        }
      ]
    },
    {
      "cell_type": "code",
      "source": [
        "test.isnull().sum()"
      ],
      "metadata": {
        "id": "RgPz-P941oXB",
        "colab": {
          "base_uri": "https://localhost:8080/"
        },
        "outputId": "a762f28e-32ee-4e5a-c84a-04013ee37f3d"
      },
      "execution_count": 27,
      "outputs": [
        {
          "output_type": "execute_result",
          "data": {
            "text/plain": [
              "distributor         0\n",
              "genre               0\n",
              "release_time        0\n",
              "time                0\n",
              "screening_rat       0\n",
              "director            0\n",
              "dir_prev_bfnum    136\n",
              "dir_prev_num        0\n",
              "num_staff           0\n",
              "num_actor           0\n",
              "dist_rank           0\n",
              "genre_rank          0\n",
              "dtype: int64"
            ]
          },
          "metadata": {},
          "execution_count": 27
        }
      ]
    },
    {
      "cell_type": "markdown",
      "source": [
        "### **1번 & 2번 사용된 변수 삭제**\n",
        "(distributor,genre 삭제)"
      ],
      "metadata": {
        "id": "XqHNqBiJ1r2-"
      }
    },
    {
      "cell_type": "code",
      "source": [
        "train.drop(['distributor','genre'], axis=1, inplace=True) \n",
        "#train.drop(['distributor','genre','box_off_num'], axis=1, inplace=True) #box_off_num 삭제할지 말지,,\n",
        "test.drop(['distributor','genre'], axis=1, inplace=True)"
      ],
      "metadata": {
        "id": "LbZQBvy-18rT"
      },
      "execution_count": 28,
      "outputs": []
    },
    {
      "cell_type": "code",
      "source": [
        "train.columns"
      ],
      "metadata": {
        "id": "iBS0-cTN198F",
        "colab": {
          "base_uri": "https://localhost:8080/"
        },
        "outputId": "7700d45c-78fd-4127-f080-6104420ffef4"
      },
      "execution_count": 29,
      "outputs": [
        {
          "output_type": "execute_result",
          "data": {
            "text/plain": [
              "Index(['release_time', 'time', 'screening_rat', 'director', 'dir_prev_bfnum',\n",
              "       'dir_prev_num', 'num_staff', 'num_actor', 'box_off_num', 'dist_rank',\n",
              "       'genre_rank'],\n",
              "      dtype='object')"
            ]
          },
          "metadata": {},
          "execution_count": 29
        }
      ]
    },
    {
      "cell_type": "code",
      "source": [
        "test.columns"
      ],
      "metadata": {
        "id": "JKJPgrIQ1_cA",
        "colab": {
          "base_uri": "https://localhost:8080/"
        },
        "outputId": "c21905fa-52c0-46d7-996f-f7864c397533"
      },
      "execution_count": 30,
      "outputs": [
        {
          "output_type": "execute_result",
          "data": {
            "text/plain": [
              "Index(['release_time', 'time', 'screening_rat', 'director', 'dir_prev_bfnum',\n",
              "       'dir_prev_num', 'num_staff', 'num_actor', 'dist_rank', 'genre_rank'],\n",
              "      dtype='object')"
            ]
          },
          "metadata": {},
          "execution_count": 30
        }
      ]
    },
    {
      "cell_type": "markdown",
      "source": [
        "## 4) 개봉일 (release_time)"
      ],
      "metadata": {
        "id": "rN-ulytEms2y"
      }
    },
    {
      "cell_type": "markdown",
      "source": [
        "### * 데이트타임 형식으로 바꾸고 연,월,일 나누기"
      ],
      "metadata": {
        "id": "b3e0DXmT7bPO"
      }
    },
    {
      "cell_type": "code",
      "source": [
        "train['release_time'] = train.release_time.apply(pd.to_datetime)\n",
        "train['release_year'] = train.release_time.dt.year\n",
        "train['release_quarter'] = train.release_time.dt.quarter\n",
        "train['release_month'] = train.release_time.dt.month\n",
        "train['release_day'] = train.release_time.dt.day\n",
        "train.drop(['release_time'], axis=1, inplace=True) # 기존 개봉일 변수는 지운다.\n",
        "train.head()\n",
        "\n",
        "test['release_time'] = test.release_time.apply(pd.to_datetime)\n",
        "test['release_year'] = test.release_time.dt.year\n",
        "test['release_quarter'] = test.release_time.dt.quarter\n",
        "test['release_month'] = test.release_time.dt.month\n",
        "test['release_day'] = test.release_time.dt.day\n",
        "test.drop(['release_time'], axis=1, inplace=True) # 기존 개봉일 변수는 지운다."
      ],
      "metadata": {
        "id": "89bzWgjdzA2I"
      },
      "execution_count": 31,
      "outputs": []
    },
    {
      "cell_type": "code",
      "source": [
        "train.info()"
      ],
      "metadata": {
        "id": "DvzynDfIAm4B",
        "colab": {
          "base_uri": "https://localhost:8080/"
        },
        "outputId": "5f98a1f3-af69-4e2f-a312-d3b35fb54820"
      },
      "execution_count": 32,
      "outputs": [
        {
          "output_type": "stream",
          "name": "stdout",
          "text": [
            "<class 'pandas.core.frame.DataFrame'>\n",
            "Int64Index: 600 entries, 0 to 599\n",
            "Data columns (total 14 columns):\n",
            " #   Column           Non-Null Count  Dtype  \n",
            "---  ------           --------------  -----  \n",
            " 0   time             600 non-null    int64  \n",
            " 1   screening_rat    600 non-null    object \n",
            " 2   director         600 non-null    object \n",
            " 3   dir_prev_bfnum   270 non-null    float64\n",
            " 4   dir_prev_num     600 non-null    int64  \n",
            " 5   num_staff        600 non-null    int64  \n",
            " 6   num_actor        600 non-null    int64  \n",
            " 7   box_off_num      600 non-null    int64  \n",
            " 8   dist_rank        600 non-null    int64  \n",
            " 9   genre_rank       600 non-null    int64  \n",
            " 10  release_year     600 non-null    int64  \n",
            " 11  release_quarter  600 non-null    int64  \n",
            " 12  release_month    600 non-null    int64  \n",
            " 13  release_day      600 non-null    int64  \n",
            "dtypes: float64(1), int64(11), object(2)\n",
            "memory usage: 70.3+ KB\n"
          ]
        }
      ]
    },
    {
      "cell_type": "code",
      "source": [
        "sns.pairplot(train[['release_year', 'release_month', 'release_quarter', 'release_day', 'box_off_num']])\n",
        "plt.show()"
      ],
      "metadata": {
        "id": "9_szX7dWPIeI",
        "colab": {
          "base_uri": "https://localhost:8080/",
          "height": 903
        },
        "outputId": "266593cb-370d-4dce-91ec-517e47a6228b"
      },
      "execution_count": 33,
      "outputs": [
        {
          "output_type": "display_data",
          "data": {
            "text/plain": [
              "<Figure size 900x900 with 30 Axes>"
            ],
            "image/png": "[encoded data removed]"
          },
          "metadata": {
            "needs_background": "light"
          }
        }
      ]
    },
    {
      "cell_type": "markdown",
      "source": [
        "### * 인코딩 및 로그변환\n",
        "* 카테고리형변수이므로 인코딩\n",
        "* Label encoding은 가중치 부여, One-Hot encoding은 너무 많은 변수가 만들어진다는 단점이 있다.\n",
        "* Binary encoding은 이진법 분류 기법으로, 가중치 부여하지 않고 적은 양의 변수만 만들어지는 장점이 있어, 이 기법을 적용한다."
      ],
      "metadata": {
        "id": "8ckxbKey7Ygk"
      }
    },
    {
      "cell_type": "code",
      "source": [
        "!pip install category_encoders"
      ],
      "metadata": {
        "id": "Cd5-KOcuvOSM",
        "colab": {
          "base_uri": "https://localhost:8080/"
        },
        "outputId": "2eb0bf5e-150a-47e1-8764-ce7363b2c18f"
      },
      "execution_count": 34,
      "outputs": [
        {
          "output_type": "stream",
          "name": "stdout",
          "text": [
            "Looking in indexes: https://pypi.org/simple, https://us-python.pkg.dev/colab-wheels/public/simple/\n",
            "Collecting category_encoders\n",
            "  Downloading category_encoders-2.5.1.post0-py2.py3-none-any.whl (72 kB)\n",
            "\u001b[K     |████████████████████████████████| 72 kB 858 kB/s \n",
            "\u001b[?25hRequirement already satisfied: pandas>=1.0.5 in /usr/local/lib/python3.8/dist-packages (from category_encoders) (1.3.5)\n",
            "Requirement already satisfied: statsmodels>=0.9.0 in /usr/local/lib/python3.8/dist-packages (from category_encoders) (0.12.2)\n",
            "Requirement already satisfied: patsy>=0.5.1 in /usr/local/lib/python3.8/dist-packages (from category_encoders) (0.5.3)\n",
            "Requirement already satisfied: scikit-learn>=0.20.0 in /usr/local/lib/python3.8/dist-packages (from category_encoders) (1.0.2)\n",
            "Requirement already satisfied: numpy>=1.14.0 in /usr/local/lib/python3.8/dist-packages (from category_encoders) (1.21.6)\n",
            "Requirement already satisfied: scipy>=1.0.0 in /usr/local/lib/python3.8/dist-packages (from category_encoders) (1.7.3)\n",
            "Requirement already satisfied: python-dateutil>=2.7.3 in /usr/local/lib/python3.8/dist-packages (from pandas>=1.0.5->category_encoders) (2.8.2)\n",
            "Requirement already satisfied: pytz>=2017.3 in /usr/local/lib/python3.8/dist-packages (from pandas>=1.0.5->category_encoders) (2022.6)\n",
            "Requirement already satisfied: six in /usr/local/lib/python3.8/dist-packages (from patsy>=0.5.1->category_encoders) (1.15.0)\n",
            "Requirement already satisfied: threadpoolctl>=2.0.0 in /usr/local/lib/python3.8/dist-packages (from scikit-learn>=0.20.0->category_encoders) (3.1.0)\n",
            "Requirement already satisfied: joblib>=0.11 in /usr/local/lib/python3.8/dist-packages (from scikit-learn>=0.20.0->category_encoders) (1.2.0)\n",
            "Installing collected packages: category-encoders\n",
            "Successfully installed category-encoders-2.5.1.post0\n"
          ]
        }
      ]
    },
    {
      "cell_type": "code",
      "source": [
        "import category_encoders as ce\n",
        "\n",
        "ec_y = ce.BinaryEncoder(cols=['release_year'])\n",
        "df_y = ec_y.fit_transform(train['release_year'])\n",
        "df_y_te = ec_y.fit_transform(test['release_year'])\n",
        "\n",
        "ec_m = ce.BinaryEncoder(cols=['release_month'])\n",
        "df_m = ec_m.fit_transform(train['release_month'])\n",
        "df_m_te = ec_m.fit_transform(test['release_month'])\n",
        "\n",
        "ec_q = ce.BinaryEncoder(cols=['release_quarter'])\n",
        "df_q = ec_q.fit_transform(train['release_quarter'])\n",
        "df_q_te = ec_q.fit_transform(test['release_quarter'])\n",
        "\n",
        "ec_d = ce.BinaryEncoder(cols=['release_day'])\n",
        "df_d = ec_d.fit_transform(train['release_day'])\n",
        "df_d_te = ec_d.fit_transform(test['release_day'])\n",
        "\n",
        "train = pd.concat([train, df_y, df_m, df_q, df_d], axis=1)\n",
        "train.drop(['release_year', 'release_month', 'release_quarter', 'release_day'], axis=1, inplace=True)\n",
        "train.head()\n",
        "\n",
        "test = pd.concat([test, df_y_te, df_m_te, df_q_te, df_d_te], axis=1)\n",
        "test.drop(['release_year', 'release_month', 'release_quarter', 'release_day'], axis=1, inplace=True)"
      ],
      "metadata": {
        "id": "NkQncH1zvOXw"
      },
      "execution_count": 35,
      "outputs": []
    },
    {
      "cell_type": "markdown",
      "source": [
        "## 5) 상영시간 (time)"
      ],
      "metadata": {
        "id": "oHrWMM1dms6p"
      }
    },
    {
      "cell_type": "markdown",
      "source": [
        "### * 데이트타임 형식으로 바꾸면 연속형변수로 활용할 수 없으므로 안한다."
      ],
      "metadata": {
        "id": "gqiOuVFt7dEE"
      }
    },
    {
      "cell_type": "code",
      "source": [
        "#train['time'] = train.time.apply(pd.to_datetime)"
      ],
      "metadata": {
        "id": "039pxEhxoAzR"
      },
      "execution_count": 36,
      "outputs": []
    },
    {
      "cell_type": "markdown",
      "source": [
        "### * 로그변환\n",
        "* time은 연속형 변수이고 불균형한 분포이므로, 로그변환하기"
      ],
      "metadata": {
        "id": "_-gOKClp8RAW"
      }
    },
    {
      "cell_type": "code",
      "source": [
        "sns.pairplot(train[['time', 'box_off_num']])\n",
        "plt.show()"
      ],
      "metadata": {
        "id": "LVIc6R8I71J0",
        "colab": {
          "base_uri": "https://localhost:8080/",
          "height": 374
        },
        "outputId": "ef4f0279-3e31-44f6-bf2c-805497c9d400"
      },
      "execution_count": 37,
      "outputs": [
        {
          "output_type": "display_data",
          "data": {
            "text/plain": [
              "<Figure size 360x360 with 6 Axes>"
            ],
            "image/png": "[encoded data removed]"
          },
          "metadata": {
            "needs_background": "light"
          }
        }
      ]
    },
    {
      "cell_type": "code",
      "source": [
        "train['time_log'] = np.log1p(train.time)\n",
        "test['time_log'] = np.log1p(test.time)\n",
        "\n",
        "train.drop(['time'], axis=1, inplace=True)\n",
        "test.drop(['time'], axis=1, inplace=True)"
      ],
      "metadata": {
        "id": "qrqh3fsY7mdX"
      },
      "execution_count": 38,
      "outputs": []
    },
    {
      "cell_type": "markdown",
      "source": [
        "## 6) 감독이름 (director)"
      ],
      "metadata": {
        "id": "FMCbNE2dmtAJ"
      }
    },
    {
      "cell_type": "markdown",
      "source": [
        "### * 랭크 인코딩\n",
        "*   감독별 관객 수 분포 조사 -> 왜곡 정도 완화 -> 중앙값으로 rank 매기기\n",
        "*   감독이 낸 영화 수를 고려하여 감독별 관객 수 평균을 이용함"
      ],
      "metadata": {
        "id": "Z3xA6g0CA3-p"
      }
    },
    {
      "cell_type": "code",
      "source": [
        "director_num = train.groupby('director')['box_off_num'].mean().sort_values(ascending=False) #원래 sum이었는데 감독별 영화 수 고려하여 mean으로 수정\n",
        "df6 = pd.DataFrame(director_num)\n",
        "df6[\"director\"]= df6.index #director 열 생성\n",
        "plt.rcParams['figure.figsize'] = [10,10] \n",
        "ax = plt.subplots()\n",
        "ax = sns.barplot(x='box_off_num', y='director',data = df6)"
      ],
      "metadata": {
        "id": "N7uBsvod3jSn",
        "colab": {
          "base_uri": "https://localhost:8080/",
          "height": 610
        },
        "outputId": "61346d7c-fca2-407a-c8a0-616b1d7491fe"
      },
      "execution_count": 39,
      "outputs": [
        {
          "output_type": "display_data",
          "data": {
            "text/plain": [
              "<Figure size 720x720 with 1 Axes>"
            ],
            "image/png": "[encoded data removed]"
          },
          "metadata": {
            "needs_background": "light"
          }
        }
      ]
    },
    {
      "cell_type": "code",
      "source": [
        "#위의 그래프가 왜곡되어있으므로 log1p 변환을 통해 왜곡 정도 향상\n",
        "director_num = train.groupby('director')['box_off_num'].mean().sort_values(ascending=False)\n",
        "df6 = pd.DataFrame(director_num)\n",
        "df6[\"director\"]= df6.index #director 열 생성\n",
        "plt.rcParams['figure.figsize'] = [10,10] \n",
        "df6[\"box_off_num\"]=np.log1p(df6[\"box_off_num\"])\n",
        "ax = plt.subplots()\n",
        "ax = sns.barplot(x='box_off_num', y='director',data = df6)"
      ],
      "metadata": {
        "id": "IT4zrSz7P4dT",
        "colab": {
          "base_uri": "https://localhost:8080/",
          "height": 610
        },
        "outputId": "5bf097de-0b68-4252-d24c-d398ad268305"
      },
      "execution_count": 40,
      "outputs": [
        {
          "output_type": "display_data",
          "data": {
            "text/plain": [
              "<Figure size 720x720 with 1 Axes>"
            ],
            "image/png": "[encoded data removed]"
          },
          "metadata": {
            "needs_background": "light"
          }
        }
      ]
    },
    {
      "cell_type": "code",
      "source": [
        "df6.drop(['director'], axis=1, inplace=True)\n",
        "tr_dr_rank = df6.groupby('director').box_off_num.median().reset_index(name = 'dr_rank').sort_values(by = 'dr_rank')\n",
        "tr_dr_rank"
      ],
      "metadata": {
        "id": "2wVudbZlOGbN",
        "colab": {
          "base_uri": "https://localhost:8080/",
          "height": 424
        },
        "outputId": "b0decece-4aa4-4908-eaf8-2f5c0b78f8a3"
      },
      "execution_count": 41,
      "outputs": [
        {
          "output_type": "execute_result",
          "data": {
            "text/plain": [
              "    director    dr_rank\n",
              "125      노성수   0.693147\n",
              "85       김정호   1.098612\n",
              "10       고구마   2.197225\n",
              "289      이세일   2.397895\n",
              "411      진광교   3.610918\n",
              "..       ...        ...\n",
              "448      한재림  16.027712\n",
              "201      봉준호  16.050925\n",
              "241      양우석  16.246918\n",
              "416      최동훈  16.368485\n",
              "264      윤제균  16.473163\n",
              "\n",
              "[472 rows x 2 columns]"
            ],
            "text/html": [
              "\n",
              "  <div id=\"df-476d59c0-1fe2-4fb9-8551-be4f735ee101\">\n",
              "    <div class=\"colab-df-container\">\n",
              "      <div>\n",
              "<style scoped>\n",
              "    .dataframe tbody tr th:only-of-type {\n",
              "        vertical-align: middle;\n",
              "    }\n",
              "\n",
              "    .dataframe tbody tr th {\n",
              "        vertical-align: top;\n",
              "    }\n",
              "\n",
              "    .dataframe thead th {\n",
              "        text-align: right;\n",
              "    }\n",
              "</style>\n",
              "<table border=\"1\" class=\"dataframe\">\n",
              "  <thead>\n",
              "    <tr style=\"text-align: right;\">\n",
              "      <th></th>\n",
              "      <th>director</th>\n",
              "      <th>dr_rank</th>\n",
              "    </tr>\n",
              "  </thead>\n",
              "  <tbody>\n",
              "    <tr>\n",
              "      <th>125</th>\n",
              "      <td>노성수</td>\n",
              "      <td>0.693147</td>\n",
              "    </tr>\n",
              "    <tr>\n",
              "      <th>85</th>\n",
              "      <td>김정호</td>\n",
              "      <td>1.098612</td>\n",
              "    </tr>\n",
              "    <tr>\n",
              "      <th>10</th>\n",
              "      <td>고구마</td>\n",
              "      <td>2.197225</td>\n",
              "    </tr>\n",
              "    <tr>\n",
              "      <th>289</th>\n",
              "      <td>이세일</td>\n",
              "      <td>2.397895</td>\n",
              "    </tr>\n",
              "    <tr>\n",
              "      <th>411</th>\n",
              "      <td>진광교</td>\n",
              "      <td>3.610918</td>\n",
              "    </tr>\n",
              "    <tr>\n",
              "      <th>...</th>\n",
              "      <td>...</td>\n",
              "      <td>...</td>\n",
              "    </tr>\n",
              "    <tr>\n",
              "      <th>448</th>\n",
              "      <td>한재림</td>\n",
              "      <td>16.027712</td>\n",
              "    </tr>\n",
              "    <tr>\n",
              "      <th>201</th>\n",
              "      <td>봉준호</td>\n",
              "      <td>16.050925</td>\n",
              "    </tr>\n",
              "    <tr>\n",
              "      <th>241</th>\n",
              "      <td>양우석</td>\n",
              "      <td>16.246918</td>\n",
              "    </tr>\n",
              "    <tr>\n",
              "      <th>416</th>\n",
              "      <td>최동훈</td>\n",
              "      <td>16.368485</td>\n",
              "    </tr>\n",
              "    <tr>\n",
              "      <th>264</th>\n",
              "      <td>윤제균</td>\n",
              "      <td>16.473163</td>\n",
              "    </tr>\n",
              "  </tbody>\n",
              "</table>\n",
              "<p>472 rows × 2 columns</p>\n",
              "</div>\n",
              "      <button class=\"colab-df-convert\" onclick=\"convertToInteractive('df-476d59c0-1fe2-4fb9-8551-be4f735ee101')\"\n",
              "              title=\"Convert this dataframe to an interactive table.\"\n",
              "              style=\"display:none;\">\n",
              "        \n",
              "  <svg xmlns=\"http://www.w3.org/2000/svg\" height=\"24px\"viewBox=\"0 0 24 24\"\n",
              "       width=\"24px\">\n",
              "    <path d=\"M0 0h24v24H0V0z\" fill=\"none\"/>\n",
              "    <path d=\"M18.56 5.44l.94 2.06.94-2.06 2.06-.94-2.06-.94-.94-2.06-.94 2.06-2.06.94zm-11 1L8.5 8.5l.94-2.06 2.06-.94-2.06-.94L8.5 2.5l-.94 2.06-2.06.94zm10 10l.94 2.06.94-2.06 2.06-.94-2.06-.94-.94-2.06-.94 2.06-2.06.94z\"/><path d=\"M17.41 7.96l-1.37-1.37c-.4-.4-.92-.59-1.43-.59-.52 0-1.04.2-1.43.59L10.3 9.45l-7.72 7.72c-.78.78-.78 2.05 0 2.83L4 21.41c.39.39.9.59 1.41.59.51 0 1.02-.2 1.41-.59l7.78-7.78 2.81-2.81c.8-.78.8-2.07 0-2.86zM5.41 20L4 18.59l7.72-7.72 1.47 1.35L5.41 20z\"/>\n",
              "  </svg>\n",
              "      </button>\n",
              "      \n",
              "  <style>\n",
              "    .colab-df-container {\n",
              "      display:flex;\n",
              "      flex-wrap:wrap;\n",
              "      gap: 12px;\n",
              "    }\n",
              "\n",
              "    .colab-df-convert {\n",
              "      background-color: #E8F0FE;\n",
              "      border: none;\n",
              "      border-radius: 50%;\n",
              "      cursor: pointer;\n",
              "      display: none;\n",
              "      fill: #1967D2;\n",
              "      height: 32px;\n",
              "      padding: 0 0 0 0;\n",
              "      width: 32px;\n",
              "    }\n",
              "\n",
              "    .colab-df-convert:hover {\n",
              "      background-color: #E2EBFA;\n",
              "      box-shadow: 0px 1px 2px rgba(60, 64, 67, 0.3), 0px 1px 3px 1px rgba(60, 64, 67, 0.15);\n",
              "      fill: #174EA6;\n",
              "    }\n",
              "\n",
              "    [theme=dark] .colab-df-convert {\n",
              "      background-color: #3B4455;\n",
              "      fill: #D2E3FC;\n",
              "    }\n",
              "\n",
              "    [theme=dark] .colab-df-convert:hover {\n",
              "      background-color: #434B5C;\n",
              "      box-shadow: 0px 1px 3px 1px rgba(0, 0, 0, 0.15);\n",
              "      filter: drop-shadow(0px 1px 2px rgba(0, 0, 0, 0.3));\n",
              "      fill: #FFFFFF;\n",
              "    }\n",
              "  </style>\n",
              "\n",
              "      <script>\n",
              "        const buttonEl =\n",
              "          document.querySelector('#df-476d59c0-1fe2-4fb9-8551-be4f735ee101 button.colab-df-convert');\n",
              "        buttonEl.style.display =\n",
              "          google.colab.kernel.accessAllowed ? 'block' : 'none';\n",
              "\n",
              "        async function convertToInteractive(key) {\n",
              "          const element = document.querySelector('#df-476d59c0-1fe2-4fb9-8551-be4f735ee101');\n",
              "          const dataTable =\n",
              "            await google.colab.kernel.invokeFunction('convertToInteractive',\n",
              "                                                     [key], {});\n",
              "          if (!dataTable) return;\n",
              "\n",
              "          const docLinkHtml = 'Like what you see? Visit the ' +\n",
              "            '<a target=\"_blank\" href=https://colab.research.google.com/notebooks/data_table.ipynb>data table notebook</a>'\n",
              "            + ' to learn more about interactive tables.';\n",
              "          element.innerHTML = '';\n",
              "          dataTable['output_type'] = 'display_data';\n",
              "          await google.colab.output.renderOutput(dataTable, element);\n",
              "          const docLink = document.createElement('div');\n",
              "          docLink.innerHTML = docLinkHtml;\n",
              "          element.appendChild(docLink);\n",
              "        }\n",
              "      </script>\n",
              "    </div>\n",
              "  </div>\n",
              "  "
            ]
          },
          "metadata": {},
          "execution_count": 41
        }
      ]
    },
    {
      "cell_type": "code",
      "source": [
        "tr_dr_rank['dr_rank2'] = tr_dr_rank['dr_rank'].rank(method='dense', ascending=True)\n",
        "#tr_dr_rank['dr_rank2'] = [i/5 + 1 for i in range(tr_dr_rank.shape[0])] #i+1로 하면 1~472로 너무 커지는 것 같아서 수정했는데, 다른 스케일링 이용할지?#\n",
        "#로그 스케일링 한 거니까 랭크 매기기 전 값으로 진행하면..? 일단 매기기 전 값이 dr_rank, 랭크가 dr_rank2"
      ],
      "metadata": {
        "id": "1tm7LhbvTRhm"
      },
      "execution_count": 42,
      "outputs": []
    },
    {
      "cell_type": "code",
      "source": [
        "tr_dr_rank"
      ],
      "metadata": {
        "id": "U-Uwe2SATVw_",
        "colab": {
          "base_uri": "https://localhost:8080/",
          "height": 424
        },
        "outputId": "e57c3236-5ea6-4871-cb5b-43887b1c3587"
      },
      "execution_count": 43,
      "outputs": [
        {
          "output_type": "execute_result",
          "data": {
            "text/plain": [
              "    director    dr_rank  dr_rank2\n",
              "125      노성수   0.693147       1.0\n",
              "85       김정호   1.098612       2.0\n",
              "10       고구마   2.197225       3.0\n",
              "289      이세일   2.397895       4.0\n",
              "411      진광교   3.610918       5.0\n",
              "..       ...        ...       ...\n",
              "448      한재림  16.027712     464.0\n",
              "201      봉준호  16.050925     465.0\n",
              "241      양우석  16.246918     466.0\n",
              "416      최동훈  16.368485     467.0\n",
              "264      윤제균  16.473163     468.0\n",
              "\n",
              "[472 rows x 3 columns]"
            ],
            "text/html": [
              "\n",
              "  <div id=\"df-45fecf39-e79a-47ee-ac34-7cc4bc93e048\">\n",
              "    <div class=\"colab-df-container\">\n",
              "      <div>\n",
              "<style scoped>\n",
              "    .dataframe tbody tr th:only-of-type {\n",
              "        vertical-align: middle;\n",
              "    }\n",
              "\n",
              "    .dataframe tbody tr th {\n",
              "        vertical-align: top;\n",
              "    }\n",
              "\n",
              "    .dataframe thead th {\n",
              "        text-align: right;\n",
              "    }\n",
              "</style>\n",
              "<table border=\"1\" class=\"dataframe\">\n",
              "  <thead>\n",
              "    <tr style=\"text-align: right;\">\n",
              "      <th></th>\n",
              "      <th>director</th>\n",
              "      <th>dr_rank</th>\n",
              "      <th>dr_rank2</th>\n",
              "    </tr>\n",
              "  </thead>\n",
              "  <tbody>\n",
              "    <tr>\n",
              "      <th>125</th>\n",
              "      <td>노성수</td>\n",
              "      <td>0.693147</td>\n",
              "      <td>1.0</td>\n",
              "    </tr>\n",
              "    <tr>\n",
              "      <th>85</th>\n",
              "      <td>김정호</td>\n",
              "      <td>1.098612</td>\n",
              "      <td>2.0</td>\n",
              "    </tr>\n",
              "    <tr>\n",
              "      <th>10</th>\n",
              "      <td>고구마</td>\n",
              "      <td>2.197225</td>\n",
              "      <td>3.0</td>\n",
              "    </tr>\n",
              "    <tr>\n",
              "      <th>289</th>\n",
              "      <td>이세일</td>\n",
              "      <td>2.397895</td>\n",
              "      <td>4.0</td>\n",
              "    </tr>\n",
              "    <tr>\n",
              "      <th>411</th>\n",
              "      <td>진광교</td>\n",
              "      <td>3.610918</td>\n",
              "      <td>5.0</td>\n",
              "    </tr>\n",
              "    <tr>\n",
              "      <th>...</th>\n",
              "      <td>...</td>\n",
              "      <td>...</td>\n",
              "      <td>...</td>\n",
              "    </tr>\n",
              "    <tr>\n",
              "      <th>448</th>\n",
              "      <td>한재림</td>\n",
              "      <td>16.027712</td>\n",
              "      <td>464.0</td>\n",
              "    </tr>\n",
              "    <tr>\n",
              "      <th>201</th>\n",
              "      <td>봉준호</td>\n",
              "      <td>16.050925</td>\n",
              "      <td>465.0</td>\n",
              "    </tr>\n",
              "    <tr>\n",
              "      <th>241</th>\n",
              "      <td>양우석</td>\n",
              "      <td>16.246918</td>\n",
              "      <td>466.0</td>\n",
              "    </tr>\n",
              "    <tr>\n",
              "      <th>416</th>\n",
              "      <td>최동훈</td>\n",
              "      <td>16.368485</td>\n",
              "      <td>467.0</td>\n",
              "    </tr>\n",
              "    <tr>\n",
              "      <th>264</th>\n",
              "      <td>윤제균</td>\n",
              "      <td>16.473163</td>\n",
              "      <td>468.0</td>\n",
              "    </tr>\n",
              "  </tbody>\n",
              "</table>\n",
              "<p>472 rows × 3 columns</p>\n",
              "</div>\n",
              "      <button class=\"colab-df-convert\" onclick=\"convertToInteractive('df-45fecf39-e79a-47ee-ac34-7cc4bc93e048')\"\n",
              "              title=\"Convert this dataframe to an interactive table.\"\n",
              "              style=\"display:none;\">\n",
              "        \n",
              "  <svg xmlns=\"http://www.w3.org/2000/svg\" height=\"24px\"viewBox=\"0 0 24 24\"\n",
              "       width=\"24px\">\n",
              "    <path d=\"M0 0h24v24H0V0z\" fill=\"none\"/>\n",
              "    <path d=\"M18.56 5.44l.94 2.06.94-2.06 2.06-.94-2.06-.94-.94-2.06-.94 2.06-2.06.94zm-11 1L8.5 8.5l.94-2.06 2.06-.94-2.06-.94L8.5 2.5l-.94 2.06-2.06.94zm10 10l.94 2.06.94-2.06 2.06-.94-2.06-.94-.94-2.06-.94 2.06-2.06.94z\"/><path d=\"M17.41 7.96l-1.37-1.37c-.4-.4-.92-.59-1.43-.59-.52 0-1.04.2-1.43.59L10.3 9.45l-7.72 7.72c-.78.78-.78 2.05 0 2.83L4 21.41c.39.39.9.59 1.41.59.51 0 1.02-.2 1.41-.59l7.78-7.78 2.81-2.81c.8-.78.8-2.07 0-2.86zM5.41 20L4 18.59l7.72-7.72 1.47 1.35L5.41 20z\"/>\n",
              "  </svg>\n",
              "      </button>\n",
              "      \n",
              "  <style>\n",
              "    .colab-df-container {\n",
              "      display:flex;\n",
              "      flex-wrap:wrap;\n",
              "      gap: 12px;\n",
              "    }\n",
              "\n",
              "    .colab-df-convert {\n",
              "      background-color: #E8F0FE;\n",
              "      border: none;\n",
              "      border-radius: 50%;\n",
              "      cursor: pointer;\n",
              "      display: none;\n",
              "      fill: #1967D2;\n",
              "      height: 32px;\n",
              "      padding: 0 0 0 0;\n",
              "      width: 32px;\n",
              "    }\n",
              "\n",
              "    .colab-df-convert:hover {\n",
              "      background-color: #E2EBFA;\n",
              "      box-shadow: 0px 1px 2px rgba(60, 64, 67, 0.3), 0px 1px 3px 1px rgba(60, 64, 67, 0.15);\n",
              "      fill: #174EA6;\n",
              "    }\n",
              "\n",
              "    [theme=dark] .colab-df-convert {\n",
              "      background-color: #3B4455;\n",
              "      fill: #D2E3FC;\n",
              "    }\n",
              "\n",
              "    [theme=dark] .colab-df-convert:hover {\n",
              "      background-color: #434B5C;\n",
              "      box-shadow: 0px 1px 3px 1px rgba(0, 0, 0, 0.15);\n",
              "      filter: drop-shadow(0px 1px 2px rgba(0, 0, 0, 0.3));\n",
              "      fill: #FFFFFF;\n",
              "    }\n",
              "  </style>\n",
              "\n",
              "      <script>\n",
              "        const buttonEl =\n",
              "          document.querySelector('#df-45fecf39-e79a-47ee-ac34-7cc4bc93e048 button.colab-df-convert');\n",
              "        buttonEl.style.display =\n",
              "          google.colab.kernel.accessAllowed ? 'block' : 'none';\n",
              "\n",
              "        async function convertToInteractive(key) {\n",
              "          const element = document.querySelector('#df-45fecf39-e79a-47ee-ac34-7cc4bc93e048');\n",
              "          const dataTable =\n",
              "            await google.colab.kernel.invokeFunction('convertToInteractive',\n",
              "                                                     [key], {});\n",
              "          if (!dataTable) return;\n",
              "\n",
              "          const docLinkHtml = 'Like what you see? Visit the ' +\n",
              "            '<a target=\"_blank\" href=https://colab.research.google.com/notebooks/data_table.ipynb>data table notebook</a>'\n",
              "            + ' to learn more about interactive tables.';\n",
              "          element.innerHTML = '';\n",
              "          dataTable['output_type'] = 'display_data';\n",
              "          await google.colab.output.renderOutput(dataTable, element);\n",
              "          const docLink = document.createElement('div');\n",
              "          docLink.innerHTML = docLinkHtml;\n",
              "          element.appendChild(docLink);\n",
              "        }\n",
              "      </script>\n",
              "    </div>\n",
              "  </div>\n",
              "  "
            ]
          },
          "metadata": {},
          "execution_count": 43
        }
      ]
    },
    {
      "cell_type": "code",
      "source": [
        "#dr_rank, dr_rank2 원래 데이터에 추가\n",
        "#df6_OUTER_JOIN = pd.merge(train,tr_dr_rank, left_on='director', right_on='director', how='outer')\n",
        "#train = pd.DataFrame(df6_OUTER_JOIN)\n",
        "\n",
        "#join6=pd.merge(test,tr_dr_rank,left_on='director', right_on='director', how='left')\n",
        "#test = pd.DataFrame(join6)\n",
        "\n",
        "train = pd.merge(train, tr_dr_rank, how = 'left')\n",
        "test = pd.merge(test, tr_dr_rank, how = 'left')"
      ],
      "metadata": {
        "id": "yRQrs2Jb5xOZ"
      },
      "execution_count": 44,
      "outputs": []
    },
    {
      "cell_type": "code",
      "source": [
        "train.head()"
      ],
      "metadata": {
        "id": "MCZ1Pc9A59xJ",
        "colab": {
          "base_uri": "https://localhost:8080/",
          "height": 300
        },
        "outputId": "4908c52e-fa87-42d5-cc7f-7dd3ce085235"
      },
      "execution_count": 45,
      "outputs": [
        {
          "output_type": "execute_result",
          "data": {
            "text/plain": [
              "  screening_rat director  dir_prev_bfnum  dir_prev_num  num_staff  num_actor  \\\n",
              "0      청소년 관람불가      조병옥             NaN             0         91          2   \n",
              "1       15세 관람가      황병국             NaN             0        253          6   \n",
              "2       15세 관람가      김한민    2.079989e+06             1        687          4   \n",
              "3       12세 관람가      천성일    4.385472e+06             2        388          2   \n",
              "4       15세 관람가      박흥식    1.209303e+05             3        439          3   \n",
              "\n",
              "   box_off_num  dist_rank  genre_rank  release_year_0  ...  release_quarter_1  \\\n",
              "0        23398        134          11               0  ...                  0   \n",
              "1      1118258        134          11               0  ...                  0   \n",
              "2      7482180        134          11               0  ...                  1   \n",
              "3       609063        134          11               0  ...                  1   \n",
              "4       431310        134          11               0  ...                  1   \n",
              "\n",
              "   release_quarter_2  release_day_0  release_day_1  release_day_2  \\\n",
              "0                  1              0              0              0   \n",
              "1                  1              0              0              0   \n",
              "2                  0              0              0              0   \n",
              "3                  0              0              0              0   \n",
              "4                  0              0              0              1   \n",
              "\n",
              "   release_day_3  release_day_4  time_log    dr_rank  dr_rank2  \n",
              "0              0              1  4.574711  10.060449     261.0  \n",
              "1              1              0  4.718499  13.927284     388.0  \n",
              "2              1              1  4.812184  15.828035     461.0  \n",
              "3              1              0  4.727388  13.319679     363.0  \n",
              "4              0              0  4.804021  12.974585     339.0  \n",
              "\n",
              "[5 rows x 27 columns]"
            ],
            "text/html": [
              "\n",
              "  <div id=\"df-5dc73d08-4308-42c1-8bb5-16f35f1124f9\">\n",
              "    <div class=\"colab-df-container\">\n",
              "      <div>\n",
              "<style scoped>\n",
              "    .dataframe tbody tr th:only-of-type {\n",
              "        vertical-align: middle;\n",
              "    }\n",
              "\n",
              "    .dataframe tbody tr th {\n",
              "        vertical-align: top;\n",
              "    }\n",
              "\n",
              "    .dataframe thead th {\n",
              "        text-align: right;\n",
              "    }\n",
              "</style>\n",
              "<table border=\"1\" class=\"dataframe\">\n",
              "  <thead>\n",
              "    <tr style=\"text-align: right;\">\n",
              "      <th></th>\n",
              "      <th>screening_rat</th>\n",
              "      <th>director</th>\n",
              "      <th>dir_prev_bfnum</th>\n",
              "      <th>dir_prev_num</th>\n",
              "      <th>num_staff</th>\n",
              "      <th>num_actor</th>\n",
              "      <th>box_off_num</th>\n",
              "      <th>dist_rank</th>\n",
              "      <th>genre_rank</th>\n",
              "      <th>release_year_0</th>\n",
              "      <th>...</th>\n",
              "      <th>release_quarter_1</th>\n",
              "      <th>release_quarter_2</th>\n",
              "      <th>release_day_0</th>\n",
              "      <th>release_day_1</th>\n",
              "      <th>release_day_2</th>\n",
              "      <th>release_day_3</th>\n",
              "      <th>release_day_4</th>\n",
              "      <th>time_log</th>\n",
              "      <th>dr_rank</th>\n",
              "      <th>dr_rank2</th>\n",
              "    </tr>\n",
              "  </thead>\n",
              "  <tbody>\n",
              "    <tr>\n",
              "      <th>0</th>\n",
              "      <td>청소년 관람불가</td>\n",
              "      <td>조병옥</td>\n",
              "      <td>NaN</td>\n",
              "      <td>0</td>\n",
              "      <td>91</td>\n",
              "      <td>2</td>\n",
              "      <td>23398</td>\n",
              "      <td>134</td>\n",
              "      <td>11</td>\n",
              "      <td>0</td>\n",
              "      <td>...</td>\n",
              "      <td>0</td>\n",
              "      <td>1</td>\n",
              "      <td>0</td>\n",
              "      <td>0</td>\n",
              "      <td>0</td>\n",
              "      <td>0</td>\n",
              "      <td>1</td>\n",
              "      <td>4.574711</td>\n",
              "      <td>10.060449</td>\n",
              "      <td>261.0</td>\n",
              "    </tr>\n",
              "    <tr>\n",
              "      <th>1</th>\n",
              "      <td>15세 관람가</td>\n",
              "      <td>황병국</td>\n",
              "      <td>NaN</td>\n",
              "      <td>0</td>\n",
              "      <td>253</td>\n",
              "      <td>6</td>\n",
              "      <td>1118258</td>\n",
              "      <td>134</td>\n",
              "      <td>11</td>\n",
              "      <td>0</td>\n",
              "      <td>...</td>\n",
              "      <td>0</td>\n",
              "      <td>1</td>\n",
              "      <td>0</td>\n",
              "      <td>0</td>\n",
              "      <td>0</td>\n",
              "      <td>1</td>\n",
              "      <td>0</td>\n",
              "      <td>4.718499</td>\n",
              "      <td>13.927284</td>\n",
              "      <td>388.0</td>\n",
              "    </tr>\n",
              "    <tr>\n",
              "      <th>2</th>\n",
              "      <td>15세 관람가</td>\n",
              "      <td>김한민</td>\n",
              "      <td>2.079989e+06</td>\n",
              "      <td>1</td>\n",
              "      <td>687</td>\n",
              "      <td>4</td>\n",
              "      <td>7482180</td>\n",
              "      <td>134</td>\n",
              "      <td>11</td>\n",
              "      <td>0</td>\n",
              "      <td>...</td>\n",
              "      <td>1</td>\n",
              "      <td>0</td>\n",
              "      <td>0</td>\n",
              "      <td>0</td>\n",
              "      <td>0</td>\n",
              "      <td>1</td>\n",
              "      <td>1</td>\n",
              "      <td>4.812184</td>\n",
              "      <td>15.828035</td>\n",
              "      <td>461.0</td>\n",
              "    </tr>\n",
              "    <tr>\n",
              "      <th>3</th>\n",
              "      <td>12세 관람가</td>\n",
              "      <td>천성일</td>\n",
              "      <td>4.385472e+06</td>\n",
              "      <td>2</td>\n",
              "      <td>388</td>\n",
              "      <td>2</td>\n",
              "      <td>609063</td>\n",
              "      <td>134</td>\n",
              "      <td>11</td>\n",
              "      <td>0</td>\n",
              "      <td>...</td>\n",
              "      <td>1</td>\n",
              "      <td>0</td>\n",
              "      <td>0</td>\n",
              "      <td>0</td>\n",
              "      <td>0</td>\n",
              "      <td>1</td>\n",
              "      <td>0</td>\n",
              "      <td>4.727388</td>\n",
              "      <td>13.319679</td>\n",
              "      <td>363.0</td>\n",
              "    </tr>\n",
              "    <tr>\n",
              "      <th>4</th>\n",
              "      <td>15세 관람가</td>\n",
              "      <td>박흥식</td>\n",
              "      <td>1.209303e+05</td>\n",
              "      <td>3</td>\n",
              "      <td>439</td>\n",
              "      <td>3</td>\n",
              "      <td>431310</td>\n",
              "      <td>134</td>\n",
              "      <td>11</td>\n",
              "      <td>0</td>\n",
              "      <td>...</td>\n",
              "      <td>1</td>\n",
              "      <td>0</td>\n",
              "      <td>0</td>\n",
              "      <td>0</td>\n",
              "      <td>1</td>\n",
              "      <td>0</td>\n",
              "      <td>0</td>\n",
              "      <td>4.804021</td>\n",
              "      <td>12.974585</td>\n",
              "      <td>339.0</td>\n",
              "    </tr>\n",
              "  </tbody>\n",
              "</table>\n",
              "<p>5 rows × 27 columns</p>\n",
              "</div>\n",
              "      <button class=\"colab-df-convert\" onclick=\"convertToInteractive('df-5dc73d08-4308-42c1-8bb5-16f35f1124f9')\"\n",
              "              title=\"Convert this dataframe to an interactive table.\"\n",
              "              style=\"display:none;\">\n",
              "        \n",
              "  <svg xmlns=\"http://www.w3.org/2000/svg\" height=\"24px\"viewBox=\"0 0 24 24\"\n",
              "       width=\"24px\">\n",
              "    <path d=\"M0 0h24v24H0V0z\" fill=\"none\"/>\n",
              "    <path d=\"M18.56 5.44l.94 2.06.94-2.06 2.06-.94-2.06-.94-.94-2.06-.94 2.06-2.06.94zm-11 1L8.5 8.5l.94-2.06 2.06-.94-2.06-.94L8.5 2.5l-.94 2.06-2.06.94zm10 10l.94 2.06.94-2.06 2.06-.94-2.06-.94-.94-2.06-.94 2.06-2.06.94z\"/><path d=\"M17.41 7.96l-1.37-1.37c-.4-.4-.92-.59-1.43-.59-.52 0-1.04.2-1.43.59L10.3 9.45l-7.72 7.72c-.78.78-.78 2.05 0 2.83L4 21.41c.39.39.9.59 1.41.59.51 0 1.02-.2 1.41-.59l7.78-7.78 2.81-2.81c.8-.78.8-2.07 0-2.86zM5.41 20L4 18.59l7.72-7.72 1.47 1.35L5.41 20z\"/>\n",
              "  </svg>\n",
              "      </button>\n",
              "      \n",
              "  <style>\n",
              "    .colab-df-container {\n",
              "      display:flex;\n",
              "      flex-wrap:wrap;\n",
              "      gap: 12px;\n",
              "    }\n",
              "\n",
              "    .colab-df-convert {\n",
              "      background-color: #E8F0FE;\n",
              "      border: none;\n",
              "      border-radius: 50%;\n",
              "      cursor: pointer;\n",
              "      display: none;\n",
              "      fill: #1967D2;\n",
              "      height: 32px;\n",
              "      padding: 0 0 0 0;\n",
              "      width: 32px;\n",
              "    }\n",
              "\n",
              "    .colab-df-convert:hover {\n",
              "      background-color: #E2EBFA;\n",
              "      box-shadow: 0px 1px 2px rgba(60, 64, 67, 0.3), 0px 1px 3px 1px rgba(60, 64, 67, 0.15);\n",
              "      fill: #174EA6;\n",
              "    }\n",
              "\n",
              "    [theme=dark] .colab-df-convert {\n",
              "      background-color: #3B4455;\n",
              "      fill: #D2E3FC;\n",
              "    }\n",
              "\n",
              "    [theme=dark] .colab-df-convert:hover {\n",
              "      background-color: #434B5C;\n",
              "      box-shadow: 0px 1px 3px 1px rgba(0, 0, 0, 0.15);\n",
              "      filter: drop-shadow(0px 1px 2px rgba(0, 0, 0, 0.3));\n",
              "      fill: #FFFFFF;\n",
              "    }\n",
              "  </style>\n",
              "\n",
              "      <script>\n",
              "        const buttonEl =\n",
              "          document.querySelector('#df-5dc73d08-4308-42c1-8bb5-16f35f1124f9 button.colab-df-convert');\n",
              "        buttonEl.style.display =\n",
              "          google.colab.kernel.accessAllowed ? 'block' : 'none';\n",
              "\n",
              "        async function convertToInteractive(key) {\n",
              "          const element = document.querySelector('#df-5dc73d08-4308-42c1-8bb5-16f35f1124f9');\n",
              "          const dataTable =\n",
              "            await google.colab.kernel.invokeFunction('convertToInteractive',\n",
              "                                                     [key], {});\n",
              "          if (!dataTable) return;\n",
              "\n",
              "          const docLinkHtml = 'Like what you see? Visit the ' +\n",
              "            '<a target=\"_blank\" href=https://colab.research.google.com/notebooks/data_table.ipynb>data table notebook</a>'\n",
              "            + ' to learn more about interactive tables.';\n",
              "          element.innerHTML = '';\n",
              "          dataTable['output_type'] = 'display_data';\n",
              "          await google.colab.output.renderOutput(dataTable, element);\n",
              "          const docLink = document.createElement('div');\n",
              "          docLink.innerHTML = docLinkHtml;\n",
              "          element.appendChild(docLink);\n",
              "        }\n",
              "      </script>\n",
              "    </div>\n",
              "  </div>\n",
              "  "
            ]
          },
          "metadata": {},
          "execution_count": 45
        }
      ]
    },
    {
      "cell_type": "code",
      "source": [
        "test.fillna(test.median(), inplace = True)"
      ],
      "metadata": {
        "id": "WGO4RrIpE1gl"
      },
      "execution_count": 46,
      "outputs": []
    },
    {
      "cell_type": "code",
      "source": [
        "test.info()"
      ],
      "metadata": {
        "id": "E7vYUcjCAqrn",
        "colab": {
          "base_uri": "https://localhost:8080/"
        },
        "outputId": "b7cc7764-fb28-410b-ba60-9f1ada2609a0"
      },
      "execution_count": 47,
      "outputs": [
        {
          "output_type": "stream",
          "name": "stdout",
          "text": [
            "<class 'pandas.core.frame.DataFrame'>\n",
            "Int64Index: 243 entries, 0 to 242\n",
            "Data columns (total 26 columns):\n",
            " #   Column             Non-Null Count  Dtype  \n",
            "---  ------             --------------  -----  \n",
            " 0   screening_rat      243 non-null    object \n",
            " 1   director           243 non-null    object \n",
            " 2   dir_prev_bfnum     243 non-null    float64\n",
            " 3   dir_prev_num       243 non-null    int64  \n",
            " 4   num_staff          243 non-null    int64  \n",
            " 5   num_actor          243 non-null    int64  \n",
            " 6   dist_rank          243 non-null    float64\n",
            " 7   genre_rank         243 non-null    int64  \n",
            " 8   release_year_0     243 non-null    int64  \n",
            " 9   release_year_1     243 non-null    int64  \n",
            " 10  release_year_2     243 non-null    int64  \n",
            " 11  release_month_0    243 non-null    int64  \n",
            " 12  release_month_1    243 non-null    int64  \n",
            " 13  release_month_2    243 non-null    int64  \n",
            " 14  release_month_3    243 non-null    int64  \n",
            " 15  release_quarter_0  243 non-null    int64  \n",
            " 16  release_quarter_1  243 non-null    int64  \n",
            " 17  release_quarter_2  243 non-null    int64  \n",
            " 18  release_day_0      243 non-null    int64  \n",
            " 19  release_day_1      243 non-null    int64  \n",
            " 20  release_day_2      243 non-null    int64  \n",
            " 21  release_day_3      243 non-null    int64  \n",
            " 22  release_day_4      243 non-null    int64  \n",
            " 23  time_log           243 non-null    float64\n",
            " 24  dr_rank            243 non-null    float64\n",
            " 25  dr_rank2           243 non-null    float64\n",
            "dtypes: float64(5), int64(19), object(2)\n",
            "memory usage: 51.3+ KB\n"
          ]
        }
      ]
    },
    {
      "cell_type": "markdown",
      "source": [
        "## 7) 감독의 전작영화 평균 관객 수 (dir_prev_bfnum)"
      ],
      "metadata": {
        "id": "QxSi6382nHk8"
      }
    },
    {
      "cell_type": "markdown",
      "source": [
        "### * 결측치 처리"
      ],
      "metadata": {
        "id": "bDep4ewzBEit"
      }
    },
    {
      "cell_type": "code",
      "source": [
        "train['dir_prev_bfnum'].isnull().sum()"
      ],
      "metadata": {
        "id": "n09c1qwP_E9H",
        "colab": {
          "base_uri": "https://localhost:8080/"
        },
        "outputId": "086a9400-f11b-416c-f83c-a7eaf3e4731e"
      },
      "execution_count": 48,
      "outputs": [
        {
          "output_type": "execute_result",
          "data": {
            "text/plain": [
              "330"
            ]
          },
          "metadata": {},
          "execution_count": 48
        }
      ]
    },
    {
      "cell_type": "code",
      "source": [
        "train.fillna(0, inplace = True)\n",
        "test.fillna(0, inplace = True)\n",
        "train['dir_prev_bfnum'].isnull().sum()"
      ],
      "metadata": {
        "id": "a8msw0FXBAWj",
        "colab": {
          "base_uri": "https://localhost:8080/"
        },
        "outputId": "dfd948b2-a262-4ca7-f52d-c7a99b186a5d"
      },
      "execution_count": 49,
      "outputs": [
        {
          "output_type": "execute_result",
          "data": {
            "text/plain": [
              "0"
            ]
          },
          "metadata": {},
          "execution_count": 49
        }
      ]
    },
    {
      "cell_type": "markdown",
      "source": [
        "### * 랭크 인코딩\n",
        "* 위와 같은 방법"
      ],
      "metadata": {
        "id": "6B4-SfAWCGg7"
      }
    },
    {
      "cell_type": "markdown",
      "source": [
        "director_num = train.groupby('director')['dir_prev_bfnum'].sum().sort_values(ascending=False)\n",
        "df7 = pd.DataFrame(director_num)\n",
        "df7[\"director\"]= df7.index #director 열 생성\n",
        "plt.rcParams['figure.figsize'] = [10,10] \n",
        "ax = plt.subplots()\n",
        "ax = sns.barplot(x='dir_prev_bfnum', y='director',data = df7)"
      ],
      "metadata": {
        "id": "dqS5g5nEUDq_"
      }
    },
    {
      "cell_type": "code",
      "source": [
        "#위의 그래프가 왜곡되어있으므로 log1p 변환을 통해 왜곡 정도 향상\n",
        "director_num = train.groupby('director')['dir_prev_bfnum'].sum().sort_values(ascending=False)\n",
        "df7 = pd.DataFrame(director_num)\n",
        "df7[\"director\"]= df7.index #director 열 생성\n",
        "plt.rcParams['figure.figsize'] = [10,10] \n",
        "df7['dir_prev_bfnum']=np.log1p(df7['dir_prev_bfnum']) \n",
        "ax = plt.subplots()\n",
        "ax = sns.barplot(x='dir_prev_bfnum', y='director',data = df7)"
      ],
      "metadata": {
        "id": "5BTT_b5oTrxW",
        "colab": {
          "base_uri": "https://localhost:8080/",
          "height": 610
        },
        "outputId": "8f1bab16-c96e-473e-ee9a-1333a61704da"
      },
      "execution_count": 50,
      "outputs": [
        {
          "output_type": "display_data",
          "data": {
            "text/plain": [
              "<Figure size 720x720 with 1 Axes>"
            ],
            "image/png": "[encoded data removed]"
          },
          "metadata": {
            "needs_background": "light"
          }
        }
      ]
    },
    {
      "cell_type": "code",
      "source": [
        "df7.drop(['director'], axis=1, inplace=True)\n",
        "tr_drbf_rank = df7.groupby('director').dir_prev_bfnum.median().reset_index(name = 'drbf_rank').sort_values(by = 'drbf_rank')\n",
        "tr_drbf_rank"
      ],
      "metadata": {
        "id": "S-gMZOemUV-5",
        "colab": {
          "base_uri": "https://localhost:8080/",
          "height": 424
        },
        "outputId": "19850b38-f9cc-4272-b93f-a44c5f076dce"
      },
      "execution_count": 51,
      "outputs": [
        {
          "output_type": "execute_result",
          "data": {
            "text/plain": [
              "       director  drbf_rank\n",
              "0    New Pistol   0.000000\n",
              "277         이대희   0.000000\n",
              "275        이길보라   0.000000\n",
              "273         이규만   0.000000\n",
              "272         이광호   0.000000\n",
              "..          ...        ...\n",
              "62          김상진  15.871628\n",
              "232         심형래  15.876721\n",
              "53          김민석  15.990449\n",
              "5           강형철  16.591959\n",
              "10          고구마  16.684279\n",
              "\n",
              "[472 rows x 2 columns]"
            ],
            "text/html": [
              "\n",
              "  <div id=\"df-d5235266-f3d0-419d-8626-9d8abd0fb6ab\">\n",
              "    <div class=\"colab-df-container\">\n",
              "      <div>\n",
              "<style scoped>\n",
              "    .dataframe tbody tr th:only-of-type {\n",
              "        vertical-align: middle;\n",
              "    }\n",
              "\n",
              "    .dataframe tbody tr th {\n",
              "        vertical-align: top;\n",
              "    }\n",
              "\n",
              "    .dataframe thead th {\n",
              "        text-align: right;\n",
              "    }\n",
              "</style>\n",
              "<table border=\"1\" class=\"dataframe\">\n",
              "  <thead>\n",
              "    <tr style=\"text-align: right;\">\n",
              "      <th></th>\n",
              "      <th>director</th>\n",
              "      <th>drbf_rank</th>\n",
              "    </tr>\n",
              "  </thead>\n",
              "  <tbody>\n",
              "    <tr>\n",
              "      <th>0</th>\n",
              "      <td>New Pistol</td>\n",
              "      <td>0.000000</td>\n",
              "    </tr>\n",
              "    <tr>\n",
              "      <th>277</th>\n",
              "      <td>이대희</td>\n",
              "      <td>0.000000</td>\n",
              "    </tr>\n",
              "    <tr>\n",
              "      <th>275</th>\n",
              "      <td>이길보라</td>\n",
              "      <td>0.000000</td>\n",
              "    </tr>\n",
              "    <tr>\n",
              "      <th>273</th>\n",
              "      <td>이규만</td>\n",
              "      <td>0.000000</td>\n",
              "    </tr>\n",
              "    <tr>\n",
              "      <th>272</th>\n",
              "      <td>이광호</td>\n",
              "      <td>0.000000</td>\n",
              "    </tr>\n",
              "    <tr>\n",
              "      <th>...</th>\n",
              "      <td>...</td>\n",
              "      <td>...</td>\n",
              "    </tr>\n",
              "    <tr>\n",
              "      <th>62</th>\n",
              "      <td>김상진</td>\n",
              "      <td>15.871628</td>\n",
              "    </tr>\n",
              "    <tr>\n",
              "      <th>232</th>\n",
              "      <td>심형래</td>\n",
              "      <td>15.876721</td>\n",
              "    </tr>\n",
              "    <tr>\n",
              "      <th>53</th>\n",
              "      <td>김민석</td>\n",
              "      <td>15.990449</td>\n",
              "    </tr>\n",
              "    <tr>\n",
              "      <th>5</th>\n",
              "      <td>강형철</td>\n",
              "      <td>16.591959</td>\n",
              "    </tr>\n",
              "    <tr>\n",
              "      <th>10</th>\n",
              "      <td>고구마</td>\n",
              "      <td>16.684279</td>\n",
              "    </tr>\n",
              "  </tbody>\n",
              "</table>\n",
              "<p>472 rows × 2 columns</p>\n",
              "</div>\n",
              "      <button class=\"colab-df-convert\" onclick=\"convertToInteractive('df-d5235266-f3d0-419d-8626-9d8abd0fb6ab')\"\n",
              "              title=\"Convert this dataframe to an interactive table.\"\n",
              "              style=\"display:none;\">\n",
              "        \n",
              "  <svg xmlns=\"http://www.w3.org/2000/svg\" height=\"24px\"viewBox=\"0 0 24 24\"\n",
              "       width=\"24px\">\n",
              "    <path d=\"M0 0h24v24H0V0z\" fill=\"none\"/>\n",
              "    <path d=\"M18.56 5.44l.94 2.06.94-2.06 2.06-.94-2.06-.94-.94-2.06-.94 2.06-2.06.94zm-11 1L8.5 8.5l.94-2.06 2.06-.94-2.06-.94L8.5 2.5l-.94 2.06-2.06.94zm10 10l.94 2.06.94-2.06 2.06-.94-2.06-.94-.94-2.06-.94 2.06-2.06.94z\"/><path d=\"M17.41 7.96l-1.37-1.37c-.4-.4-.92-.59-1.43-.59-.52 0-1.04.2-1.43.59L10.3 9.45l-7.72 7.72c-.78.78-.78 2.05 0 2.83L4 21.41c.39.39.9.59 1.41.59.51 0 1.02-.2 1.41-.59l7.78-7.78 2.81-2.81c.8-.78.8-2.07 0-2.86zM5.41 20L4 18.59l7.72-7.72 1.47 1.35L5.41 20z\"/>\n",
              "  </svg>\n",
              "      </button>\n",
              "      \n",
              "  <style>\n",
              "    .colab-df-container {\n",
              "      display:flex;\n",
              "      flex-wrap:wrap;\n",
              "      gap: 12px;\n",
              "    }\n",
              "\n",
              "    .colab-df-convert {\n",
              "      background-color: #E8F0FE;\n",
              "      border: none;\n",
              "      border-radius: 50%;\n",
              "      cursor: pointer;\n",
              "      display: none;\n",
              "      fill: #1967D2;\n",
              "      height: 32px;\n",
              "      padding: 0 0 0 0;\n",
              "      width: 32px;\n",
              "    }\n",
              "\n",
              "    .colab-df-convert:hover {\n",
              "      background-color: #E2EBFA;\n",
              "      box-shadow: 0px 1px 2px rgba(60, 64, 67, 0.3), 0px 1px 3px 1px rgba(60, 64, 67, 0.15);\n",
              "      fill: #174EA6;\n",
              "    }\n",
              "\n",
              "    [theme=dark] .colab-df-convert {\n",
              "      background-color: #3B4455;\n",
              "      fill: #D2E3FC;\n",
              "    }\n",
              "\n",
              "    [theme=dark] .colab-df-convert:hover {\n",
              "      background-color: #434B5C;\n",
              "      box-shadow: 0px 1px 3px 1px rgba(0, 0, 0, 0.15);\n",
              "      filter: drop-shadow(0px 1px 2px rgba(0, 0, 0, 0.3));\n",
              "      fill: #FFFFFF;\n",
              "    }\n",
              "  </style>\n",
              "\n",
              "      <script>\n",
              "        const buttonEl =\n",
              "          document.querySelector('#df-d5235266-f3d0-419d-8626-9d8abd0fb6ab button.colab-df-convert');\n",
              "        buttonEl.style.display =\n",
              "          google.colab.kernel.accessAllowed ? 'block' : 'none';\n",
              "\n",
              "        async function convertToInteractive(key) {\n",
              "          const element = document.querySelector('#df-d5235266-f3d0-419d-8626-9d8abd0fb6ab');\n",
              "          const dataTable =\n",
              "            await google.colab.kernel.invokeFunction('convertToInteractive',\n",
              "                                                     [key], {});\n",
              "          if (!dataTable) return;\n",
              "\n",
              "          const docLinkHtml = 'Like what you see? Visit the ' +\n",
              "            '<a target=\"_blank\" href=https://colab.research.google.com/notebooks/data_table.ipynb>data table notebook</a>'\n",
              "            + ' to learn more about interactive tables.';\n",
              "          element.innerHTML = '';\n",
              "          dataTable['output_type'] = 'display_data';\n",
              "          await google.colab.output.renderOutput(dataTable, element);\n",
              "          const docLink = document.createElement('div');\n",
              "          docLink.innerHTML = docLinkHtml;\n",
              "          element.appendChild(docLink);\n",
              "        }\n",
              "      </script>\n",
              "    </div>\n",
              "  </div>\n",
              "  "
            ]
          },
          "metadata": {},
          "execution_count": 51
        }
      ]
    },
    {
      "cell_type": "code",
      "source": [
        "tr_drbf_rank['drbf_rank2'] = tr_drbf_rank['drbf_rank'].rank(method='dense', ascending=True)\n",
        "tr_drbf_rank"
      ],
      "metadata": {
        "id": "IIhkpJeI6nE3",
        "colab": {
          "base_uri": "https://localhost:8080/",
          "height": 424
        },
        "outputId": "bbcb39a3-7562-4691-f0c6-67f90a077f04"
      },
      "execution_count": 52,
      "outputs": [
        {
          "output_type": "execute_result",
          "data": {
            "text/plain": [
              "       director  drbf_rank  drbf_rank2\n",
              "0    New Pistol   0.000000         1.0\n",
              "277         이대희   0.000000         1.0\n",
              "275        이길보라   0.000000         1.0\n",
              "273         이규만   0.000000         1.0\n",
              "272         이광호   0.000000         1.0\n",
              "..          ...        ...         ...\n",
              "62          김상진  15.871628       213.0\n",
              "232         심형래  15.876721       214.0\n",
              "53          김민석  15.990449       215.0\n",
              "5           강형철  16.591959       216.0\n",
              "10          고구마  16.684279       217.0\n",
              "\n",
              "[472 rows x 3 columns]"
            ],
            "text/html": [
              "\n",
              "  <div id=\"df-9f45b49c-5a9c-4b99-aa0f-1bab9218de79\">\n",
              "    <div class=\"colab-df-container\">\n",
              "      <div>\n",
              "<style scoped>\n",
              "    .dataframe tbody tr th:only-of-type {\n",
              "        vertical-align: middle;\n",
              "    }\n",
              "\n",
              "    .dataframe tbody tr th {\n",
              "        vertical-align: top;\n",
              "    }\n",
              "\n",
              "    .dataframe thead th {\n",
              "        text-align: right;\n",
              "    }\n",
              "</style>\n",
              "<table border=\"1\" class=\"dataframe\">\n",
              "  <thead>\n",
              "    <tr style=\"text-align: right;\">\n",
              "      <th></th>\n",
              "      <th>director</th>\n",
              "      <th>drbf_rank</th>\n",
              "      <th>drbf_rank2</th>\n",
              "    </tr>\n",
              "  </thead>\n",
              "  <tbody>\n",
              "    <tr>\n",
              "      <th>0</th>\n",
              "      <td>New Pistol</td>\n",
              "      <td>0.000000</td>\n",
              "      <td>1.0</td>\n",
              "    </tr>\n",
              "    <tr>\n",
              "      <th>277</th>\n",
              "      <td>이대희</td>\n",
              "      <td>0.000000</td>\n",
              "      <td>1.0</td>\n",
              "    </tr>\n",
              "    <tr>\n",
              "      <th>275</th>\n",
              "      <td>이길보라</td>\n",
              "      <td>0.000000</td>\n",
              "      <td>1.0</td>\n",
              "    </tr>\n",
              "    <tr>\n",
              "      <th>273</th>\n",
              "      <td>이규만</td>\n",
              "      <td>0.000000</td>\n",
              "      <td>1.0</td>\n",
              "    </tr>\n",
              "    <tr>\n",
              "      <th>272</th>\n",
              "      <td>이광호</td>\n",
              "      <td>0.000000</td>\n",
              "      <td>1.0</td>\n",
              "    </tr>\n",
              "    <tr>\n",
              "      <th>...</th>\n",
              "      <td>...</td>\n",
              "      <td>...</td>\n",
              "      <td>...</td>\n",
              "    </tr>\n",
              "    <tr>\n",
              "      <th>62</th>\n",
              "      <td>김상진</td>\n",
              "      <td>15.871628</td>\n",
              "      <td>213.0</td>\n",
              "    </tr>\n",
              "    <tr>\n",
              "      <th>232</th>\n",
              "      <td>심형래</td>\n",
              "      <td>15.876721</td>\n",
              "      <td>214.0</td>\n",
              "    </tr>\n",
              "    <tr>\n",
              "      <th>53</th>\n",
              "      <td>김민석</td>\n",
              "      <td>15.990449</td>\n",
              "      <td>215.0</td>\n",
              "    </tr>\n",
              "    <tr>\n",
              "      <th>5</th>\n",
              "      <td>강형철</td>\n",
              "      <td>16.591959</td>\n",
              "      <td>216.0</td>\n",
              "    </tr>\n",
              "    <tr>\n",
              "      <th>10</th>\n",
              "      <td>고구마</td>\n",
              "      <td>16.684279</td>\n",
              "      <td>217.0</td>\n",
              "    </tr>\n",
              "  </tbody>\n",
              "</table>\n",
              "<p>472 rows × 3 columns</p>\n",
              "</div>\n",
              "      <button class=\"colab-df-convert\" onclick=\"convertToInteractive('df-9f45b49c-5a9c-4b99-aa0f-1bab9218de79')\"\n",
              "              title=\"Convert this dataframe to an interactive table.\"\n",
              "              style=\"display:none;\">\n",
              "        \n",
              "  <svg xmlns=\"http://www.w3.org/2000/svg\" height=\"24px\"viewBox=\"0 0 24 24\"\n",
              "       width=\"24px\">\n",
              "    <path d=\"M0 0h24v24H0V0z\" fill=\"none\"/>\n",
              "    <path d=\"M18.56 5.44l.94 2.06.94-2.06 2.06-.94-2.06-.94-.94-2.06-.94 2.06-2.06.94zm-11 1L8.5 8.5l.94-2.06 2.06-.94-2.06-.94L8.5 2.5l-.94 2.06-2.06.94zm10 10l.94 2.06.94-2.06 2.06-.94-2.06-.94-.94-2.06-.94 2.06-2.06.94z\"/><path d=\"M17.41 7.96l-1.37-1.37c-.4-.4-.92-.59-1.43-.59-.52 0-1.04.2-1.43.59L10.3 9.45l-7.72 7.72c-.78.78-.78 2.05 0 2.83L4 21.41c.39.39.9.59 1.41.59.51 0 1.02-.2 1.41-.59l7.78-7.78 2.81-2.81c.8-.78.8-2.07 0-2.86zM5.41 20L4 18.59l7.72-7.72 1.47 1.35L5.41 20z\"/>\n",
              "  </svg>\n",
              "      </button>\n",
              "      \n",
              "  <style>\n",
              "    .colab-df-container {\n",
              "      display:flex;\n",
              "      flex-wrap:wrap;\n",
              "      gap: 12px;\n",
              "    }\n",
              "\n",
              "    .colab-df-convert {\n",
              "      background-color: #E8F0FE;\n",
              "      border: none;\n",
              "      border-radius: 50%;\n",
              "      cursor: pointer;\n",
              "      display: none;\n",
              "      fill: #1967D2;\n",
              "      height: 32px;\n",
              "      padding: 0 0 0 0;\n",
              "      width: 32px;\n",
              "    }\n",
              "\n",
              "    .colab-df-convert:hover {\n",
              "      background-color: #E2EBFA;\n",
              "      box-shadow: 0px 1px 2px rgba(60, 64, 67, 0.3), 0px 1px 3px 1px rgba(60, 64, 67, 0.15);\n",
              "      fill: #174EA6;\n",
              "    }\n",
              "\n",
              "    [theme=dark] .colab-df-convert {\n",
              "      background-color: #3B4455;\n",
              "      fill: #D2E3FC;\n",
              "    }\n",
              "\n",
              "    [theme=dark] .colab-df-convert:hover {\n",
              "      background-color: #434B5C;\n",
              "      box-shadow: 0px 1px 3px 1px rgba(0, 0, 0, 0.15);\n",
              "      filter: drop-shadow(0px 1px 2px rgba(0, 0, 0, 0.3));\n",
              "      fill: #FFFFFF;\n",
              "    }\n",
              "  </style>\n",
              "\n",
              "      <script>\n",
              "        const buttonEl =\n",
              "          document.querySelector('#df-9f45b49c-5a9c-4b99-aa0f-1bab9218de79 button.colab-df-convert');\n",
              "        buttonEl.style.display =\n",
              "          google.colab.kernel.accessAllowed ? 'block' : 'none';\n",
              "\n",
              "        async function convertToInteractive(key) {\n",
              "          const element = document.querySelector('#df-9f45b49c-5a9c-4b99-aa0f-1bab9218de79');\n",
              "          const dataTable =\n",
              "            await google.colab.kernel.invokeFunction('convertToInteractive',\n",
              "                                                     [key], {});\n",
              "          if (!dataTable) return;\n",
              "\n",
              "          const docLinkHtml = 'Like what you see? Visit the ' +\n",
              "            '<a target=\"_blank\" href=https://colab.research.google.com/notebooks/data_table.ipynb>data table notebook</a>'\n",
              "            + ' to learn more about interactive tables.';\n",
              "          element.innerHTML = '';\n",
              "          dataTable['output_type'] = 'display_data';\n",
              "          await google.colab.output.renderOutput(dataTable, element);\n",
              "          const docLink = document.createElement('div');\n",
              "          docLink.innerHTML = docLinkHtml;\n",
              "          element.appendChild(docLink);\n",
              "        }\n",
              "      </script>\n",
              "    </div>\n",
              "  </div>\n",
              "  "
            ]
          },
          "metadata": {},
          "execution_count": 52
        }
      ]
    },
    {
      "cell_type": "code",
      "source": [
        "#drbf_rank, drbf_rank2 원래 데이터에 추가\n",
        "train = pd.merge(train, tr_drbf_rank, how = 'left')\n",
        "test = pd.merge(test, tr_drbf_rank, how = 'left')"
      ],
      "metadata": {
        "id": "12rwljWX9hWl"
      },
      "execution_count": 53,
      "outputs": []
    },
    {
      "cell_type": "code",
      "source": [
        "train.head()"
      ],
      "metadata": {
        "id": "hL9h18V4-YF2",
        "colab": {
          "base_uri": "https://localhost:8080/",
          "height": 300
        },
        "outputId": "0926ed2b-4512-4129-b610-178fab5ca0f8"
      },
      "execution_count": 54,
      "outputs": [
        {
          "output_type": "execute_result",
          "data": {
            "text/plain": [
              "  screening_rat director  dir_prev_bfnum  dir_prev_num  num_staff  num_actor  \\\n",
              "0      청소년 관람불가      조병옥    0.000000e+00             0         91          2   \n",
              "1       15세 관람가      황병국    0.000000e+00             0        253          6   \n",
              "2       15세 관람가      김한민    2.079989e+06             1        687          4   \n",
              "3       12세 관람가      천성일    4.385472e+06             2        388          2   \n",
              "4       15세 관람가      박흥식    1.209303e+05             3        439          3   \n",
              "\n",
              "   box_off_num  dist_rank  genre_rank  release_year_0  ...  release_day_0  \\\n",
              "0        23398        134          11               0  ...              0   \n",
              "1      1118258        134          11               0  ...              0   \n",
              "2      7482180        134          11               0  ...              0   \n",
              "3       609063        134          11               0  ...              0   \n",
              "4       431310        134          11               0  ...              0   \n",
              "\n",
              "   release_day_1  release_day_2  release_day_3  release_day_4  time_log  \\\n",
              "0              0              0              0              1  4.574711   \n",
              "1              0              0              1              0  4.718499   \n",
              "2              0              0              1              1  4.812184   \n",
              "3              0              0              1              0  4.727388   \n",
              "4              0              1              0              0  4.804021   \n",
              "\n",
              "     dr_rank  dr_rank2  drbf_rank  drbf_rank2  \n",
              "0  10.060449     261.0   0.000000         1.0  \n",
              "1  13.927284     388.0   0.000000         1.0  \n",
              "2  15.828035     461.0  14.547874       181.0  \n",
              "3  13.319679     363.0  15.293808       200.0  \n",
              "4  12.974585     339.0  11.702978        76.0  \n",
              "\n",
              "[5 rows x 29 columns]"
            ],
            "text/html": [
              "\n",
              "  <div id=\"df-dd574706-7806-4302-975c-fc6526686f66\">\n",
              "    <div class=\"colab-df-container\">\n",
              "      <div>\n",
              "<style scoped>\n",
              "    .dataframe tbody tr th:only-of-type {\n",
              "        vertical-align: middle;\n",
              "    }\n",
              "\n",
              "    .dataframe tbody tr th {\n",
              "        vertical-align: top;\n",
              "    }\n",
              "\n",
              "    .dataframe thead th {\n",
              "        text-align: right;\n",
              "    }\n",
              "</style>\n",
              "<table border=\"1\" class=\"dataframe\">\n",
              "  <thead>\n",
              "    <tr style=\"text-align: right;\">\n",
              "      <th></th>\n",
              "      <th>screening_rat</th>\n",
              "      <th>director</th>\n",
              "      <th>dir_prev_bfnum</th>\n",
              "      <th>dir_prev_num</th>\n",
              "      <th>num_staff</th>\n",
              "      <th>num_actor</th>\n",
              "      <th>box_off_num</th>\n",
              "      <th>dist_rank</th>\n",
              "      <th>genre_rank</th>\n",
              "      <th>release_year_0</th>\n",
              "      <th>...</th>\n",
              "      <th>release_day_0</th>\n",
              "      <th>release_day_1</th>\n",
              "      <th>release_day_2</th>\n",
              "      <th>release_day_3</th>\n",
              "      <th>release_day_4</th>\n",
              "      <th>time_log</th>\n",
              "      <th>dr_rank</th>\n",
              "      <th>dr_rank2</th>\n",
              "      <th>drbf_rank</th>\n",
              "      <th>drbf_rank2</th>\n",
              "    </tr>\n",
              "  </thead>\n",
              "  <tbody>\n",
              "    <tr>\n",
              "      <th>0</th>\n",
              "      <td>청소년 관람불가</td>\n",
              "      <td>조병옥</td>\n",
              "      <td>0.000000e+00</td>\n",
              "      <td>0</td>\n",
              "      <td>91</td>\n",
              "      <td>2</td>\n",
              "      <td>23398</td>\n",
              "      <td>134</td>\n",
              "      <td>11</td>\n",
              "      <td>0</td>\n",
              "      <td>...</td>\n",
              "      <td>0</td>\n",
              "      <td>0</td>\n",
              "      <td>0</td>\n",
              "      <td>0</td>\n",
              "      <td>1</td>\n",
              "      <td>4.574711</td>\n",
              "      <td>10.060449</td>\n",
              "      <td>261.0</td>\n",
              "      <td>0.000000</td>\n",
              "      <td>1.0</td>\n",
              "    </tr>\n",
              "    <tr>\n",
              "      <th>1</th>\n",
              "      <td>15세 관람가</td>\n",
              "      <td>황병국</td>\n",
              "      <td>0.000000e+00</td>\n",
              "      <td>0</td>\n",
              "      <td>253</td>\n",
              "      <td>6</td>\n",
              "      <td>1118258</td>\n",
              "      <td>134</td>\n",
              "      <td>11</td>\n",
              "      <td>0</td>\n",
              "      <td>...</td>\n",
              "      <td>0</td>\n",
              "      <td>0</td>\n",
              "      <td>0</td>\n",
              "      <td>1</td>\n",
              "      <td>0</td>\n",
              "      <td>4.718499</td>\n",
              "      <td>13.927284</td>\n",
              "      <td>388.0</td>\n",
              "      <td>0.000000</td>\n",
              "      <td>1.0</td>\n",
              "    </tr>\n",
              "    <tr>\n",
              "      <th>2</th>\n",
              "      <td>15세 관람가</td>\n",
              "      <td>김한민</td>\n",
              "      <td>2.079989e+06</td>\n",
              "      <td>1</td>\n",
              "      <td>687</td>\n",
              "      <td>4</td>\n",
              "      <td>7482180</td>\n",
              "      <td>134</td>\n",
              "      <td>11</td>\n",
              "      <td>0</td>\n",
              "      <td>...</td>\n",
              "      <td>0</td>\n",
              "      <td>0</td>\n",
              "      <td>0</td>\n",
              "      <td>1</td>\n",
              "      <td>1</td>\n",
              "      <td>4.812184</td>\n",
              "      <td>15.828035</td>\n",
              "      <td>461.0</td>\n",
              "      <td>14.547874</td>\n",
              "      <td>181.0</td>\n",
              "    </tr>\n",
              "    <tr>\n",
              "      <th>3</th>\n",
              "      <td>12세 관람가</td>\n",
              "      <td>천성일</td>\n",
              "      <td>4.385472e+06</td>\n",
              "      <td>2</td>\n",
              "      <td>388</td>\n",
              "      <td>2</td>\n",
              "      <td>609063</td>\n",
              "      <td>134</td>\n",
              "      <td>11</td>\n",
              "      <td>0</td>\n",
              "      <td>...</td>\n",
              "      <td>0</td>\n",
              "      <td>0</td>\n",
              "      <td>0</td>\n",
              "      <td>1</td>\n",
              "      <td>0</td>\n",
              "      <td>4.727388</td>\n",
              "      <td>13.319679</td>\n",
              "      <td>363.0</td>\n",
              "      <td>15.293808</td>\n",
              "      <td>200.0</td>\n",
              "    </tr>\n",
              "    <tr>\n",
              "      <th>4</th>\n",
              "      <td>15세 관람가</td>\n",
              "      <td>박흥식</td>\n",
              "      <td>1.209303e+05</td>\n",
              "      <td>3</td>\n",
              "      <td>439</td>\n",
              "      <td>3</td>\n",
              "      <td>431310</td>\n",
              "      <td>134</td>\n",
              "      <td>11</td>\n",
              "      <td>0</td>\n",
              "      <td>...</td>\n",
              "      <td>0</td>\n",
              "      <td>0</td>\n",
              "      <td>1</td>\n",
              "      <td>0</td>\n",
              "      <td>0</td>\n",
              "      <td>4.804021</td>\n",
              "      <td>12.974585</td>\n",
              "      <td>339.0</td>\n",
              "      <td>11.702978</td>\n",
              "      <td>76.0</td>\n",
              "    </tr>\n",
              "  </tbody>\n",
              "</table>\n",
              "<p>5 rows × 29 columns</p>\n",
              "</div>\n",
              "      <button class=\"colab-df-convert\" onclick=\"convertToInteractive('df-dd574706-7806-4302-975c-fc6526686f66')\"\n",
              "              title=\"Convert this dataframe to an interactive table.\"\n",
              "              style=\"display:none;\">\n",
              "        \n",
              "  <svg xmlns=\"http://www.w3.org/2000/svg\" height=\"24px\"viewBox=\"0 0 24 24\"\n",
              "       width=\"24px\">\n",
              "    <path d=\"M0 0h24v24H0V0z\" fill=\"none\"/>\n",
              "    <path d=\"M18.56 5.44l.94 2.06.94-2.06 2.06-.94-2.06-.94-.94-2.06-.94 2.06-2.06.94zm-11 1L8.5 8.5l.94-2.06 2.06-.94-2.06-.94L8.5 2.5l-.94 2.06-2.06.94zm10 10l.94 2.06.94-2.06 2.06-.94-2.06-.94-.94-2.06-.94 2.06-2.06.94z\"/><path d=\"M17.41 7.96l-1.37-1.37c-.4-.4-.92-.59-1.43-.59-.52 0-1.04.2-1.43.59L10.3 9.45l-7.72 7.72c-.78.78-.78 2.05 0 2.83L4 21.41c.39.39.9.59 1.41.59.51 0 1.02-.2 1.41-.59l7.78-7.78 2.81-2.81c.8-.78.8-2.07 0-2.86zM5.41 20L4 18.59l7.72-7.72 1.47 1.35L5.41 20z\"/>\n",
              "  </svg>\n",
              "      </button>\n",
              "      \n",
              "  <style>\n",
              "    .colab-df-container {\n",
              "      display:flex;\n",
              "      flex-wrap:wrap;\n",
              "      gap: 12px;\n",
              "    }\n",
              "\n",
              "    .colab-df-convert {\n",
              "      background-color: #E8F0FE;\n",
              "      border: none;\n",
              "      border-radius: 50%;\n",
              "      cursor: pointer;\n",
              "      display: none;\n",
              "      fill: #1967D2;\n",
              "      height: 32px;\n",
              "      padding: 0 0 0 0;\n",
              "      width: 32px;\n",
              "    }\n",
              "\n",
              "    .colab-df-convert:hover {\n",
              "      background-color: #E2EBFA;\n",
              "      box-shadow: 0px 1px 2px rgba(60, 64, 67, 0.3), 0px 1px 3px 1px rgba(60, 64, 67, 0.15);\n",
              "      fill: #174EA6;\n",
              "    }\n",
              "\n",
              "    [theme=dark] .colab-df-convert {\n",
              "      background-color: #3B4455;\n",
              "      fill: #D2E3FC;\n",
              "    }\n",
              "\n",
              "    [theme=dark] .colab-df-convert:hover {\n",
              "      background-color: #434B5C;\n",
              "      box-shadow: 0px 1px 3px 1px rgba(0, 0, 0, 0.15);\n",
              "      filter: drop-shadow(0px 1px 2px rgba(0, 0, 0, 0.3));\n",
              "      fill: #FFFFFF;\n",
              "    }\n",
              "  </style>\n",
              "\n",
              "      <script>\n",
              "        const buttonEl =\n",
              "          document.querySelector('#df-dd574706-7806-4302-975c-fc6526686f66 button.colab-df-convert');\n",
              "        buttonEl.style.display =\n",
              "          google.colab.kernel.accessAllowed ? 'block' : 'none';\n",
              "\n",
              "        async function convertToInteractive(key) {\n",
              "          const element = document.querySelector('#df-dd574706-7806-4302-975c-fc6526686f66');\n",
              "          const dataTable =\n",
              "            await google.colab.kernel.invokeFunction('convertToInteractive',\n",
              "                                                     [key], {});\n",
              "          if (!dataTable) return;\n",
              "\n",
              "          const docLinkHtml = 'Like what you see? Visit the ' +\n",
              "            '<a target=\"_blank\" href=https://colab.research.google.com/notebooks/data_table.ipynb>data table notebook</a>'\n",
              "            + ' to learn more about interactive tables.';\n",
              "          element.innerHTML = '';\n",
              "          dataTable['output_type'] = 'display_data';\n",
              "          await google.colab.output.renderOutput(dataTable, element);\n",
              "          const docLink = document.createElement('div');\n",
              "          docLink.innerHTML = docLinkHtml;\n",
              "          element.appendChild(docLink);\n",
              "        }\n",
              "      </script>\n",
              "    </div>\n",
              "  </div>\n",
              "  "
            ]
          },
          "metadata": {},
          "execution_count": 54
        }
      ]
    },
    {
      "cell_type": "code",
      "source": [
        "test.fillna(test.median(), inplace = True)"
      ],
      "metadata": {
        "id": "uU97eok0FRUF"
      },
      "execution_count": 55,
      "outputs": []
    },
    {
      "cell_type": "markdown",
      "source": [
        "## 8) 감독의 전작영화 수 (dir_prev_num)"
      ],
      "metadata": {
        "id": "2GU3d6YTnHol"
      }
    },
    {
      "cell_type": "code",
      "source": [
        "train['dir_prev_num'].isnull().sum()"
      ],
      "metadata": {
        "id": "CP-1hfo3_Fd_",
        "colab": {
          "base_uri": "https://localhost:8080/"
        },
        "outputId": "716b3fc5-049f-4e62-f67f-345f87aae947"
      },
      "execution_count": 56,
      "outputs": [
        {
          "output_type": "execute_result",
          "data": {
            "text/plain": [
              "0"
            ]
          },
          "metadata": {},
          "execution_count": 56
        }
      ]
    },
    {
      "cell_type": "markdown",
      "source": [
        "### * 랭크 인코딩\n",
        "* 위와 같은 방법"
      ],
      "metadata": {
        "id": "32fMhQJsBi53"
      }
    },
    {
      "cell_type": "code",
      "source": [
        "director_num = train.groupby('director')['dir_prev_num'].sum().sort_values(ascending=False)\n",
        "df8 = pd.DataFrame(director_num)\n",
        "df8[\"director\"]= df8.index #director 열 생성\n",
        "plt.rcParams['figure.figsize'] = [10,10] \n",
        "ax = plt.subplots()\n",
        "ax = sns.barplot(x='dir_prev_num', y='director',data = df8)"
      ],
      "metadata": {
        "id": "yawbBJU_UwpD",
        "colab": {
          "base_uri": "https://localhost:8080/",
          "height": 610
        },
        "outputId": "aac2781f-77ac-4453-fd1c-55ccbb5b4e28"
      },
      "execution_count": 57,
      "outputs": [
        {
          "output_type": "display_data",
          "data": {
            "text/plain": [
              "<Figure size 720x720 with 1 Axes>"
            ],
            "image/png": "[encoded data removed]"
          },
          "metadata": {
            "needs_background": "light"
          }
        }
      ]
    },
    {
      "cell_type": "code",
      "source": [
        "#위의 그래프가 왜곡되어있으므로 log1p 변환을 통해 왜곡 정도 향상\n",
        "director_num = train.groupby('director')['dir_prev_num'].sum().sort_values(ascending=False)\n",
        "df8 = pd.DataFrame(director_num)\n",
        "df8[\"director\"]= df8.index #director 열 생성\n",
        "plt.rcParams['figure.figsize'] = [10,10] \n",
        "df8['dir_prev_num']=np.log1p(df8['dir_prev_num']) \n",
        "ax = plt.subplots()\n",
        "ax = sns.barplot(x='dir_prev_num', y='director',data = df8)"
      ],
      "metadata": {
        "id": "oQMGlJFXUwpE",
        "colab": {
          "base_uri": "https://localhost:8080/",
          "height": 610
        },
        "outputId": "62e8a1ba-9dd9-4b1a-f9b0-2f2a52badb7b"
      },
      "execution_count": 58,
      "outputs": [
        {
          "output_type": "display_data",
          "data": {
            "text/plain": [
              "<Figure size 720x720 with 1 Axes>"
            ],
            "image/png": "[encoded data removed]"
          },
          "metadata": {
            "needs_background": "light"
          }
        }
      ]
    },
    {
      "cell_type": "code",
      "source": [
        "df8.drop(['director'], axis=1, inplace=True)\n",
        "tr_drp_rank = df8.groupby('director').dir_prev_num.median().reset_index(name = 'drp_rank').sort_values(by = 'drp_rank')\n",
        "tr_drp_rank"
      ],
      "metadata": {
        "id": "v719laCWUwpF",
        "colab": {
          "base_uri": "https://localhost:8080/",
          "height": 424
        },
        "outputId": "c2fc06c1-ebf0-43ee-ece1-c9243fc683cd"
      },
      "execution_count": 59,
      "outputs": [
        {
          "output_type": "execute_result",
          "data": {
            "text/plain": [
              "       director  drp_rank\n",
              "0    New Pistol  0.000000\n",
              "277         이대희  0.000000\n",
              "275        이길보라  0.000000\n",
              "273         이규만  0.000000\n",
              "272         이광호  0.000000\n",
              "..          ...       ...\n",
              "258          유하  2.079442\n",
              "324         이해영  2.197225\n",
              "118          김휘  2.197225\n",
              "62          김상진  2.197225\n",
              "111         김현석  2.302585\n",
              "\n",
              "[472 rows x 2 columns]"
            ],
            "text/html": [
              "\n",
              "  <div id=\"df-96706936-4451-4a10-a3fb-4a8ca2e48ff3\">\n",
              "    <div class=\"colab-df-container\">\n",
              "      <div>\n",
              "<style scoped>\n",
              "    .dataframe tbody tr th:only-of-type {\n",
              "        vertical-align: middle;\n",
              "    }\n",
              "\n",
              "    .dataframe tbody tr th {\n",
              "        vertical-align: top;\n",
              "    }\n",
              "\n",
              "    .dataframe thead th {\n",
              "        text-align: right;\n",
              "    }\n",
              "</style>\n",
              "<table border=\"1\" class=\"dataframe\">\n",
              "  <thead>\n",
              "    <tr style=\"text-align: right;\">\n",
              "      <th></th>\n",
              "      <th>director</th>\n",
              "      <th>drp_rank</th>\n",
              "    </tr>\n",
              "  </thead>\n",
              "  <tbody>\n",
              "    <tr>\n",
              "      <th>0</th>\n",
              "      <td>New Pistol</td>\n",
              "      <td>0.000000</td>\n",
              "    </tr>\n",
              "    <tr>\n",
              "      <th>277</th>\n",
              "      <td>이대희</td>\n",
              "      <td>0.000000</td>\n",
              "    </tr>\n",
              "    <tr>\n",
              "      <th>275</th>\n",
              "      <td>이길보라</td>\n",
              "      <td>0.000000</td>\n",
              "    </tr>\n",
              "    <tr>\n",
              "      <th>273</th>\n",
              "      <td>이규만</td>\n",
              "      <td>0.000000</td>\n",
              "    </tr>\n",
              "    <tr>\n",
              "      <th>272</th>\n",
              "      <td>이광호</td>\n",
              "      <td>0.000000</td>\n",
              "    </tr>\n",
              "    <tr>\n",
              "      <th>...</th>\n",
              "      <td>...</td>\n",
              "      <td>...</td>\n",
              "    </tr>\n",
              "    <tr>\n",
              "      <th>258</th>\n",
              "      <td>유하</td>\n",
              "      <td>2.079442</td>\n",
              "    </tr>\n",
              "    <tr>\n",
              "      <th>324</th>\n",
              "      <td>이해영</td>\n",
              "      <td>2.197225</td>\n",
              "    </tr>\n",
              "    <tr>\n",
              "      <th>118</th>\n",
              "      <td>김휘</td>\n",
              "      <td>2.197225</td>\n",
              "    </tr>\n",
              "    <tr>\n",
              "      <th>62</th>\n",
              "      <td>김상진</td>\n",
              "      <td>2.197225</td>\n",
              "    </tr>\n",
              "    <tr>\n",
              "      <th>111</th>\n",
              "      <td>김현석</td>\n",
              "      <td>2.302585</td>\n",
              "    </tr>\n",
              "  </tbody>\n",
              "</table>\n",
              "<p>472 rows × 2 columns</p>\n",
              "</div>\n",
              "      <button class=\"colab-df-convert\" onclick=\"convertToInteractive('df-96706936-4451-4a10-a3fb-4a8ca2e48ff3')\"\n",
              "              title=\"Convert this dataframe to an interactive table.\"\n",
              "              style=\"display:none;\">\n",
              "        \n",
              "  <svg xmlns=\"http://www.w3.org/2000/svg\" height=\"24px\"viewBox=\"0 0 24 24\"\n",
              "       width=\"24px\">\n",
              "    <path d=\"M0 0h24v24H0V0z\" fill=\"none\"/>\n",
              "    <path d=\"M18.56 5.44l.94 2.06.94-2.06 2.06-.94-2.06-.94-.94-2.06-.94 2.06-2.06.94zm-11 1L8.5 8.5l.94-2.06 2.06-.94-2.06-.94L8.5 2.5l-.94 2.06-2.06.94zm10 10l.94 2.06.94-2.06 2.06-.94-2.06-.94-.94-2.06-.94 2.06-2.06.94z\"/><path d=\"M17.41 7.96l-1.37-1.37c-.4-.4-.92-.59-1.43-.59-.52 0-1.04.2-1.43.59L10.3 9.45l-7.72 7.72c-.78.78-.78 2.05 0 2.83L4 21.41c.39.39.9.59 1.41.59.51 0 1.02-.2 1.41-.59l7.78-7.78 2.81-2.81c.8-.78.8-2.07 0-2.86zM5.41 20L4 18.59l7.72-7.72 1.47 1.35L5.41 20z\"/>\n",
              "  </svg>\n",
              "      </button>\n",
              "      \n",
              "  <style>\n",
              "    .colab-df-container {\n",
              "      display:flex;\n",
              "      flex-wrap:wrap;\n",
              "      gap: 12px;\n",
              "    }\n",
              "\n",
              "    .colab-df-convert {\n",
              "      background-color: #E8F0FE;\n",
              "      border: none;\n",
              "      border-radius: 50%;\n",
              "      cursor: pointer;\n",
              "      display: none;\n",
              "      fill: #1967D2;\n",
              "      height: 32px;\n",
              "      padding: 0 0 0 0;\n",
              "      width: 32px;\n",
              "    }\n",
              "\n",
              "    .colab-df-convert:hover {\n",
              "      background-color: #E2EBFA;\n",
              "      box-shadow: 0px 1px 2px rgba(60, 64, 67, 0.3), 0px 1px 3px 1px rgba(60, 64, 67, 0.15);\n",
              "      fill: #174EA6;\n",
              "    }\n",
              "\n",
              "    [theme=dark] .colab-df-convert {\n",
              "      background-color: #3B4455;\n",
              "      fill: #D2E3FC;\n",
              "    }\n",
              "\n",
              "    [theme=dark] .colab-df-convert:hover {\n",
              "      background-color: #434B5C;\n",
              "      box-shadow: 0px 1px 3px 1px rgba(0, 0, 0, 0.15);\n",
              "      filter: drop-shadow(0px 1px 2px rgba(0, 0, 0, 0.3));\n",
              "      fill: #FFFFFF;\n",
              "    }\n",
              "  </style>\n",
              "\n",
              "      <script>\n",
              "        const buttonEl =\n",
              "          document.querySelector('#df-96706936-4451-4a10-a3fb-4a8ca2e48ff3 button.colab-df-convert');\n",
              "        buttonEl.style.display =\n",
              "          google.colab.kernel.accessAllowed ? 'block' : 'none';\n",
              "\n",
              "        async function convertToInteractive(key) {\n",
              "          const element = document.querySelector('#df-96706936-4451-4a10-a3fb-4a8ca2e48ff3');\n",
              "          const dataTable =\n",
              "            await google.colab.kernel.invokeFunction('convertToInteractive',\n",
              "                                                     [key], {});\n",
              "          if (!dataTable) return;\n",
              "\n",
              "          const docLinkHtml = 'Like what you see? Visit the ' +\n",
              "            '<a target=\"_blank\" href=https://colab.research.google.com/notebooks/data_table.ipynb>data table notebook</a>'\n",
              "            + ' to learn more about interactive tables.';\n",
              "          element.innerHTML = '';\n",
              "          dataTable['output_type'] = 'display_data';\n",
              "          await google.colab.output.renderOutput(dataTable, element);\n",
              "          const docLink = document.createElement('div');\n",
              "          docLink.innerHTML = docLinkHtml;\n",
              "          element.appendChild(docLink);\n",
              "        }\n",
              "      </script>\n",
              "    </div>\n",
              "  </div>\n",
              "  "
            ]
          },
          "metadata": {},
          "execution_count": 59
        }
      ]
    },
    {
      "cell_type": "code",
      "source": [
        "tr_drp_rank['drp_rank2'] = tr_drp_rank['drp_rank'].rank(method='dense', ascending=True)\n",
        "tr_drp_rank"
      ],
      "metadata": {
        "id": "GTu_-CvFUwpF",
        "colab": {
          "base_uri": "https://localhost:8080/",
          "height": 424
        },
        "outputId": "79f2bda9-6c41-4336-8665-db0cfeffbef9"
      },
      "execution_count": 60,
      "outputs": [
        {
          "output_type": "execute_result",
          "data": {
            "text/plain": [
              "       director  drp_rank  drp_rank2\n",
              "0    New Pistol  0.000000        1.0\n",
              "277         이대희  0.000000        1.0\n",
              "275        이길보라  0.000000        1.0\n",
              "273         이규만  0.000000        1.0\n",
              "272         이광호  0.000000        1.0\n",
              "..          ...       ...        ...\n",
              "258          유하  2.079442        8.0\n",
              "324         이해영  2.197225        9.0\n",
              "118          김휘  2.197225        9.0\n",
              "62          김상진  2.197225        9.0\n",
              "111         김현석  2.302585       10.0\n",
              "\n",
              "[472 rows x 3 columns]"
            ],
            "text/html": [
              "\n",
              "  <div id=\"df-55defb1d-3e1c-4881-abf6-d645a797feb1\">\n",
              "    <div class=\"colab-df-container\">\n",
              "      <div>\n",
              "<style scoped>\n",
              "    .dataframe tbody tr th:only-of-type {\n",
              "        vertical-align: middle;\n",
              "    }\n",
              "\n",
              "    .dataframe tbody tr th {\n",
              "        vertical-align: top;\n",
              "    }\n",
              "\n",
              "    .dataframe thead th {\n",
              "        text-align: right;\n",
              "    }\n",
              "</style>\n",
              "<table border=\"1\" class=\"dataframe\">\n",
              "  <thead>\n",
              "    <tr style=\"text-align: right;\">\n",
              "      <th></th>\n",
              "      <th>director</th>\n",
              "      <th>drp_rank</th>\n",
              "      <th>drp_rank2</th>\n",
              "    </tr>\n",
              "  </thead>\n",
              "  <tbody>\n",
              "    <tr>\n",
              "      <th>0</th>\n",
              "      <td>New Pistol</td>\n",
              "      <td>0.000000</td>\n",
              "      <td>1.0</td>\n",
              "    </tr>\n",
              "    <tr>\n",
              "      <th>277</th>\n",
              "      <td>이대희</td>\n",
              "      <td>0.000000</td>\n",
              "      <td>1.0</td>\n",
              "    </tr>\n",
              "    <tr>\n",
              "      <th>275</th>\n",
              "      <td>이길보라</td>\n",
              "      <td>0.000000</td>\n",
              "      <td>1.0</td>\n",
              "    </tr>\n",
              "    <tr>\n",
              "      <th>273</th>\n",
              "      <td>이규만</td>\n",
              "      <td>0.000000</td>\n",
              "      <td>1.0</td>\n",
              "    </tr>\n",
              "    <tr>\n",
              "      <th>272</th>\n",
              "      <td>이광호</td>\n",
              "      <td>0.000000</td>\n",
              "      <td>1.0</td>\n",
              "    </tr>\n",
              "    <tr>\n",
              "      <th>...</th>\n",
              "      <td>...</td>\n",
              "      <td>...</td>\n",
              "      <td>...</td>\n",
              "    </tr>\n",
              "    <tr>\n",
              "      <th>258</th>\n",
              "      <td>유하</td>\n",
              "      <td>2.079442</td>\n",
              "      <td>8.0</td>\n",
              "    </tr>\n",
              "    <tr>\n",
              "      <th>324</th>\n",
              "      <td>이해영</td>\n",
              "      <td>2.197225</td>\n",
              "      <td>9.0</td>\n",
              "    </tr>\n",
              "    <tr>\n",
              "      <th>118</th>\n",
              "      <td>김휘</td>\n",
              "      <td>2.197225</td>\n",
              "      <td>9.0</td>\n",
              "    </tr>\n",
              "    <tr>\n",
              "      <th>62</th>\n",
              "      <td>김상진</td>\n",
              "      <td>2.197225</td>\n",
              "      <td>9.0</td>\n",
              "    </tr>\n",
              "    <tr>\n",
              "      <th>111</th>\n",
              "      <td>김현석</td>\n",
              "      <td>2.302585</td>\n",
              "      <td>10.0</td>\n",
              "    </tr>\n",
              "  </tbody>\n",
              "</table>\n",
              "<p>472 rows × 3 columns</p>\n",
              "</div>\n",
              "      <button class=\"colab-df-convert\" onclick=\"convertToInteractive('df-55defb1d-3e1c-4881-abf6-d645a797feb1')\"\n",
              "              title=\"Convert this dataframe to an interactive table.\"\n",
              "              style=\"display:none;\">\n",
              "        \n",
              "  <svg xmlns=\"http://www.w3.org/2000/svg\" height=\"24px\"viewBox=\"0 0 24 24\"\n",
              "       width=\"24px\">\n",
              "    <path d=\"M0 0h24v24H0V0z\" fill=\"none\"/>\n",
              "    <path d=\"M18.56 5.44l.94 2.06.94-2.06 2.06-.94-2.06-.94-.94-2.06-.94 2.06-2.06.94zm-11 1L8.5 8.5l.94-2.06 2.06-.94-2.06-.94L8.5 2.5l-.94 2.06-2.06.94zm10 10l.94 2.06.94-2.06 2.06-.94-2.06-.94-.94-2.06-.94 2.06-2.06.94z\"/><path d=\"M17.41 7.96l-1.37-1.37c-.4-.4-.92-.59-1.43-.59-.52 0-1.04.2-1.43.59L10.3 9.45l-7.72 7.72c-.78.78-.78 2.05 0 2.83L4 21.41c.39.39.9.59 1.41.59.51 0 1.02-.2 1.41-.59l7.78-7.78 2.81-2.81c.8-.78.8-2.07 0-2.86zM5.41 20L4 18.59l7.72-7.72 1.47 1.35L5.41 20z\"/>\n",
              "  </svg>\n",
              "      </button>\n",
              "      \n",
              "  <style>\n",
              "    .colab-df-container {\n",
              "      display:flex;\n",
              "      flex-wrap:wrap;\n",
              "      gap: 12px;\n",
              "    }\n",
              "\n",
              "    .colab-df-convert {\n",
              "      background-color: #E8F0FE;\n",
              "      border: none;\n",
              "      border-radius: 50%;\n",
              "      cursor: pointer;\n",
              "      display: none;\n",
              "      fill: #1967D2;\n",
              "      height: 32px;\n",
              "      padding: 0 0 0 0;\n",
              "      width: 32px;\n",
              "    }\n",
              "\n",
              "    .colab-df-convert:hover {\n",
              "      background-color: #E2EBFA;\n",
              "      box-shadow: 0px 1px 2px rgba(60, 64, 67, 0.3), 0px 1px 3px 1px rgba(60, 64, 67, 0.15);\n",
              "      fill: #174EA6;\n",
              "    }\n",
              "\n",
              "    [theme=dark] .colab-df-convert {\n",
              "      background-color: #3B4455;\n",
              "      fill: #D2E3FC;\n",
              "    }\n",
              "\n",
              "    [theme=dark] .colab-df-convert:hover {\n",
              "      background-color: #434B5C;\n",
              "      box-shadow: 0px 1px 3px 1px rgba(0, 0, 0, 0.15);\n",
              "      filter: drop-shadow(0px 1px 2px rgba(0, 0, 0, 0.3));\n",
              "      fill: #FFFFFF;\n",
              "    }\n",
              "  </style>\n",
              "\n",
              "      <script>\n",
              "        const buttonEl =\n",
              "          document.querySelector('#df-55defb1d-3e1c-4881-abf6-d645a797feb1 button.colab-df-convert');\n",
              "        buttonEl.style.display =\n",
              "          google.colab.kernel.accessAllowed ? 'block' : 'none';\n",
              "\n",
              "        async function convertToInteractive(key) {\n",
              "          const element = document.querySelector('#df-55defb1d-3e1c-4881-abf6-d645a797feb1');\n",
              "          const dataTable =\n",
              "            await google.colab.kernel.invokeFunction('convertToInteractive',\n",
              "                                                     [key], {});\n",
              "          if (!dataTable) return;\n",
              "\n",
              "          const docLinkHtml = 'Like what you see? Visit the ' +\n",
              "            '<a target=\"_blank\" href=https://colab.research.google.com/notebooks/data_table.ipynb>data table notebook</a>'\n",
              "            + ' to learn more about interactive tables.';\n",
              "          element.innerHTML = '';\n",
              "          dataTable['output_type'] = 'display_data';\n",
              "          await google.colab.output.renderOutput(dataTable, element);\n",
              "          const docLink = document.createElement('div');\n",
              "          docLink.innerHTML = docLinkHtml;\n",
              "          element.appendChild(docLink);\n",
              "        }\n",
              "      </script>\n",
              "    </div>\n",
              "  </div>\n",
              "  "
            ]
          },
          "metadata": {},
          "execution_count": 60
        }
      ]
    },
    {
      "cell_type": "code",
      "source": [
        "#drp_rank, drp_rank2 원래 데이터에 추가\n",
        "train = pd.merge(train, tr_drp_rank, how = 'left')\n",
        "test = pd.merge(test, tr_drp_rank, how = 'left')"
      ],
      "metadata": {
        "id": "sppp-GqY_CH-"
      },
      "execution_count": 61,
      "outputs": []
    },
    {
      "cell_type": "code",
      "source": [
        "train.head()"
      ],
      "metadata": {
        "id": "49-UpsB4_G5W",
        "colab": {
          "base_uri": "https://localhost:8080/",
          "height": 300
        },
        "outputId": "b9fb9b4b-cbec-4a9c-b923-b1461601fda9"
      },
      "execution_count": 62,
      "outputs": [
        {
          "output_type": "execute_result",
          "data": {
            "text/plain": [
              "  screening_rat director  dir_prev_bfnum  dir_prev_num  num_staff  num_actor  \\\n",
              "0      청소년 관람불가      조병옥    0.000000e+00             0         91          2   \n",
              "1       15세 관람가      황병국    0.000000e+00             0        253          6   \n",
              "2       15세 관람가      김한민    2.079989e+06             1        687          4   \n",
              "3       12세 관람가      천성일    4.385472e+06             2        388          2   \n",
              "4       15세 관람가      박흥식    1.209303e+05             3        439          3   \n",
              "\n",
              "   box_off_num  dist_rank  genre_rank  release_year_0  ...  release_day_2  \\\n",
              "0        23398        134          11               0  ...              0   \n",
              "1      1118258        134          11               0  ...              0   \n",
              "2      7482180        134          11               0  ...              0   \n",
              "3       609063        134          11               0  ...              0   \n",
              "4       431310        134          11               0  ...              1   \n",
              "\n",
              "   release_day_3  release_day_4  time_log    dr_rank  dr_rank2  drbf_rank  \\\n",
              "0              0              1  4.574711  10.060449     261.0   0.000000   \n",
              "1              1              0  4.718499  13.927284     388.0   0.000000   \n",
              "2              1              1  4.812184  15.828035     461.0  14.547874   \n",
              "3              1              0  4.727388  13.319679     363.0  15.293808   \n",
              "4              0              0  4.804021  12.974585     339.0  11.702978   \n",
              "\n",
              "   drbf_rank2  drp_rank  drp_rank2  \n",
              "0         1.0  0.000000        1.0  \n",
              "1         1.0  0.000000        1.0  \n",
              "2       181.0  0.693147        2.0  \n",
              "3       200.0  1.098612        3.0  \n",
              "4        76.0  1.386294        4.0  \n",
              "\n",
              "[5 rows x 31 columns]"
            ],
            "text/html": [
              "\n",
              "  <div id=\"df-b49df292-1cfd-479d-9b8d-4e60191bd6d1\">\n",
              "    <div class=\"colab-df-container\">\n",
              "      <div>\n",
              "<style scoped>\n",
              "    .dataframe tbody tr th:only-of-type {\n",
              "        vertical-align: middle;\n",
              "    }\n",
              "\n",
              "    .dataframe tbody tr th {\n",
              "        vertical-align: top;\n",
              "    }\n",
              "\n",
              "    .dataframe thead th {\n",
              "        text-align: right;\n",
              "    }\n",
              "</style>\n",
              "<table border=\"1\" class=\"dataframe\">\n",
              "  <thead>\n",
              "    <tr style=\"text-align: right;\">\n",
              "      <th></th>\n",
              "      <th>screening_rat</th>\n",
              "      <th>director</th>\n",
              "      <th>dir_prev_bfnum</th>\n",
              "      <th>dir_prev_num</th>\n",
              "      <th>num_staff</th>\n",
              "      <th>num_actor</th>\n",
              "      <th>box_off_num</th>\n",
              "      <th>dist_rank</th>\n",
              "      <th>genre_rank</th>\n",
              "      <th>release_year_0</th>\n",
              "      <th>...</th>\n",
              "      <th>release_day_2</th>\n",
              "      <th>release_day_3</th>\n",
              "      <th>release_day_4</th>\n",
              "      <th>time_log</th>\n",
              "      <th>dr_rank</th>\n",
              "      <th>dr_rank2</th>\n",
              "      <th>drbf_rank</th>\n",
              "      <th>drbf_rank2</th>\n",
              "      <th>drp_rank</th>\n",
              "      <th>drp_rank2</th>\n",
              "    </tr>\n",
              "  </thead>\n",
              "  <tbody>\n",
              "    <tr>\n",
              "      <th>0</th>\n",
              "      <td>청소년 관람불가</td>\n",
              "      <td>조병옥</td>\n",
              "      <td>0.000000e+00</td>\n",
              "      <td>0</td>\n",
              "      <td>91</td>\n",
              "      <td>2</td>\n",
              "      <td>23398</td>\n",
              "      <td>134</td>\n",
              "      <td>11</td>\n",
              "      <td>0</td>\n",
              "      <td>...</td>\n",
              "      <td>0</td>\n",
              "      <td>0</td>\n",
              "      <td>1</td>\n",
              "      <td>4.574711</td>\n",
              "      <td>10.060449</td>\n",
              "      <td>261.0</td>\n",
              "      <td>0.000000</td>\n",
              "      <td>1.0</td>\n",
              "      <td>0.000000</td>\n",
              "      <td>1.0</td>\n",
              "    </tr>\n",
              "    <tr>\n",
              "      <th>1</th>\n",
              "      <td>15세 관람가</td>\n",
              "      <td>황병국</td>\n",
              "      <td>0.000000e+00</td>\n",
              "      <td>0</td>\n",
              "      <td>253</td>\n",
              "      <td>6</td>\n",
              "      <td>1118258</td>\n",
              "      <td>134</td>\n",
              "      <td>11</td>\n",
              "      <td>0</td>\n",
              "      <td>...</td>\n",
              "      <td>0</td>\n",
              "      <td>1</td>\n",
              "      <td>0</td>\n",
              "      <td>4.718499</td>\n",
              "      <td>13.927284</td>\n",
              "      <td>388.0</td>\n",
              "      <td>0.000000</td>\n",
              "      <td>1.0</td>\n",
              "      <td>0.000000</td>\n",
              "      <td>1.0</td>\n",
              "    </tr>\n",
              "    <tr>\n",
              "      <th>2</th>\n",
              "      <td>15세 관람가</td>\n",
              "      <td>김한민</td>\n",
              "      <td>2.079989e+06</td>\n",
              "      <td>1</td>\n",
              "      <td>687</td>\n",
              "      <td>4</td>\n",
              "      <td>7482180</td>\n",
              "      <td>134</td>\n",
              "      <td>11</td>\n",
              "      <td>0</td>\n",
              "      <td>...</td>\n",
              "      <td>0</td>\n",
              "      <td>1</td>\n",
              "      <td>1</td>\n",
              "      <td>4.812184</td>\n",
              "      <td>15.828035</td>\n",
              "      <td>461.0</td>\n",
              "      <td>14.547874</td>\n",
              "      <td>181.0</td>\n",
              "      <td>0.693147</td>\n",
              "      <td>2.0</td>\n",
              "    </tr>\n",
              "    <tr>\n",
              "      <th>3</th>\n",
              "      <td>12세 관람가</td>\n",
              "      <td>천성일</td>\n",
              "      <td>4.385472e+06</td>\n",
              "      <td>2</td>\n",
              "      <td>388</td>\n",
              "      <td>2</td>\n",
              "      <td>609063</td>\n",
              "      <td>134</td>\n",
              "      <td>11</td>\n",
              "      <td>0</td>\n",
              "      <td>...</td>\n",
              "      <td>0</td>\n",
              "      <td>1</td>\n",
              "      <td>0</td>\n",
              "      <td>4.727388</td>\n",
              "      <td>13.319679</td>\n",
              "      <td>363.0</td>\n",
              "      <td>15.293808</td>\n",
              "      <td>200.0</td>\n",
              "      <td>1.098612</td>\n",
              "      <td>3.0</td>\n",
              "    </tr>\n",
              "    <tr>\n",
              "      <th>4</th>\n",
              "      <td>15세 관람가</td>\n",
              "      <td>박흥식</td>\n",
              "      <td>1.209303e+05</td>\n",
              "      <td>3</td>\n",
              "      <td>439</td>\n",
              "      <td>3</td>\n",
              "      <td>431310</td>\n",
              "      <td>134</td>\n",
              "      <td>11</td>\n",
              "      <td>0</td>\n",
              "      <td>...</td>\n",
              "      <td>1</td>\n",
              "      <td>0</td>\n",
              "      <td>0</td>\n",
              "      <td>4.804021</td>\n",
              "      <td>12.974585</td>\n",
              "      <td>339.0</td>\n",
              "      <td>11.702978</td>\n",
              "      <td>76.0</td>\n",
              "      <td>1.386294</td>\n",
              "      <td>4.0</td>\n",
              "    </tr>\n",
              "  </tbody>\n",
              "</table>\n",
              "<p>5 rows × 31 columns</p>\n",
              "</div>\n",
              "      <button class=\"colab-df-convert\" onclick=\"convertToInteractive('df-b49df292-1cfd-479d-9b8d-4e60191bd6d1')\"\n",
              "              title=\"Convert this dataframe to an interactive table.\"\n",
              "              style=\"display:none;\">\n",
              "        \n",
              "  <svg xmlns=\"http://www.w3.org/2000/svg\" height=\"24px\"viewBox=\"0 0 24 24\"\n",
              "       width=\"24px\">\n",
              "    <path d=\"M0 0h24v24H0V0z\" fill=\"none\"/>\n",
              "    <path d=\"M18.56 5.44l.94 2.06.94-2.06 2.06-.94-2.06-.94-.94-2.06-.94 2.06-2.06.94zm-11 1L8.5 8.5l.94-2.06 2.06-.94-2.06-.94L8.5 2.5l-.94 2.06-2.06.94zm10 10l.94 2.06.94-2.06 2.06-.94-2.06-.94-.94-2.06-.94 2.06-2.06.94z\"/><path d=\"M17.41 7.96l-1.37-1.37c-.4-.4-.92-.59-1.43-.59-.52 0-1.04.2-1.43.59L10.3 9.45l-7.72 7.72c-.78.78-.78 2.05 0 2.83L4 21.41c.39.39.9.59 1.41.59.51 0 1.02-.2 1.41-.59l7.78-7.78 2.81-2.81c.8-.78.8-2.07 0-2.86zM5.41 20L4 18.59l7.72-7.72 1.47 1.35L5.41 20z\"/>\n",
              "  </svg>\n",
              "      </button>\n",
              "      \n",
              "  <style>\n",
              "    .colab-df-container {\n",
              "      display:flex;\n",
              "      flex-wrap:wrap;\n",
              "      gap: 12px;\n",
              "    }\n",
              "\n",
              "    .colab-df-convert {\n",
              "      background-color: #E8F0FE;\n",
              "      border: none;\n",
              "      border-radius: 50%;\n",
              "      cursor: pointer;\n",
              "      display: none;\n",
              "      fill: #1967D2;\n",
              "      height: 32px;\n",
              "      padding: 0 0 0 0;\n",
              "      width: 32px;\n",
              "    }\n",
              "\n",
              "    .colab-df-convert:hover {\n",
              "      background-color: #E2EBFA;\n",
              "      box-shadow: 0px 1px 2px rgba(60, 64, 67, 0.3), 0px 1px 3px 1px rgba(60, 64, 67, 0.15);\n",
              "      fill: #174EA6;\n",
              "    }\n",
              "\n",
              "    [theme=dark] .colab-df-convert {\n",
              "      background-color: #3B4455;\n",
              "      fill: #D2E3FC;\n",
              "    }\n",
              "\n",
              "    [theme=dark] .colab-df-convert:hover {\n",
              "      background-color: #434B5C;\n",
              "      box-shadow: 0px 1px 3px 1px rgba(0, 0, 0, 0.15);\n",
              "      filter: drop-shadow(0px 1px 2px rgba(0, 0, 0, 0.3));\n",
              "      fill: #FFFFFF;\n",
              "    }\n",
              "  </style>\n",
              "\n",
              "      <script>\n",
              "        const buttonEl =\n",
              "          document.querySelector('#df-b49df292-1cfd-479d-9b8d-4e60191bd6d1 button.colab-df-convert');\n",
              "        buttonEl.style.display =\n",
              "          google.colab.kernel.accessAllowed ? 'block' : 'none';\n",
              "\n",
              "        async function convertToInteractive(key) {\n",
              "          const element = document.querySelector('#df-b49df292-1cfd-479d-9b8d-4e60191bd6d1');\n",
              "          const dataTable =\n",
              "            await google.colab.kernel.invokeFunction('convertToInteractive',\n",
              "                                                     [key], {});\n",
              "          if (!dataTable) return;\n",
              "\n",
              "          const docLinkHtml = 'Like what you see? Visit the ' +\n",
              "            '<a target=\"_blank\" href=https://colab.research.google.com/notebooks/data_table.ipynb>data table notebook</a>'\n",
              "            + ' to learn more about interactive tables.';\n",
              "          element.innerHTML = '';\n",
              "          dataTable['output_type'] = 'display_data';\n",
              "          await google.colab.output.renderOutput(dataTable, element);\n",
              "          const docLink = document.createElement('div');\n",
              "          docLink.innerHTML = docLinkHtml;\n",
              "          element.appendChild(docLink);\n",
              "        }\n",
              "      </script>\n",
              "    </div>\n",
              "  </div>\n",
              "  "
            ]
          },
          "metadata": {},
          "execution_count": 62
        }
      ]
    },
    {
      "cell_type": "code",
      "source": [
        "test.fillna(test.median(), inplace = True)"
      ],
      "metadata": {
        "id": "kFn0C4LeFb6B"
      },
      "execution_count": 63,
      "outputs": []
    },
    {
      "cell_type": "markdown",
      "source": [
        "### * 감독 관련 변수(6,7,8번)를 결합한 전처리"
      ],
      "metadata": {
        "id": "5eOoNHMOCTN3"
      }
    },
    {
      "cell_type": "code",
      "source": [
        "train['dr_mean'] = (train['dr_rank']+train['drbf_rank'])/2  #6,7번 평균낸 변수 추가\n",
        "test['dr_mean'] = (test['dr_rank']+test['drbf_rank'])/2\n",
        "train.head()"
      ],
      "metadata": {
        "id": "P5K3_7jD_Mwd",
        "colab": {
          "base_uri": "https://localhost:8080/",
          "height": 300
        },
        "outputId": "23ae4037-0e24-47a7-f653-4b9962eb5d46"
      },
      "execution_count": 64,
      "outputs": [
        {
          "output_type": "execute_result",
          "data": {
            "text/plain": [
              "  screening_rat director  dir_prev_bfnum  dir_prev_num  num_staff  num_actor  \\\n",
              "0      청소년 관람불가      조병옥    0.000000e+00             0         91          2   \n",
              "1       15세 관람가      황병국    0.000000e+00             0        253          6   \n",
              "2       15세 관람가      김한민    2.079989e+06             1        687          4   \n",
              "3       12세 관람가      천성일    4.385472e+06             2        388          2   \n",
              "4       15세 관람가      박흥식    1.209303e+05             3        439          3   \n",
              "\n",
              "   box_off_num  dist_rank  genre_rank  release_year_0  ...  release_day_3  \\\n",
              "0        23398        134          11               0  ...              0   \n",
              "1      1118258        134          11               0  ...              1   \n",
              "2      7482180        134          11               0  ...              1   \n",
              "3       609063        134          11               0  ...              1   \n",
              "4       431310        134          11               0  ...              0   \n",
              "\n",
              "   release_day_4  time_log    dr_rank  dr_rank2  drbf_rank  drbf_rank2  \\\n",
              "0              1  4.574711  10.060449     261.0   0.000000         1.0   \n",
              "1              0  4.718499  13.927284     388.0   0.000000         1.0   \n",
              "2              1  4.812184  15.828035     461.0  14.547874       181.0   \n",
              "3              0  4.727388  13.319679     363.0  15.293808       200.0   \n",
              "4              0  4.804021  12.974585     339.0  11.702978        76.0   \n",
              "\n",
              "   drp_rank  drp_rank2    dr_mean  \n",
              "0  0.000000        1.0   5.030224  \n",
              "1  0.000000        1.0   6.963642  \n",
              "2  0.693147        2.0  15.187954  \n",
              "3  1.098612        3.0  14.306743  \n",
              "4  1.386294        4.0  12.338781  \n",
              "\n",
              "[5 rows x 32 columns]"
            ],
            "text/html": [
              "\n",
              "  <div id=\"df-e440b23d-bb3f-4cc4-a357-2e99ffe2979c\">\n",
              "    <div class=\"colab-df-container\">\n",
              "      <div>\n",
              "<style scoped>\n",
              "    .dataframe tbody tr th:only-of-type {\n",
              "        vertical-align: middle;\n",
              "    }\n",
              "\n",
              "    .dataframe tbody tr th {\n",
              "        vertical-align: top;\n",
              "    }\n",
              "\n",
              "    .dataframe thead th {\n",
              "        text-align: right;\n",
              "    }\n",
              "</style>\n",
              "<table border=\"1\" class=\"dataframe\">\n",
              "  <thead>\n",
              "    <tr style=\"text-align: right;\">\n",
              "      <th></th>\n",
              "      <th>screening_rat</th>\n",
              "      <th>director</th>\n",
              "      <th>dir_prev_bfnum</th>\n",
              "      <th>dir_prev_num</th>\n",
              "      <th>num_staff</th>\n",
              "      <th>num_actor</th>\n",
              "      <th>box_off_num</th>\n",
              "      <th>dist_rank</th>\n",
              "      <th>genre_rank</th>\n",
              "      <th>release_year_0</th>\n",
              "      <th>...</th>\n",
              "      <th>release_day_3</th>\n",
              "      <th>release_day_4</th>\n",
              "      <th>time_log</th>\n",
              "      <th>dr_rank</th>\n",
              "      <th>dr_rank2</th>\n",
              "      <th>drbf_rank</th>\n",
              "      <th>drbf_rank2</th>\n",
              "      <th>drp_rank</th>\n",
              "      <th>drp_rank2</th>\n",
              "      <th>dr_mean</th>\n",
              "    </tr>\n",
              "  </thead>\n",
              "  <tbody>\n",
              "    <tr>\n",
              "      <th>0</th>\n",
              "      <td>청소년 관람불가</td>\n",
              "      <td>조병옥</td>\n",
              "      <td>0.000000e+00</td>\n",
              "      <td>0</td>\n",
              "      <td>91</td>\n",
              "      <td>2</td>\n",
              "      <td>23398</td>\n",
              "      <td>134</td>\n",
              "      <td>11</td>\n",
              "      <td>0</td>\n",
              "      <td>...</td>\n",
              "      <td>0</td>\n",
              "      <td>1</td>\n",
              "      <td>4.574711</td>\n",
              "      <td>10.060449</td>\n",
              "      <td>261.0</td>\n",
              "      <td>0.000000</td>\n",
              "      <td>1.0</td>\n",
              "      <td>0.000000</td>\n",
              "      <td>1.0</td>\n",
              "      <td>5.030224</td>\n",
              "    </tr>\n",
              "    <tr>\n",
              "      <th>1</th>\n",
              "      <td>15세 관람가</td>\n",
              "      <td>황병국</td>\n",
              "      <td>0.000000e+00</td>\n",
              "      <td>0</td>\n",
              "      <td>253</td>\n",
              "      <td>6</td>\n",
              "      <td>1118258</td>\n",
              "      <td>134</td>\n",
              "      <td>11</td>\n",
              "      <td>0</td>\n",
              "      <td>...</td>\n",
              "      <td>1</td>\n",
              "      <td>0</td>\n",
              "      <td>4.718499</td>\n",
              "      <td>13.927284</td>\n",
              "      <td>388.0</td>\n",
              "      <td>0.000000</td>\n",
              "      <td>1.0</td>\n",
              "      <td>0.000000</td>\n",
              "      <td>1.0</td>\n",
              "      <td>6.963642</td>\n",
              "    </tr>\n",
              "    <tr>\n",
              "      <th>2</th>\n",
              "      <td>15세 관람가</td>\n",
              "      <td>김한민</td>\n",
              "      <td>2.079989e+06</td>\n",
              "      <td>1</td>\n",
              "      <td>687</td>\n",
              "      <td>4</td>\n",
              "      <td>7482180</td>\n",
              "      <td>134</td>\n",
              "      <td>11</td>\n",
              "      <td>0</td>\n",
              "      <td>...</td>\n",
              "      <td>1</td>\n",
              "      <td>1</td>\n",
              "      <td>4.812184</td>\n",
              "      <td>15.828035</td>\n",
              "      <td>461.0</td>\n",
              "      <td>14.547874</td>\n",
              "      <td>181.0</td>\n",
              "      <td>0.693147</td>\n",
              "      <td>2.0</td>\n",
              "      <td>15.187954</td>\n",
              "    </tr>\n",
              "    <tr>\n",
              "      <th>3</th>\n",
              "      <td>12세 관람가</td>\n",
              "      <td>천성일</td>\n",
              "      <td>4.385472e+06</td>\n",
              "      <td>2</td>\n",
              "      <td>388</td>\n",
              "      <td>2</td>\n",
              "      <td>609063</td>\n",
              "      <td>134</td>\n",
              "      <td>11</td>\n",
              "      <td>0</td>\n",
              "      <td>...</td>\n",
              "      <td>1</td>\n",
              "      <td>0</td>\n",
              "      <td>4.727388</td>\n",
              "      <td>13.319679</td>\n",
              "      <td>363.0</td>\n",
              "      <td>15.293808</td>\n",
              "      <td>200.0</td>\n",
              "      <td>1.098612</td>\n",
              "      <td>3.0</td>\n",
              "      <td>14.306743</td>\n",
              "    </tr>\n",
              "    <tr>\n",
              "      <th>4</th>\n",
              "      <td>15세 관람가</td>\n",
              "      <td>박흥식</td>\n",
              "      <td>1.209303e+05</td>\n",
              "      <td>3</td>\n",
              "      <td>439</td>\n",
              "      <td>3</td>\n",
              "      <td>431310</td>\n",
              "      <td>134</td>\n",
              "      <td>11</td>\n",
              "      <td>0</td>\n",
              "      <td>...</td>\n",
              "      <td>0</td>\n",
              "      <td>0</td>\n",
              "      <td>4.804021</td>\n",
              "      <td>12.974585</td>\n",
              "      <td>339.0</td>\n",
              "      <td>11.702978</td>\n",
              "      <td>76.0</td>\n",
              "      <td>1.386294</td>\n",
              "      <td>4.0</td>\n",
              "      <td>12.338781</td>\n",
              "    </tr>\n",
              "  </tbody>\n",
              "</table>\n",
              "<p>5 rows × 32 columns</p>\n",
              "</div>\n",
              "      <button class=\"colab-df-convert\" onclick=\"convertToInteractive('df-e440b23d-bb3f-4cc4-a357-2e99ffe2979c')\"\n",
              "              title=\"Convert this dataframe to an interactive table.\"\n",
              "              style=\"display:none;\">\n",
              "        \n",
              "  <svg xmlns=\"http://www.w3.org/2000/svg\" height=\"24px\"viewBox=\"0 0 24 24\"\n",
              "       width=\"24px\">\n",
              "    <path d=\"M0 0h24v24H0V0z\" fill=\"none\"/>\n",
              "    <path d=\"M18.56 5.44l.94 2.06.94-2.06 2.06-.94-2.06-.94-.94-2.06-.94 2.06-2.06.94zm-11 1L8.5 8.5l.94-2.06 2.06-.94-2.06-.94L8.5 2.5l-.94 2.06-2.06.94zm10 10l.94 2.06.94-2.06 2.06-.94-2.06-.94-.94-2.06-.94 2.06-2.06.94z\"/><path d=\"M17.41 7.96l-1.37-1.37c-.4-.4-.92-.59-1.43-.59-.52 0-1.04.2-1.43.59L10.3 9.45l-7.72 7.72c-.78.78-.78 2.05 0 2.83L4 21.41c.39.39.9.59 1.41.59.51 0 1.02-.2 1.41-.59l7.78-7.78 2.81-2.81c.8-.78.8-2.07 0-2.86zM5.41 20L4 18.59l7.72-7.72 1.47 1.35L5.41 20z\"/>\n",
              "  </svg>\n",
              "      </button>\n",
              "      \n",
              "  <style>\n",
              "    .colab-df-container {\n",
              "      display:flex;\n",
              "      flex-wrap:wrap;\n",
              "      gap: 12px;\n",
              "    }\n",
              "\n",
              "    .colab-df-convert {\n",
              "      background-color: #E8F0FE;\n",
              "      border: none;\n",
              "      border-radius: 50%;\n",
              "      cursor: pointer;\n",
              "      display: none;\n",
              "      fill: #1967D2;\n",
              "      height: 32px;\n",
              "      padding: 0 0 0 0;\n",
              "      width: 32px;\n",
              "    }\n",
              "\n",
              "    .colab-df-convert:hover {\n",
              "      background-color: #E2EBFA;\n",
              "      box-shadow: 0px 1px 2px rgba(60, 64, 67, 0.3), 0px 1px 3px 1px rgba(60, 64, 67, 0.15);\n",
              "      fill: #174EA6;\n",
              "    }\n",
              "\n",
              "    [theme=dark] .colab-df-convert {\n",
              "      background-color: #3B4455;\n",
              "      fill: #D2E3FC;\n",
              "    }\n",
              "\n",
              "    [theme=dark] .colab-df-convert:hover {\n",
              "      background-color: #434B5C;\n",
              "      box-shadow: 0px 1px 3px 1px rgba(0, 0, 0, 0.15);\n",
              "      filter: drop-shadow(0px 1px 2px rgba(0, 0, 0, 0.3));\n",
              "      fill: #FFFFFF;\n",
              "    }\n",
              "  </style>\n",
              "\n",
              "      <script>\n",
              "        const buttonEl =\n",
              "          document.querySelector('#df-e440b23d-bb3f-4cc4-a357-2e99ffe2979c button.colab-df-convert');\n",
              "        buttonEl.style.display =\n",
              "          google.colab.kernel.accessAllowed ? 'block' : 'none';\n",
              "\n",
              "        async function convertToInteractive(key) {\n",
              "          const element = document.querySelector('#df-e440b23d-bb3f-4cc4-a357-2e99ffe2979c');\n",
              "          const dataTable =\n",
              "            await google.colab.kernel.invokeFunction('convertToInteractive',\n",
              "                                                     [key], {});\n",
              "          if (!dataTable) return;\n",
              "\n",
              "          const docLinkHtml = 'Like what you see? Visit the ' +\n",
              "            '<a target=\"_blank\" href=https://colab.research.google.com/notebooks/data_table.ipynb>data table notebook</a>'\n",
              "            + ' to learn more about interactive tables.';\n",
              "          element.innerHTML = '';\n",
              "          dataTable['output_type'] = 'display_data';\n",
              "          await google.colab.output.renderOutput(dataTable, element);\n",
              "          const docLink = document.createElement('div');\n",
              "          docLink.innerHTML = docLinkHtml;\n",
              "          element.appendChild(docLink);\n",
              "        }\n",
              "      </script>\n",
              "    </div>\n",
              "  </div>\n",
              "  "
            ]
          },
          "metadata": {},
          "execution_count": 64
        }
      ]
    },
    {
      "cell_type": "code",
      "source": [
        "train['dr_mean2'] = train['dr_mean'].rank(method='dense', ascending=True) #평균값 rank 변수 추가\n",
        "test['dr_mean2'] = test['dr_mean'].rank(method='dense', ascending=True)\n",
        "train.head()"
      ],
      "metadata": {
        "id": "VCiFcUkQFWTJ",
        "colab": {
          "base_uri": "https://localhost:8080/",
          "height": 300
        },
        "outputId": "4b1d6dba-69d2-4ff3-c0ee-727ef594ccb7"
      },
      "execution_count": 65,
      "outputs": [
        {
          "output_type": "execute_result",
          "data": {
            "text/plain": [
              "  screening_rat director  dir_prev_bfnum  dir_prev_num  num_staff  num_actor  \\\n",
              "0      청소년 관람불가      조병옥    0.000000e+00             0         91          2   \n",
              "1       15세 관람가      황병국    0.000000e+00             0        253          6   \n",
              "2       15세 관람가      김한민    2.079989e+06             1        687          4   \n",
              "3       12세 관람가      천성일    4.385472e+06             2        388          2   \n",
              "4       15세 관람가      박흥식    1.209303e+05             3        439          3   \n",
              "\n",
              "   box_off_num  dist_rank  genre_rank  release_year_0  ...  release_day_4  \\\n",
              "0        23398        134          11               0  ...              1   \n",
              "1      1118258        134          11               0  ...              0   \n",
              "2      7482180        134          11               0  ...              1   \n",
              "3       609063        134          11               0  ...              0   \n",
              "4       431310        134          11               0  ...              0   \n",
              "\n",
              "   time_log    dr_rank  dr_rank2  drbf_rank  drbf_rank2  drp_rank  drp_rank2  \\\n",
              "0  4.574711  10.060449     261.0   0.000000         1.0  0.000000        1.0   \n",
              "1  4.718499  13.927284     388.0   0.000000         1.0  0.000000        1.0   \n",
              "2  4.812184  15.828035     461.0  14.547874       181.0  0.693147        2.0   \n",
              "3  4.727388  13.319679     363.0  15.293808       200.0  1.098612        3.0   \n",
              "4  4.804021  12.974585     339.0  11.702978        76.0  1.386294        4.0   \n",
              "\n",
              "     dr_mean  dr_mean2  \n",
              "0   5.030224     180.0  \n",
              "1   6.963642     246.0  \n",
              "2  15.187954     462.0  \n",
              "3  14.306743     433.0  \n",
              "4  12.338781     367.0  \n",
              "\n",
              "[5 rows x 33 columns]"
            ],
            "text/html": [
              "\n",
              "  <div id=\"df-69378bea-5c68-4a86-b15f-2fa3ff01b98f\">\n",
              "    <div class=\"colab-df-container\">\n",
              "      <div>\n",
              "<style scoped>\n",
              "    .dataframe tbody tr th:only-of-type {\n",
              "        vertical-align: middle;\n",
              "    }\n",
              "\n",
              "    .dataframe tbody tr th {\n",
              "        vertical-align: top;\n",
              "    }\n",
              "\n",
              "    .dataframe thead th {\n",
              "        text-align: right;\n",
              "    }\n",
              "</style>\n",
              "<table border=\"1\" class=\"dataframe\">\n",
              "  <thead>\n",
              "    <tr style=\"text-align: right;\">\n",
              "      <th></th>\n",
              "      <th>screening_rat</th>\n",
              "      <th>director</th>\n",
              "      <th>dir_prev_bfnum</th>\n",
              "      <th>dir_prev_num</th>\n",
              "      <th>num_staff</th>\n",
              "      <th>num_actor</th>\n",
              "      <th>box_off_num</th>\n",
              "      <th>dist_rank</th>\n",
              "      <th>genre_rank</th>\n",
              "      <th>release_year_0</th>\n",
              "      <th>...</th>\n",
              "      <th>release_day_4</th>\n",
              "      <th>time_log</th>\n",
              "      <th>dr_rank</th>\n",
              "      <th>dr_rank2</th>\n",
              "      <th>drbf_rank</th>\n",
              "      <th>drbf_rank2</th>\n",
              "      <th>drp_rank</th>\n",
              "      <th>drp_rank2</th>\n",
              "      <th>dr_mean</th>\n",
              "      <th>dr_mean2</th>\n",
              "    </tr>\n",
              "  </thead>\n",
              "  <tbody>\n",
              "    <tr>\n",
              "      <th>0</th>\n",
              "      <td>청소년 관람불가</td>\n",
              "      <td>조병옥</td>\n",
              "      <td>0.000000e+00</td>\n",
              "      <td>0</td>\n",
              "      <td>91</td>\n",
              "      <td>2</td>\n",
              "      <td>23398</td>\n",
              "      <td>134</td>\n",
              "      <td>11</td>\n",
              "      <td>0</td>\n",
              "      <td>...</td>\n",
              "      <td>1</td>\n",
              "      <td>4.574711</td>\n",
              "      <td>10.060449</td>\n",
              "      <td>261.0</td>\n",
              "      <td>0.000000</td>\n",
              "      <td>1.0</td>\n",
              "      <td>0.000000</td>\n",
              "      <td>1.0</td>\n",
              "      <td>5.030224</td>\n",
              "      <td>180.0</td>\n",
              "    </tr>\n",
              "    <tr>\n",
              "      <th>1</th>\n",
              "      <td>15세 관람가</td>\n",
              "      <td>황병국</td>\n",
              "      <td>0.000000e+00</td>\n",
              "      <td>0</td>\n",
              "      <td>253</td>\n",
              "      <td>6</td>\n",
              "      <td>1118258</td>\n",
              "      <td>134</td>\n",
              "      <td>11</td>\n",
              "      <td>0</td>\n",
              "      <td>...</td>\n",
              "      <td>0</td>\n",
              "      <td>4.718499</td>\n",
              "      <td>13.927284</td>\n",
              "      <td>388.0</td>\n",
              "      <td>0.000000</td>\n",
              "      <td>1.0</td>\n",
              "      <td>0.000000</td>\n",
              "      <td>1.0</td>\n",
              "      <td>6.963642</td>\n",
              "      <td>246.0</td>\n",
              "    </tr>\n",
              "    <tr>\n",
              "      <th>2</th>\n",
              "      <td>15세 관람가</td>\n",
              "      <td>김한민</td>\n",
              "      <td>2.079989e+06</td>\n",
              "      <td>1</td>\n",
              "      <td>687</td>\n",
              "      <td>4</td>\n",
              "      <td>7482180</td>\n",
              "      <td>134</td>\n",
              "      <td>11</td>\n",
              "      <td>0</td>\n",
              "      <td>...</td>\n",
              "      <td>1</td>\n",
              "      <td>4.812184</td>\n",
              "      <td>15.828035</td>\n",
              "      <td>461.0</td>\n",
              "      <td>14.547874</td>\n",
              "      <td>181.0</td>\n",
              "      <td>0.693147</td>\n",
              "      <td>2.0</td>\n",
              "      <td>15.187954</td>\n",
              "      <td>462.0</td>\n",
              "    </tr>\n",
              "    <tr>\n",
              "      <th>3</th>\n",
              "      <td>12세 관람가</td>\n",
              "      <td>천성일</td>\n",
              "      <td>4.385472e+06</td>\n",
              "      <td>2</td>\n",
              "      <td>388</td>\n",
              "      <td>2</td>\n",
              "      <td>609063</td>\n",
              "      <td>134</td>\n",
              "      <td>11</td>\n",
              "      <td>0</td>\n",
              "      <td>...</td>\n",
              "      <td>0</td>\n",
              "      <td>4.727388</td>\n",
              "      <td>13.319679</td>\n",
              "      <td>363.0</td>\n",
              "      <td>15.293808</td>\n",
              "      <td>200.0</td>\n",
              "      <td>1.098612</td>\n",
              "      <td>3.0</td>\n",
              "      <td>14.306743</td>\n",
              "      <td>433.0</td>\n",
              "    </tr>\n",
              "    <tr>\n",
              "      <th>4</th>\n",
              "      <td>15세 관람가</td>\n",
              "      <td>박흥식</td>\n",
              "      <td>1.209303e+05</td>\n",
              "      <td>3</td>\n",
              "      <td>439</td>\n",
              "      <td>3</td>\n",
              "      <td>431310</td>\n",
              "      <td>134</td>\n",
              "      <td>11</td>\n",
              "      <td>0</td>\n",
              "      <td>...</td>\n",
              "      <td>0</td>\n",
              "      <td>4.804021</td>\n",
              "      <td>12.974585</td>\n",
              "      <td>339.0</td>\n",
              "      <td>11.702978</td>\n",
              "      <td>76.0</td>\n",
              "      <td>1.386294</td>\n",
              "      <td>4.0</td>\n",
              "      <td>12.338781</td>\n",
              "      <td>367.0</td>\n",
              "    </tr>\n",
              "  </tbody>\n",
              "</table>\n",
              "<p>5 rows × 33 columns</p>\n",
              "</div>\n",
              "      <button class=\"colab-df-convert\" onclick=\"convertToInteractive('df-69378bea-5c68-4a86-b15f-2fa3ff01b98f')\"\n",
              "              title=\"Convert this dataframe to an interactive table.\"\n",
              "              style=\"display:none;\">\n",
              "        \n",
              "  <svg xmlns=\"http://www.w3.org/2000/svg\" height=\"24px\"viewBox=\"0 0 24 24\"\n",
              "       width=\"24px\">\n",
              "    <path d=\"M0 0h24v24H0V0z\" fill=\"none\"/>\n",
              "    <path d=\"M18.56 5.44l.94 2.06.94-2.06 2.06-.94-2.06-.94-.94-2.06-.94 2.06-2.06.94zm-11 1L8.5 8.5l.94-2.06 2.06-.94-2.06-.94L8.5 2.5l-.94 2.06-2.06.94zm10 10l.94 2.06.94-2.06 2.06-.94-2.06-.94-.94-2.06-.94 2.06-2.06.94z\"/><path d=\"M17.41 7.96l-1.37-1.37c-.4-.4-.92-.59-1.43-.59-.52 0-1.04.2-1.43.59L10.3 9.45l-7.72 7.72c-.78.78-.78 2.05 0 2.83L4 21.41c.39.39.9.59 1.41.59.51 0 1.02-.2 1.41-.59l7.78-7.78 2.81-2.81c.8-.78.8-2.07 0-2.86zM5.41 20L4 18.59l7.72-7.72 1.47 1.35L5.41 20z\"/>\n",
              "  </svg>\n",
              "      </button>\n",
              "      \n",
              "  <style>\n",
              "    .colab-df-container {\n",
              "      display:flex;\n",
              "      flex-wrap:wrap;\n",
              "      gap: 12px;\n",
              "    }\n",
              "\n",
              "    .colab-df-convert {\n",
              "      background-color: #E8F0FE;\n",
              "      border: none;\n",
              "      border-radius: 50%;\n",
              "      cursor: pointer;\n",
              "      display: none;\n",
              "      fill: #1967D2;\n",
              "      height: 32px;\n",
              "      padding: 0 0 0 0;\n",
              "      width: 32px;\n",
              "    }\n",
              "\n",
              "    .colab-df-convert:hover {\n",
              "      background-color: #E2EBFA;\n",
              "      box-shadow: 0px 1px 2px rgba(60, 64, 67, 0.3), 0px 1px 3px 1px rgba(60, 64, 67, 0.15);\n",
              "      fill: #174EA6;\n",
              "    }\n",
              "\n",
              "    [theme=dark] .colab-df-convert {\n",
              "      background-color: #3B4455;\n",
              "      fill: #D2E3FC;\n",
              "    }\n",
              "\n",
              "    [theme=dark] .colab-df-convert:hover {\n",
              "      background-color: #434B5C;\n",
              "      box-shadow: 0px 1px 3px 1px rgba(0, 0, 0, 0.15);\n",
              "      filter: drop-shadow(0px 1px 2px rgba(0, 0, 0, 0.3));\n",
              "      fill: #FFFFFF;\n",
              "    }\n",
              "  </style>\n",
              "\n",
              "      <script>\n",
              "        const buttonEl =\n",
              "          document.querySelector('#df-69378bea-5c68-4a86-b15f-2fa3ff01b98f button.colab-df-convert');\n",
              "        buttonEl.style.display =\n",
              "          google.colab.kernel.accessAllowed ? 'block' : 'none';\n",
              "\n",
              "        async function convertToInteractive(key) {\n",
              "          const element = document.querySelector('#df-69378bea-5c68-4a86-b15f-2fa3ff01b98f');\n",
              "          const dataTable =\n",
              "            await google.colab.kernel.invokeFunction('convertToInteractive',\n",
              "                                                     [key], {});\n",
              "          if (!dataTable) return;\n",
              "\n",
              "          const docLinkHtml = 'Like what you see? Visit the ' +\n",
              "            '<a target=\"_blank\" href=https://colab.research.google.com/notebooks/data_table.ipynb>data table notebook</a>'\n",
              "            + ' to learn more about interactive tables.';\n",
              "          element.innerHTML = '';\n",
              "          dataTable['output_type'] = 'display_data';\n",
              "          await google.colab.output.renderOutput(dataTable, element);\n",
              "          const docLink = document.createElement('div');\n",
              "          docLink.innerHTML = docLinkHtml;\n",
              "          element.appendChild(docLink);\n",
              "        }\n",
              "      </script>\n",
              "    </div>\n",
              "  </div>\n",
              "  "
            ]
          },
          "metadata": {},
          "execution_count": 65
        }
      ]
    },
    {
      "cell_type": "code",
      "source": [
        "train.drop(['director','dir_prev_bfnum','dir_prev_num'], axis=1, inplace=True) #새 변수 만드는데 사용한 변수 모두 삭제. box_off_num은 전이나 후에 타겟 처리\n",
        "test.drop(['director','dir_prev_bfnum','dir_prev_num'], axis=1, inplace=True)\n",
        "train.head()"
      ],
      "metadata": {
        "id": "DnraCyG__kXf",
        "colab": {
          "base_uri": "https://localhost:8080/",
          "height": 300
        },
        "outputId": "df5ca303-8178-4835-82e4-01614b8c18f2"
      },
      "execution_count": 66,
      "outputs": [
        {
          "output_type": "execute_result",
          "data": {
            "text/plain": [
              "  screening_rat  num_staff  num_actor  box_off_num  dist_rank  genre_rank  \\\n",
              "0      청소년 관람불가         91          2        23398        134          11   \n",
              "1       15세 관람가        253          6      1118258        134          11   \n",
              "2       15세 관람가        687          4      7482180        134          11   \n",
              "3       12세 관람가        388          2       609063        134          11   \n",
              "4       15세 관람가        439          3       431310        134          11   \n",
              "\n",
              "   release_year_0  release_year_1  release_year_2  release_month_0  ...  \\\n",
              "0               0               0               1                0  ...   \n",
              "1               0               1               0                0  ...   \n",
              "2               0               1               0                0  ...   \n",
              "3               0               1               1                0  ...   \n",
              "4               0               1               1                0  ...   \n",
              "\n",
              "   release_day_4  time_log    dr_rank  dr_rank2  drbf_rank  drbf_rank2  \\\n",
              "0              1  4.574711  10.060449     261.0   0.000000         1.0   \n",
              "1              0  4.718499  13.927284     388.0   0.000000         1.0   \n",
              "2              1  4.812184  15.828035     461.0  14.547874       181.0   \n",
              "3              0  4.727388  13.319679     363.0  15.293808       200.0   \n",
              "4              0  4.804021  12.974585     339.0  11.702978        76.0   \n",
              "\n",
              "   drp_rank  drp_rank2    dr_mean  dr_mean2  \n",
              "0  0.000000        1.0   5.030224     180.0  \n",
              "1  0.000000        1.0   6.963642     246.0  \n",
              "2  0.693147        2.0  15.187954     462.0  \n",
              "3  1.098612        3.0  14.306743     433.0  \n",
              "4  1.386294        4.0  12.338781     367.0  \n",
              "\n",
              "[5 rows x 30 columns]"
            ],
            "text/html": [
              "\n",
              "  <div id=\"df-ddf70a63-be85-4c34-b223-c6a461e6d416\">\n",
              "    <div class=\"colab-df-container\">\n",
              "      <div>\n",
              "<style scoped>\n",
              "    .dataframe tbody tr th:only-of-type {\n",
              "        vertical-align: middle;\n",
              "    }\n",
              "\n",
              "    .dataframe tbody tr th {\n",
              "        vertical-align: top;\n",
              "    }\n",
              "\n",
              "    .dataframe thead th {\n",
              "        text-align: right;\n",
              "    }\n",
              "</style>\n",
              "<table border=\"1\" class=\"dataframe\">\n",
              "  <thead>\n",
              "    <tr style=\"text-align: right;\">\n",
              "      <th></th>\n",
              "      <th>screening_rat</th>\n",
              "      <th>num_staff</th>\n",
              "      <th>num_actor</th>\n",
              "      <th>box_off_num</th>\n",
              "      <th>dist_rank</th>\n",
              "      <th>genre_rank</th>\n",
              "      <th>release_year_0</th>\n",
              "      <th>release_year_1</th>\n",
              "      <th>release_year_2</th>\n",
              "      <th>release_month_0</th>\n",
              "      <th>...</th>\n",
              "      <th>release_day_4</th>\n",
              "      <th>time_log</th>\n",
              "      <th>dr_rank</th>\n",
              "      <th>dr_rank2</th>\n",
              "      <th>drbf_rank</th>\n",
              "      <th>drbf_rank2</th>\n",
              "      <th>drp_rank</th>\n",
              "      <th>drp_rank2</th>\n",
              "      <th>dr_mean</th>\n",
              "      <th>dr_mean2</th>\n",
              "    </tr>\n",
              "  </thead>\n",
              "  <tbody>\n",
              "    <tr>\n",
              "      <th>0</th>\n",
              "      <td>청소년 관람불가</td>\n",
              "      <td>91</td>\n",
              "      <td>2</td>\n",
              "      <td>23398</td>\n",
              "      <td>134</td>\n",
              "      <td>11</td>\n",
              "      <td>0</td>\n",
              "      <td>0</td>\n",
              "      <td>1</td>\n",
              "      <td>0</td>\n",
              "      <td>...</td>\n",
              "      <td>1</td>\n",
              "      <td>4.574711</td>\n",
              "      <td>10.060449</td>\n",
              "      <td>261.0</td>\n",
              "      <td>0.000000</td>\n",
              "      <td>1.0</td>\n",
              "      <td>0.000000</td>\n",
              "      <td>1.0</td>\n",
              "      <td>5.030224</td>\n",
              "      <td>180.0</td>\n",
              "    </tr>\n",
              "    <tr>\n",
              "      <th>1</th>\n",
              "      <td>15세 관람가</td>\n",
              "      <td>253</td>\n",
              "      <td>6</td>\n",
              "      <td>1118258</td>\n",
              "      <td>134</td>\n",
              "      <td>11</td>\n",
              "      <td>0</td>\n",
              "      <td>1</td>\n",
              "      <td>0</td>\n",
              "      <td>0</td>\n",
              "      <td>...</td>\n",
              "      <td>0</td>\n",
              "      <td>4.718499</td>\n",
              "      <td>13.927284</td>\n",
              "      <td>388.0</td>\n",
              "      <td>0.000000</td>\n",
              "      <td>1.0</td>\n",
              "      <td>0.000000</td>\n",
              "      <td>1.0</td>\n",
              "      <td>6.963642</td>\n",
              "      <td>246.0</td>\n",
              "    </tr>\n",
              "    <tr>\n",
              "      <th>2</th>\n",
              "      <td>15세 관람가</td>\n",
              "      <td>687</td>\n",
              "      <td>4</td>\n",
              "      <td>7482180</td>\n",
              "      <td>134</td>\n",
              "      <td>11</td>\n",
              "      <td>0</td>\n",
              "      <td>1</td>\n",
              "      <td>0</td>\n",
              "      <td>0</td>\n",
              "      <td>...</td>\n",
              "      <td>1</td>\n",
              "      <td>4.812184</td>\n",
              "      <td>15.828035</td>\n",
              "      <td>461.0</td>\n",
              "      <td>14.547874</td>\n",
              "      <td>181.0</td>\n",
              "      <td>0.693147</td>\n",
              "      <td>2.0</td>\n",
              "      <td>15.187954</td>\n",
              "      <td>462.0</td>\n",
              "    </tr>\n",
              "    <tr>\n",
              "      <th>3</th>\n",
              "      <td>12세 관람가</td>\n",
              "      <td>388</td>\n",
              "      <td>2</td>\n",
              "      <td>609063</td>\n",
              "      <td>134</td>\n",
              "      <td>11</td>\n",
              "      <td>0</td>\n",
              "      <td>1</td>\n",
              "      <td>1</td>\n",
              "      <td>0</td>\n",
              "      <td>...</td>\n",
              "      <td>0</td>\n",
              "      <td>4.727388</td>\n",
              "      <td>13.319679</td>\n",
              "      <td>363.0</td>\n",
              "      <td>15.293808</td>\n",
              "      <td>200.0</td>\n",
              "      <td>1.098612</td>\n",
              "      <td>3.0</td>\n",
              "      <td>14.306743</td>\n",
              "      <td>433.0</td>\n",
              "    </tr>\n",
              "    <tr>\n",
              "      <th>4</th>\n",
              "      <td>15세 관람가</td>\n",
              "      <td>439</td>\n",
              "      <td>3</td>\n",
              "      <td>431310</td>\n",
              "      <td>134</td>\n",
              "      <td>11</td>\n",
              "      <td>0</td>\n",
              "      <td>1</td>\n",
              "      <td>1</td>\n",
              "      <td>0</td>\n",
              "      <td>...</td>\n",
              "      <td>0</td>\n",
              "      <td>4.804021</td>\n",
              "      <td>12.974585</td>\n",
              "      <td>339.0</td>\n",
              "      <td>11.702978</td>\n",
              "      <td>76.0</td>\n",
              "      <td>1.386294</td>\n",
              "      <td>4.0</td>\n",
              "      <td>12.338781</td>\n",
              "      <td>367.0</td>\n",
              "    </tr>\n",
              "  </tbody>\n",
              "</table>\n",
              "<p>5 rows × 30 columns</p>\n",
              "</div>\n",
              "      <button class=\"colab-df-convert\" onclick=\"convertToInteractive('df-ddf70a63-be85-4c34-b223-c6a461e6d416')\"\n",
              "              title=\"Convert this dataframe to an interactive table.\"\n",
              "              style=\"display:none;\">\n",
              "        \n",
              "  <svg xmlns=\"http://www.w3.org/2000/svg\" height=\"24px\"viewBox=\"0 0 24 24\"\n",
              "       width=\"24px\">\n",
              "    <path d=\"M0 0h24v24H0V0z\" fill=\"none\"/>\n",
              "    <path d=\"M18.56 5.44l.94 2.06.94-2.06 2.06-.94-2.06-.94-.94-2.06-.94 2.06-2.06.94zm-11 1L8.5 8.5l.94-2.06 2.06-.94-2.06-.94L8.5 2.5l-.94 2.06-2.06.94zm10 10l.94 2.06.94-2.06 2.06-.94-2.06-.94-.94-2.06-.94 2.06-2.06.94z\"/><path d=\"M17.41 7.96l-1.37-1.37c-.4-.4-.92-.59-1.43-.59-.52 0-1.04.2-1.43.59L10.3 9.45l-7.72 7.72c-.78.78-.78 2.05 0 2.83L4 21.41c.39.39.9.59 1.41.59.51 0 1.02-.2 1.41-.59l7.78-7.78 2.81-2.81c.8-.78.8-2.07 0-2.86zM5.41 20L4 18.59l7.72-7.72 1.47 1.35L5.41 20z\"/>\n",
              "  </svg>\n",
              "      </button>\n",
              "      \n",
              "  <style>\n",
              "    .colab-df-container {\n",
              "      display:flex;\n",
              "      flex-wrap:wrap;\n",
              "      gap: 12px;\n",
              "    }\n",
              "\n",
              "    .colab-df-convert {\n",
              "      background-color: #E8F0FE;\n",
              "      border: none;\n",
              "      border-radius: 50%;\n",
              "      cursor: pointer;\n",
              "      display: none;\n",
              "      fill: #1967D2;\n",
              "      height: 32px;\n",
              "      padding: 0 0 0 0;\n",
              "      width: 32px;\n",
              "    }\n",
              "\n",
              "    .colab-df-convert:hover {\n",
              "      background-color: #E2EBFA;\n",
              "      box-shadow: 0px 1px 2px rgba(60, 64, 67, 0.3), 0px 1px 3px 1px rgba(60, 64, 67, 0.15);\n",
              "      fill: #174EA6;\n",
              "    }\n",
              "\n",
              "    [theme=dark] .colab-df-convert {\n",
              "      background-color: #3B4455;\n",
              "      fill: #D2E3FC;\n",
              "    }\n",
              "\n",
              "    [theme=dark] .colab-df-convert:hover {\n",
              "      background-color: #434B5C;\n",
              "      box-shadow: 0px 1px 3px 1px rgba(0, 0, 0, 0.15);\n",
              "      filter: drop-shadow(0px 1px 2px rgba(0, 0, 0, 0.3));\n",
              "      fill: #FFFFFF;\n",
              "    }\n",
              "  </style>\n",
              "\n",
              "      <script>\n",
              "        const buttonEl =\n",
              "          document.querySelector('#df-ddf70a63-be85-4c34-b223-c6a461e6d416 button.colab-df-convert');\n",
              "        buttonEl.style.display =\n",
              "          google.colab.kernel.accessAllowed ? 'block' : 'none';\n",
              "\n",
              "        async function convertToInteractive(key) {\n",
              "          const element = document.querySelector('#df-ddf70a63-be85-4c34-b223-c6a461e6d416');\n",
              "          const dataTable =\n",
              "            await google.colab.kernel.invokeFunction('convertToInteractive',\n",
              "                                                     [key], {});\n",
              "          if (!dataTable) return;\n",
              "\n",
              "          const docLinkHtml = 'Like what you see? Visit the ' +\n",
              "            '<a target=\"_blank\" href=https://colab.research.google.com/notebooks/data_table.ipynb>data table notebook</a>'\n",
              "            + ' to learn more about interactive tables.';\n",
              "          element.innerHTML = '';\n",
              "          dataTable['output_type'] = 'display_data';\n",
              "          await google.colab.output.renderOutput(dataTable, element);\n",
              "          const docLink = document.createElement('div');\n",
              "          docLink.innerHTML = docLinkHtml;\n",
              "          element.appendChild(docLink);\n",
              "        }\n",
              "      </script>\n",
              "    </div>\n",
              "  </div>\n",
              "  "
            ]
          },
          "metadata": {},
          "execution_count": 66
        }
      ]
    },
    {
      "cell_type": "markdown",
      "source": [
        "6,7,8. director와 box_off_num, dir_prev_bfnum, dir_prev_num을 이용해 director의 rank 생성\n",
        "\n",
        "*   1) 6,7번 평균값 사용안할거면 dr_rank,2, drbf_rank,2 중 사용-dr_mean,2 삭제\n",
        "*   2) 평균값 사용할거면 dr_rank,2, drbf_rank,2 삭제-dr_mean,2 중 사용\n",
        "*   3) 8번은 drp_rank,2 중 하나만 골라 쓰면 됨\n",
        "*   (주의) log1p 변환하고 나면 이전으로 돌아가는 과정 필요하니 그래프 두 개씩 그릴때 순서대로 그리기. 아니면 두 개 한번에 그리거나\n",
        "\n",
        "=> 일단 dr_mean, drp_rank2만 남겨놓음"
      ],
      "metadata": {
        "id": "5ATErTzuVzxT"
      }
    },
    {
      "cell_type": "code",
      "source": [
        "train.drop(['dr_rank','dr_rank2','drbf_rank','drbf_rank2','drp_rank','dr_mean2'], axis=1, inplace=True) #위에 필기 반영\n",
        "test.drop(['dr_rank','dr_rank2','drbf_rank','drbf_rank2','drp_rank','dr_mean2'], axis=1, inplace=True)\n",
        "train.head()"
      ],
      "metadata": {
        "id": "9XOZdocZCfNV",
        "colab": {
          "base_uri": "https://localhost:8080/",
          "height": 300
        },
        "outputId": "85fb00f4-e7d1-4a81-dd8a-a70adf49e44b"
      },
      "execution_count": 67,
      "outputs": [
        {
          "output_type": "execute_result",
          "data": {
            "text/plain": [
              "  screening_rat  num_staff  num_actor  box_off_num  dist_rank  genre_rank  \\\n",
              "0      청소년 관람불가         91          2        23398        134          11   \n",
              "1       15세 관람가        253          6      1118258        134          11   \n",
              "2       15세 관람가        687          4      7482180        134          11   \n",
              "3       12세 관람가        388          2       609063        134          11   \n",
              "4       15세 관람가        439          3       431310        134          11   \n",
              "\n",
              "   release_year_0  release_year_1  release_year_2  release_month_0  ...  \\\n",
              "0               0               0               1                0  ...   \n",
              "1               0               1               0                0  ...   \n",
              "2               0               1               0                0  ...   \n",
              "3               0               1               1                0  ...   \n",
              "4               0               1               1                0  ...   \n",
              "\n",
              "   release_quarter_1  release_quarter_2  release_day_0  release_day_1  \\\n",
              "0                  0                  1              0              0   \n",
              "1                  0                  1              0              0   \n",
              "2                  1                  0              0              0   \n",
              "3                  1                  0              0              0   \n",
              "4                  1                  0              0              0   \n",
              "\n",
              "   release_day_2  release_day_3  release_day_4  time_log  drp_rank2    dr_mean  \n",
              "0              0              0              1  4.574711        1.0   5.030224  \n",
              "1              0              1              0  4.718499        1.0   6.963642  \n",
              "2              0              1              1  4.812184        2.0  15.187954  \n",
              "3              0              1              0  4.727388        3.0  14.306743  \n",
              "4              1              0              0  4.804021        4.0  12.338781  \n",
              "\n",
              "[5 rows x 24 columns]"
            ],
            "text/html": [
              "\n",
              "  <div id=\"df-ff4539a9-dc46-483c-a573-0ee3e3e69764\">\n",
              "    <div class=\"colab-df-container\">\n",
              "      <div>\n",
              "<style scoped>\n",
              "    .dataframe tbody tr th:only-of-type {\n",
              "        vertical-align: middle;\n",
              "    }\n",
              "\n",
              "    .dataframe tbody tr th {\n",
              "        vertical-align: top;\n",
              "    }\n",
              "\n",
              "    .dataframe thead th {\n",
              "        text-align: right;\n",
              "    }\n",
              "</style>\n",
              "<table border=\"1\" class=\"dataframe\">\n",
              "  <thead>\n",
              "    <tr style=\"text-align: right;\">\n",
              "      <th></th>\n",
              "      <th>screening_rat</th>\n",
              "      <th>num_staff</th>\n",
              "      <th>num_actor</th>\n",
              "      <th>box_off_num</th>\n",
              "      <th>dist_rank</th>\n",
              "      <th>genre_rank</th>\n",
              "      <th>release_year_0</th>\n",
              "      <th>release_year_1</th>\n",
              "      <th>release_year_2</th>\n",
              "      <th>release_month_0</th>\n",
              "      <th>...</th>\n",
              "      <th>release_quarter_1</th>\n",
              "      <th>release_quarter_2</th>\n",
              "      <th>release_day_0</th>\n",
              "      <th>release_day_1</th>\n",
              "      <th>release_day_2</th>\n",
              "      <th>release_day_3</th>\n",
              "      <th>release_day_4</th>\n",
              "      <th>time_log</th>\n",
              "      <th>drp_rank2</th>\n",
              "      <th>dr_mean</th>\n",
              "    </tr>\n",
              "  </thead>\n",
              "  <tbody>\n",
              "    <tr>\n",
              "      <th>0</th>\n",
              "      <td>청소년 관람불가</td>\n",
              "      <td>91</td>\n",
              "      <td>2</td>\n",
              "      <td>23398</td>\n",
              "      <td>134</td>\n",
              "      <td>11</td>\n",
              "      <td>0</td>\n",
              "      <td>0</td>\n",
              "      <td>1</td>\n",
              "      <td>0</td>\n",
              "      <td>...</td>\n",
              "      <td>0</td>\n",
              "      <td>1</td>\n",
              "      <td>0</td>\n",
              "      <td>0</td>\n",
              "      <td>0</td>\n",
              "      <td>0</td>\n",
              "      <td>1</td>\n",
              "      <td>4.574711</td>\n",
              "      <td>1.0</td>\n",
              "      <td>5.030224</td>\n",
              "    </tr>\n",
              "    <tr>\n",
              "      <th>1</th>\n",
              "      <td>15세 관람가</td>\n",
              "      <td>253</td>\n",
              "      <td>6</td>\n",
              "      <td>1118258</td>\n",
              "      <td>134</td>\n",
              "      <td>11</td>\n",
              "      <td>0</td>\n",
              "      <td>1</td>\n",
              "      <td>0</td>\n",
              "      <td>0</td>\n",
              "      <td>...</td>\n",
              "      <td>0</td>\n",
              "      <td>1</td>\n",
              "      <td>0</td>\n",
              "      <td>0</td>\n",
              "      <td>0</td>\n",
              "      <td>1</td>\n",
              "      <td>0</td>\n",
              "      <td>4.718499</td>\n",
              "      <td>1.0</td>\n",
              "      <td>6.963642</td>\n",
              "    </tr>\n",
              "    <tr>\n",
              "      <th>2</th>\n",
              "      <td>15세 관람가</td>\n",
              "      <td>687</td>\n",
              "      <td>4</td>\n",
              "      <td>7482180</td>\n",
              "      <td>134</td>\n",
              "      <td>11</td>\n",
              "      <td>0</td>\n",
              "      <td>1</td>\n",
              "      <td>0</td>\n",
              "      <td>0</td>\n",
              "      <td>...</td>\n",
              "      <td>1</td>\n",
              "      <td>0</td>\n",
              "      <td>0</td>\n",
              "      <td>0</td>\n",
              "      <td>0</td>\n",
              "      <td>1</td>\n",
              "      <td>1</td>\n",
              "      <td>4.812184</td>\n",
              "      <td>2.0</td>\n",
              "      <td>15.187954</td>\n",
              "    </tr>\n",
              "    <tr>\n",
              "      <th>3</th>\n",
              "      <td>12세 관람가</td>\n",
              "      <td>388</td>\n",
              "      <td>2</td>\n",
              "      <td>609063</td>\n",
              "      <td>134</td>\n",
              "      <td>11</td>\n",
              "      <td>0</td>\n",
              "      <td>1</td>\n",
              "      <td>1</td>\n",
              "      <td>0</td>\n",
              "      <td>...</td>\n",
              "      <td>1</td>\n",
              "      <td>0</td>\n",
              "      <td>0</td>\n",
              "      <td>0</td>\n",
              "      <td>0</td>\n",
              "      <td>1</td>\n",
              "      <td>0</td>\n",
              "      <td>4.727388</td>\n",
              "      <td>3.0</td>\n",
              "      <td>14.306743</td>\n",
              "    </tr>\n",
              "    <tr>\n",
              "      <th>4</th>\n",
              "      <td>15세 관람가</td>\n",
              "      <td>439</td>\n",
              "      <td>3</td>\n",
              "      <td>431310</td>\n",
              "      <td>134</td>\n",
              "      <td>11</td>\n",
              "      <td>0</td>\n",
              "      <td>1</td>\n",
              "      <td>1</td>\n",
              "      <td>0</td>\n",
              "      <td>...</td>\n",
              "      <td>1</td>\n",
              "      <td>0</td>\n",
              "      <td>0</td>\n",
              "      <td>0</td>\n",
              "      <td>1</td>\n",
              "      <td>0</td>\n",
              "      <td>0</td>\n",
              "      <td>4.804021</td>\n",
              "      <td>4.0</td>\n",
              "      <td>12.338781</td>\n",
              "    </tr>\n",
              "  </tbody>\n",
              "</table>\n",
              "<p>5 rows × 24 columns</p>\n",
              "</div>\n",
              "      <button class=\"colab-df-convert\" onclick=\"convertToInteractive('df-ff4539a9-dc46-483c-a573-0ee3e3e69764')\"\n",
              "              title=\"Convert this dataframe to an interactive table.\"\n",
              "              style=\"display:none;\">\n",
              "        \n",
              "  <svg xmlns=\"http://www.w3.org/2000/svg\" height=\"24px\"viewBox=\"0 0 24 24\"\n",
              "       width=\"24px\">\n",
              "    <path d=\"M0 0h24v24H0V0z\" fill=\"none\"/>\n",
              "    <path d=\"M18.56 5.44l.94 2.06.94-2.06 2.06-.94-2.06-.94-.94-2.06-.94 2.06-2.06.94zm-11 1L8.5 8.5l.94-2.06 2.06-.94-2.06-.94L8.5 2.5l-.94 2.06-2.06.94zm10 10l.94 2.06.94-2.06 2.06-.94-2.06-.94-.94-2.06-.94 2.06-2.06.94z\"/><path d=\"M17.41 7.96l-1.37-1.37c-.4-.4-.92-.59-1.43-.59-.52 0-1.04.2-1.43.59L10.3 9.45l-7.72 7.72c-.78.78-.78 2.05 0 2.83L4 21.41c.39.39.9.59 1.41.59.51 0 1.02-.2 1.41-.59l7.78-7.78 2.81-2.81c.8-.78.8-2.07 0-2.86zM5.41 20L4 18.59l7.72-7.72 1.47 1.35L5.41 20z\"/>\n",
              "  </svg>\n",
              "      </button>\n",
              "      \n",
              "  <style>\n",
              "    .colab-df-container {\n",
              "      display:flex;\n",
              "      flex-wrap:wrap;\n",
              "      gap: 12px;\n",
              "    }\n",
              "\n",
              "    .colab-df-convert {\n",
              "      background-color: #E8F0FE;\n",
              "      border: none;\n",
              "      border-radius: 50%;\n",
              "      cursor: pointer;\n",
              "      display: none;\n",
              "      fill: #1967D2;\n",
              "      height: 32px;\n",
              "      padding: 0 0 0 0;\n",
              "      width: 32px;\n",
              "    }\n",
              "\n",
              "    .colab-df-convert:hover {\n",
              "      background-color: #E2EBFA;\n",
              "      box-shadow: 0px 1px 2px rgba(60, 64, 67, 0.3), 0px 1px 3px 1px rgba(60, 64, 67, 0.15);\n",
              "      fill: #174EA6;\n",
              "    }\n",
              "\n",
              "    [theme=dark] .colab-df-convert {\n",
              "      background-color: #3B4455;\n",
              "      fill: #D2E3FC;\n",
              "    }\n",
              "\n",
              "    [theme=dark] .colab-df-convert:hover {\n",
              "      background-color: #434B5C;\n",
              "      box-shadow: 0px 1px 3px 1px rgba(0, 0, 0, 0.15);\n",
              "      filter: drop-shadow(0px 1px 2px rgba(0, 0, 0, 0.3));\n",
              "      fill: #FFFFFF;\n",
              "    }\n",
              "  </style>\n",
              "\n",
              "      <script>\n",
              "        const buttonEl =\n",
              "          document.querySelector('#df-ff4539a9-dc46-483c-a573-0ee3e3e69764 button.colab-df-convert');\n",
              "        buttonEl.style.display =\n",
              "          google.colab.kernel.accessAllowed ? 'block' : 'none';\n",
              "\n",
              "        async function convertToInteractive(key) {\n",
              "          const element = document.querySelector('#df-ff4539a9-dc46-483c-a573-0ee3e3e69764');\n",
              "          const dataTable =\n",
              "            await google.colab.kernel.invokeFunction('convertToInteractive',\n",
              "                                                     [key], {});\n",
              "          if (!dataTable) return;\n",
              "\n",
              "          const docLinkHtml = 'Like what you see? Visit the ' +\n",
              "            '<a target=\"_blank\" href=https://colab.research.google.com/notebooks/data_table.ipynb>data table notebook</a>'\n",
              "            + ' to learn more about interactive tables.';\n",
              "          element.innerHTML = '';\n",
              "          dataTable['output_type'] = 'display_data';\n",
              "          await google.colab.output.renderOutput(dataTable, element);\n",
              "          const docLink = document.createElement('div');\n",
              "          docLink.innerHTML = docLinkHtml;\n",
              "          element.appendChild(docLink);\n",
              "        }\n",
              "      </script>\n",
              "    </div>\n",
              "  </div>\n",
              "  "
            ]
          },
          "metadata": {},
          "execution_count": 67
        }
      ]
    },
    {
      "cell_type": "markdown",
      "source": [
        "## 9) 스텝 수 (num_staff)"
      ],
      "metadata": {
        "id": "QsfUqwLknHsa"
      }
    },
    {
      "cell_type": "code",
      "source": [
        "sns.histplot(x=train['num_staff'])"
      ],
      "metadata": {
        "id": "NM92iKGpC0sz",
        "colab": {
          "base_uri": "https://localhost:8080/",
          "height": 624
        },
        "outputId": "d803864e-4277-4463-bd71-59371a15fa39"
      },
      "execution_count": 68,
      "outputs": [
        {
          "output_type": "execute_result",
          "data": {
            "text/plain": [
              "<matplotlib.axes._subplots.AxesSubplot at 0x7f8c85ecd970>"
            ]
          },
          "metadata": {},
          "execution_count": 68
        },
        {
          "output_type": "display_data",
          "data": {
            "text/plain": [
              "<Figure size 720x720 with 1 Axes>"
            ],
            "image/png": "[encoded data removed]"
          },
          "metadata": {
            "needs_background": "light"
          }
        }
      ]
    },
    {
      "cell_type": "code",
      "source": [
        "#위의 그래프가 왜곡되어있으므로 log1p 변환을 통해 왜곡 정도 향상\n",
        "train['num_staff'] = np.log1p(train['num_staff'])\n",
        "test['num_staff'] = np.log1p(test['num_staff'])\n",
        "sns.histplot(x=train['num_staff'])"
      ],
      "metadata": {
        "id": "8yEgiGS1D7J_",
        "colab": {
          "base_uri": "https://localhost:8080/",
          "height": 624
        },
        "outputId": "2cc0b36f-cf42-4ac4-c5a0-0ca1e379cf48"
      },
      "execution_count": 69,
      "outputs": [
        {
          "output_type": "execute_result",
          "data": {
            "text/plain": [
              "<matplotlib.axes._subplots.AxesSubplot at 0x7f8c7ee9b7f0>"
            ]
          },
          "metadata": {},
          "execution_count": 69
        },
        {
          "output_type": "display_data",
          "data": {
            "text/plain": [
              "<Figure size 720x720 with 1 Axes>"
            ],
            "image/png": "[encoded data removed]"
          },
          "metadata": {
            "needs_background": "light"
          }
        }
      ]
    },
    {
      "cell_type": "markdown",
      "source": [
        "## 10) 주연배우 수 (num_actor)"
      ],
      "metadata": {
        "id": "njO0g6BfnHwC"
      }
    },
    {
      "cell_type": "code",
      "source": [
        "sns.histplot(x=train['num_actor'])"
      ],
      "metadata": {
        "id": "XWm6vJYVEAqp",
        "colab": {
          "base_uri": "https://localhost:8080/",
          "height": 624
        },
        "outputId": "fe207964-ca0c-4266-ceaf-7aaa24776025"
      },
      "execution_count": 70,
      "outputs": [
        {
          "output_type": "execute_result",
          "data": {
            "text/plain": [
              "<matplotlib.axes._subplots.AxesSubplot at 0x7f8c7fa37fd0>"
            ]
          },
          "metadata": {},
          "execution_count": 70
        },
        {
          "output_type": "display_data",
          "data": {
            "text/plain": [
              "<Figure size 720x720 with 1 Axes>"
            ],
            "image/png": "[encoded data removed]"
          },
          "metadata": {
            "needs_background": "light"
          }
        }
      ]
    },
    {
      "cell_type": "code",
      "source": [
        "#위의 그래프가 왜곡되어있으므로 log1p 변환을 통해 왜곡 정도 향상\n",
        "train['num_actor'] = np.log1p(train['num_actor'])\n",
        "test['num_actor'] = np.log1p(test['num_actor'])\n",
        "sns.histplot(x=train['num_actor'])"
      ],
      "metadata": {
        "id": "NsMuRMy7EBT-",
        "colab": {
          "base_uri": "https://localhost:8080/",
          "height": 624
        },
        "outputId": "6d3b9fb4-133f-414b-b90b-d3c94f6af296"
      },
      "execution_count": 71,
      "outputs": [
        {
          "output_type": "execute_result",
          "data": {
            "text/plain": [
              "<matplotlib.axes._subplots.AxesSubplot at 0x7f8c7ed75ac0>"
            ]
          },
          "metadata": {},
          "execution_count": 71
        },
        {
          "output_type": "display_data",
          "data": {
            "text/plain": [
              "<Figure size 720x720 with 1 Axes>"
            ],
            "image/png": "[encoded data removed]"
          },
          "metadata": {
            "needs_background": "light"
          }
        }
      ]
    },
    {
      "cell_type": "markdown",
      "source": [
        "## 11) 상영등급 (screening_rat)"
      ],
      "metadata": {
        "id": "O0mhlgreAsBJ"
      }
    },
    {
      "cell_type": "code",
      "source": [
        "# 항목개수가  4개밖에 안되어서 원핫 인코딩\n",
        "train=pd.get_dummies(train,columns=['screening_rat'])\n",
        "test=pd.get_dummies(test,columns=['screening_rat'])\n",
        "train.head()"
      ],
      "metadata": {
        "id": "LLcwDBdxC8dl",
        "colab": {
          "base_uri": "https://localhost:8080/",
          "height": 317
        },
        "outputId": "544cb613-0270-436b-be45-98196a45767c"
      },
      "execution_count": 72,
      "outputs": [
        {
          "output_type": "execute_result",
          "data": {
            "text/plain": [
              "   num_staff  num_actor  box_off_num  dist_rank  genre_rank  release_year_0  \\\n",
              "0   4.521789   1.098612        23398        134          11               0   \n",
              "1   5.537334   1.945910      1118258        134          11               0   \n",
              "2   6.533789   1.609438      7482180        134          11               0   \n",
              "3   5.963579   1.098612       609063        134          11               0   \n",
              "4   6.086775   1.386294       431310        134          11               0   \n",
              "\n",
              "   release_year_1  release_year_2  release_month_0  release_month_1  ...  \\\n",
              "0               0               1                0                0  ...   \n",
              "1               1               0                0                0  ...   \n",
              "2               1               0                0                0  ...   \n",
              "3               1               1                0                0  ...   \n",
              "4               1               1                0                0  ...   \n",
              "\n",
              "   release_day_2  release_day_3  release_day_4  time_log  drp_rank2  \\\n",
              "0              0              0              1  4.574711        1.0   \n",
              "1              0              1              0  4.718499        1.0   \n",
              "2              0              1              1  4.812184        2.0   \n",
              "3              0              1              0  4.727388        3.0   \n",
              "4              1              0              0  4.804021        4.0   \n",
              "\n",
              "     dr_mean  screening_rat_12세 관람가  screening_rat_15세 관람가  \\\n",
              "0   5.030224                      0                      0   \n",
              "1   6.963642                      0                      1   \n",
              "2  15.187954                      0                      1   \n",
              "3  14.306743                      1                      0   \n",
              "4  12.338781                      0                      1   \n",
              "\n",
              "   screening_rat_전체 관람가  screening_rat_청소년 관람불가  \n",
              "0                     0                       1  \n",
              "1                     0                       0  \n",
              "2                     0                       0  \n",
              "3                     0                       0  \n",
              "4                     0                       0  \n",
              "\n",
              "[5 rows x 27 columns]"
            ],
            "text/html": [
              "\n",
              "  <div id=\"df-8341a1f5-4c26-444e-8245-b8f5828f675b\">\n",
              "    <div class=\"colab-df-container\">\n",
              "      <div>\n",
              "<style scoped>\n",
              "    .dataframe tbody tr th:only-of-type {\n",
              "        vertical-align: middle;\n",
              "    }\n",
              "\n",
              "    .dataframe tbody tr th {\n",
              "        vertical-align: top;\n",
              "    }\n",
              "\n",
              "    .dataframe thead th {\n",
              "        text-align: right;\n",
              "    }\n",
              "</style>\n",
              "<table border=\"1\" class=\"dataframe\">\n",
              "  <thead>\n",
              "    <tr style=\"text-align: right;\">\n",
              "      <th></th>\n",
              "      <th>num_staff</th>\n",
              "      <th>num_actor</th>\n",
              "      <th>box_off_num</th>\n",
              "      <th>dist_rank</th>\n",
              "      <th>genre_rank</th>\n",
              "      <th>release_year_0</th>\n",
              "      <th>release_year_1</th>\n",
              "      <th>release_year_2</th>\n",
              "      <th>release_month_0</th>\n",
              "      <th>release_month_1</th>\n",
              "      <th>...</th>\n",
              "      <th>release_day_2</th>\n",
              "      <th>release_day_3</th>\n",
              "      <th>release_day_4</th>\n",
              "      <th>time_log</th>\n",
              "      <th>drp_rank2</th>\n",
              "      <th>dr_mean</th>\n",
              "      <th>screening_rat_12세 관람가</th>\n",
              "      <th>screening_rat_15세 관람가</th>\n",
              "      <th>screening_rat_전체 관람가</th>\n",
              "      <th>screening_rat_청소년 관람불가</th>\n",
              "    </tr>\n",
              "  </thead>\n",
              "  <tbody>\n",
              "    <tr>\n",
              "      <th>0</th>\n",
              "      <td>4.521789</td>\n",
              "      <td>1.098612</td>\n",
              "      <td>23398</td>\n",
              "      <td>134</td>\n",
              "      <td>11</td>\n",
              "      <td>0</td>\n",
              "      <td>0</td>\n",
              "      <td>1</td>\n",
              "      <td>0</td>\n",
              "      <td>0</td>\n",
              "      <td>...</td>\n",
              "      <td>0</td>\n",
              "      <td>0</td>\n",
              "      <td>1</td>\n",
              "      <td>4.574711</td>\n",
              "      <td>1.0</td>\n",
              "      <td>5.030224</td>\n",
              "      <td>0</td>\n",
              "      <td>0</td>\n",
              "      <td>0</td>\n",
              "      <td>1</td>\n",
              "    </tr>\n",
              "    <tr>\n",
              "      <th>1</th>\n",
              "      <td>5.537334</td>\n",
              "      <td>1.945910</td>\n",
              "      <td>1118258</td>\n",
              "      <td>134</td>\n",
              "      <td>11</td>\n",
              "      <td>0</td>\n",
              "      <td>1</td>\n",
              "      <td>0</td>\n",
              "      <td>0</td>\n",
              "      <td>0</td>\n",
              "      <td>...</td>\n",
              "      <td>0</td>\n",
              "      <td>1</td>\n",
              "      <td>0</td>\n",
              "      <td>4.718499</td>\n",
              "      <td>1.0</td>\n",
              "      <td>6.963642</td>\n",
              "      <td>0</td>\n",
              "      <td>1</td>\n",
              "      <td>0</td>\n",
              "      <td>0</td>\n",
              "    </tr>\n",
              "    <tr>\n",
              "      <th>2</th>\n",
              "      <td>6.533789</td>\n",
              "      <td>1.609438</td>\n",
              "      <td>7482180</td>\n",
              "      <td>134</td>\n",
              "      <td>11</td>\n",
              "      <td>0</td>\n",
              "      <td>1</td>\n",
              "      <td>0</td>\n",
              "      <td>0</td>\n",
              "      <td>0</td>\n",
              "      <td>...</td>\n",
              "      <td>0</td>\n",
              "      <td>1</td>\n",
              "      <td>1</td>\n",
              "      <td>4.812184</td>\n",
              "      <td>2.0</td>\n",
              "      <td>15.187954</td>\n",
              "      <td>0</td>\n",
              "      <td>1</td>\n",
              "      <td>0</td>\n",
              "      <td>0</td>\n",
              "    </tr>\n",
              "    <tr>\n",
              "      <th>3</th>\n",
              "      <td>5.963579</td>\n",
              "      <td>1.098612</td>\n",
              "      <td>609063</td>\n",
              "      <td>134</td>\n",
              "      <td>11</td>\n",
              "      <td>0</td>\n",
              "      <td>1</td>\n",
              "      <td>1</td>\n",
              "      <td>0</td>\n",
              "      <td>0</td>\n",
              "      <td>...</td>\n",
              "      <td>0</td>\n",
              "      <td>1</td>\n",
              "      <td>0</td>\n",
              "      <td>4.727388</td>\n",
              "      <td>3.0</td>\n",
              "      <td>14.306743</td>\n",
              "      <td>1</td>\n",
              "      <td>0</td>\n",
              "      <td>0</td>\n",
              "      <td>0</td>\n",
              "    </tr>\n",
              "    <tr>\n",
              "      <th>4</th>\n",
              "      <td>6.086775</td>\n",
              "      <td>1.386294</td>\n",
              "      <td>431310</td>\n",
              "      <td>134</td>\n",
              "      <td>11</td>\n",
              "      <td>0</td>\n",
              "      <td>1</td>\n",
              "      <td>1</td>\n",
              "      <td>0</td>\n",
              "      <td>0</td>\n",
              "      <td>...</td>\n",
              "      <td>1</td>\n",
              "      <td>0</td>\n",
              "      <td>0</td>\n",
              "      <td>4.804021</td>\n",
              "      <td>4.0</td>\n",
              "      <td>12.338781</td>\n",
              "      <td>0</td>\n",
              "      <td>1</td>\n",
              "      <td>0</td>\n",
              "      <td>0</td>\n",
              "    </tr>\n",
              "  </tbody>\n",
              "</table>\n",
              "<p>5 rows × 27 columns</p>\n",
              "</div>\n",
              "      <button class=\"colab-df-convert\" onclick=\"convertToInteractive('df-8341a1f5-4c26-444e-8245-b8f5828f675b')\"\n",
              "              title=\"Convert this dataframe to an interactive table.\"\n",
              "              style=\"display:none;\">\n",
              "        \n",
              "  <svg xmlns=\"http://www.w3.org/2000/svg\" height=\"24px\"viewBox=\"0 0 24 24\"\n",
              "       width=\"24px\">\n",
              "    <path d=\"M0 0h24v24H0V0z\" fill=\"none\"/>\n",
              "    <path d=\"M18.56 5.44l.94 2.06.94-2.06 2.06-.94-2.06-.94-.94-2.06-.94 2.06-2.06.94zm-11 1L8.5 8.5l.94-2.06 2.06-.94-2.06-.94L8.5 2.5l-.94 2.06-2.06.94zm10 10l.94 2.06.94-2.06 2.06-.94-2.06-.94-.94-2.06-.94 2.06-2.06.94z\"/><path d=\"M17.41 7.96l-1.37-1.37c-.4-.4-.92-.59-1.43-.59-.52 0-1.04.2-1.43.59L10.3 9.45l-7.72 7.72c-.78.78-.78 2.05 0 2.83L4 21.41c.39.39.9.59 1.41.59.51 0 1.02-.2 1.41-.59l7.78-7.78 2.81-2.81c.8-.78.8-2.07 0-2.86zM5.41 20L4 18.59l7.72-7.72 1.47 1.35L5.41 20z\"/>\n",
              "  </svg>\n",
              "      </button>\n",
              "      \n",
              "  <style>\n",
              "    .colab-df-container {\n",
              "      display:flex;\n",
              "      flex-wrap:wrap;\n",
              "      gap: 12px;\n",
              "    }\n",
              "\n",
              "    .colab-df-convert {\n",
              "      background-color: #E8F0FE;\n",
              "      border: none;\n",
              "      border-radius: 50%;\n",
              "      cursor: pointer;\n",
              "      display: none;\n",
              "      fill: #1967D2;\n",
              "      height: 32px;\n",
              "      padding: 0 0 0 0;\n",
              "      width: 32px;\n",
              "    }\n",
              "\n",
              "    .colab-df-convert:hover {\n",
              "      background-color: #E2EBFA;\n",
              "      box-shadow: 0px 1px 2px rgba(60, 64, 67, 0.3), 0px 1px 3px 1px rgba(60, 64, 67, 0.15);\n",
              "      fill: #174EA6;\n",
              "    }\n",
              "\n",
              "    [theme=dark] .colab-df-convert {\n",
              "      background-color: #3B4455;\n",
              "      fill: #D2E3FC;\n",
              "    }\n",
              "\n",
              "    [theme=dark] .colab-df-convert:hover {\n",
              "      background-color: #434B5C;\n",
              "      box-shadow: 0px 1px 3px 1px rgba(0, 0, 0, 0.15);\n",
              "      filter: drop-shadow(0px 1px 2px rgba(0, 0, 0, 0.3));\n",
              "      fill: #FFFFFF;\n",
              "    }\n",
              "  </style>\n",
              "\n",
              "      <script>\n",
              "        const buttonEl =\n",
              "          document.querySelector('#df-8341a1f5-4c26-444e-8245-b8f5828f675b button.colab-df-convert');\n",
              "        buttonEl.style.display =\n",
              "          google.colab.kernel.accessAllowed ? 'block' : 'none';\n",
              "\n",
              "        async function convertToInteractive(key) {\n",
              "          const element = document.querySelector('#df-8341a1f5-4c26-444e-8245-b8f5828f675b');\n",
              "          const dataTable =\n",
              "            await google.colab.kernel.invokeFunction('convertToInteractive',\n",
              "                                                     [key], {});\n",
              "          if (!dataTable) return;\n",
              "\n",
              "          const docLinkHtml = 'Like what you see? Visit the ' +\n",
              "            '<a target=\"_blank\" href=https://colab.research.google.com/notebooks/data_table.ipynb>data table notebook</a>'\n",
              "            + ' to learn more about interactive tables.';\n",
              "          element.innerHTML = '';\n",
              "          dataTable['output_type'] = 'display_data';\n",
              "          await google.colab.output.renderOutput(dataTable, element);\n",
              "          const docLink = document.createElement('div');\n",
              "          docLink.innerHTML = docLinkHtml;\n",
              "          element.appendChild(docLink);\n",
              "        }\n",
              "      </script>\n",
              "    </div>\n",
              "  </div>\n",
              "  "
            ]
          },
          "metadata": {},
          "execution_count": 72
        }
      ]
    },
    {
      "cell_type": "markdown",
      "source": [
        "## 12) 관객 수 (box_off_num)"
      ],
      "metadata": {
        "id": "QVgVXyqNnH4H"
      }
    },
    {
      "cell_type": "code",
      "source": [
        "plt.hist(train['box_off_num'])"
      ],
      "metadata": {
        "id": "BjzZV__Q4GT-",
        "colab": {
          "base_uri": "https://localhost:8080/",
          "height": 694
        },
        "outputId": "b79c0204-c423-4bfe-c3d5-ad5f68800d82"
      },
      "execution_count": 73,
      "outputs": [
        {
          "output_type": "execute_result",
          "data": {
            "text/plain": [
              "(array([514.,  45.,  15.,   9.,   3.,   4.,   4.,   1.,   3.,   2.]),\n",
              " array([1.00000000e+00, 1.42627750e+06, 2.85255400e+06, 4.27883050e+06,\n",
              "        5.70510700e+06, 7.13138350e+06, 8.55766000e+06, 9.98393650e+06,\n",
              "        1.14102130e+07, 1.28364895e+07, 1.42627660e+07]),\n",
              " <a list of 10 Patch objects>)"
            ]
          },
          "metadata": {},
          "execution_count": 73
        },
        {
          "output_type": "display_data",
          "data": {
            "text/plain": [
              "<Figure size 720x720 with 1 Axes>"
            ],
            "image/png": "[encoded data removed]"
          },
          "metadata": {
            "needs_background": "light"
          }
        }
      ]
    },
    {
      "cell_type": "code",
      "source": [
        "#위의 그래프가 왜곡되어있으므로 log1p 변환을 통해 왜곡 정도 향상\n",
        "train['box_off_num']=np.log1p(train.box_off_num)\n",
        "plt.hist(train['box_off_num'])"
      ],
      "metadata": {
        "id": "lUdhfkpQDYDk",
        "colab": {
          "base_uri": "https://localhost:8080/",
          "height": 681
        },
        "outputId": "04a781b1-51a7-404d-e052-5da839263925"
      },
      "execution_count": 74,
      "outputs": [
        {
          "output_type": "execute_result",
          "data": {
            "text/plain": [
              "(array([  3.,   3.,  25., 105., 124.,  79.,  55.,  67.,  98.,  41.]),\n",
              " array([ 0.69314718,  2.27114876,  3.84915034,  5.42715192,  7.00515351,\n",
              "         8.58315509, 10.16115667, 11.73915825, 13.31715983, 14.89516141,\n",
              "        16.47316299]),\n",
              " <a list of 10 Patch objects>)"
            ]
          },
          "metadata": {},
          "execution_count": 74
        },
        {
          "output_type": "display_data",
          "data": {
            "text/plain": [
              "<Figure size 720x720 with 1 Axes>"
            ],
            "image/png": "[encoded data removed]"
          },
          "metadata": {
            "needs_background": "light"
          }
        }
      ]
    },
    {
      "cell_type": "markdown",
      "source": [
        "# 03 회귀트리 모델 적합"
      ],
      "metadata": {
        "id": "M5DWxogkIBK_"
      }
    },
    {
      "cell_type": "code",
      "source": [
        "from sklearn.metrics import accuracy_score\n",
        "from sklearn.model_selection import train_test_split\n",
        "from sklearn.model_selection import KFold\n",
        "from sklearn.model_selection import cross_val_score\n",
        "from sklearn.model_selection import GridSearchCV\n",
        "from sklearn.model_selection import RepeatedKFold\n",
        "from sklearn.metrics import mean_squared_error\n",
        "import warnings\n",
        "warnings.filterwarnings('ignore')"
      ],
      "metadata": {
        "id": "YTkSIN4IJnKc"
      },
      "execution_count": 75,
      "outputs": []
    },
    {
      "cell_type": "code",
      "source": [
        "#train 데이터 분할\n",
        "X_features = train.drop(['box_off_num'], axis=1)\n",
        "y_labels = train['box_off_num']\n",
        "X_train, X_tr_test, y_train, y_tr_test = train_test_split(X_features, y_labels, test_size=0.2, random_state=156)"
      ],
      "metadata": {
        "id": "4dxGpyc5JjHd"
      },
      "execution_count": 76,
      "outputs": []
    },
    {
      "cell_type": "code",
      "source": [
        "print(X_train.shape, y_train.shape, X_tr_test.shape, y_tr_test.shape)"
      ],
      "metadata": {
        "id": "FuzdGkLbJxlG",
        "colab": {
          "base_uri": "https://localhost:8080/"
        },
        "outputId": "01498459-d1b4-428a-c3a2-943a5d143ae1"
      },
      "execution_count": 77,
      "outputs": [
        {
          "output_type": "stream",
          "name": "stdout",
          "text": [
            "(480, 26) (480,) (120, 26) (120,)\n"
          ]
        }
      ]
    },
    {
      "cell_type": "markdown",
      "source": [
        "## 1) 결정 트리"
      ],
      "metadata": {
        "id": "Q0nVFaBtI53g"
      }
    },
    {
      "cell_type": "markdown",
      "source": [
        "## 2) 랜덤 포레스트"
      ],
      "metadata": {
        "id": "oH2jm69sI57F"
      }
    },
    {
      "cell_type": "code",
      "source": [
        "from sklearn.ensemble import RandomForestRegressor\n",
        "from sklearn.metrics import mean_squared_error"
      ],
      "metadata": {
        "id": "C7EfGdBFa4sB"
      },
      "execution_count": 88,
      "outputs": []
    },
    {
      "cell_type": "code",
      "source": [
        "#모델 생성 및 훈련\n",
        "rf_reg = RandomForestRegressor(n_estimators=100)\n",
        "rf_reg.fit(X_train, y_train)\n",
        "\n",
        "#예측값 구하기\n",
        "y_preds = rf_reg.predict(X_tr_test)\n",
        "\n",
        "mse=mean_squared_error(y_tr_test,y_preds)\n",
        "rmse = np.sqrt(mse)\n",
        "print('MSE:{0:.3f},RMSE:{1:.3f}'.format(mse,rmse))"
      ],
      "metadata": {
        "colab": {
          "base_uri": "https://localhost:8080/"
        },
        "id": "dlg5Rc4ZchM8",
        "outputId": "35c85c9e-0f5c-49fa-beaf-2abbe149198d"
      },
      "execution_count": 89,
      "outputs": [
        {
          "output_type": "stream",
          "name": "stdout",
          "text": [
            "MSE:1.374,RMSE:1.172\n"
          ]
        }
      ]
    },
    {
      "cell_type": "code",
      "source": [
        "#파라미터 조정\n",
        "from sklearn.model_selection import GridSearchCV\n",
        "parameters = {\n",
        "    'n_estimators': [100, 150, 200, 250, 300],\n",
        "    'max_depth': [1,2,3,4],\n",
        "}\n",
        "rf_grid = GridSearchCV(rf_reg, parameters)\n",
        "rf_grid.fit(X_train, y_train)"
      ],
      "metadata": {
        "colab": {
          "base_uri": "https://localhost:8080/"
        },
        "id": "TxiAJJWyc4gP",
        "outputId": "80245b58-fa7b-4c49-ae48-43c16ff77c63"
      },
      "execution_count": 90,
      "outputs": [
        {
          "output_type": "execute_result",
          "data": {
            "text/plain": [
              "GridSearchCV(estimator=RandomForestRegressor(),\n",
              "             param_grid={'max_depth': [1, 2, 3, 4],\n",
              "                         'n_estimators': [100, 150, 200, 250, 300]})"
            ]
          },
          "metadata": {},
          "execution_count": 90
        }
      ]
    },
    {
      "cell_type": "code",
      "source": [
        "print('최적 하이퍼 파라미터:\\n', rf_grid.best_params_)"
      ],
      "metadata": {
        "colab": {
          "base_uri": "https://localhost:8080/"
        },
        "id": "HqeVWP0TgqDC",
        "outputId": "3ba26aeb-520e-41c6-f9d6-21c01db104a7"
      },
      "execution_count": 91,
      "outputs": [
        {
          "output_type": "stream",
          "name": "stdout",
          "text": [
            "최적 하이퍼 파라미터:\n",
            " {'max_depth': 4, 'n_estimators': 100}\n"
          ]
        }
      ]
    },
    {
      "cell_type": "code",
      "source": [
        "#최적 파라미터로 학습\n",
        "rf_reg1 = RandomForestRegressor(max_depth=4, n_estimators=100)\n",
        "rf_reg1.fit(X_train, y_train)\n",
        "\n",
        "#예측\n",
        "y_preds1 = rf_reg1.predict(X_tr_test)\n",
        "\n",
        "#평가\n",
        "mse=mean_squared_error(y_tr_test,y_preds1)\n",
        "rmse = np.sqrt(mse)\n",
        "print('MSE:{0:.3f}, RMSE:{1:.3f}'.format(mse,rmse))"
      ],
      "metadata": {
        "colab": {
          "base_uri": "https://localhost:8080/"
        },
        "id": "_EwAcB9xgk8t",
        "outputId": "931904ea-5828-4be8-da40-9f02114f2663"
      },
      "execution_count": 94,
      "outputs": [
        {
          "output_type": "stream",
          "name": "stdout",
          "text": [
            "MSE:1.544, RMSE:1.242\n"
          ]
        }
      ]
    },
    {
      "cell_type": "code",
      "source": [
        "feature_series = pd.Series(data=rf_reg.feature_importances_, index = X_train.columns)\n",
        "feature_series = feature_series.sort_values(ascending=False)\n",
        "sns.barplot(x=feature_series, y=feature_series.index)"
      ],
      "metadata": {
        "colab": {
          "base_uri": "https://localhost:8080/",
          "height": 610
        },
        "id": "XoNZCkUTjRzm",
        "outputId": "715a4870-4baf-4bc0-b044-5dbbf81cb122"
      },
      "execution_count": 95,
      "outputs": [
        {
          "output_type": "execute_result",
          "data": {
            "text/plain": [
              "<matplotlib.axes._subplots.AxesSubplot at 0x7f8c72924fa0>"
            ]
          },
          "metadata": {},
          "execution_count": 95
        },
        {
          "output_type": "display_data",
          "data": {
            "text/plain": [
              "<Figure size 720x720 with 1 Axes>"
            ],
            "image/png": "[encoded data removed]"
          },
          "metadata": {
            "needs_background": "light"
          }
        }
      ]
    },
    {
      "cell_type": "code",
      "source": [
        "#최종 제출 파일(파라미터 조정 전)\n",
        "y_preds=rf_reg.predict(test1)\n",
        "preds=np.expm1(y_preds)\n",
        "submission['box_off_num']=preds\n",
        "submission.to_csv('/content/drive/MyDrive/ESAA/22-2/submission1.csv', index=False)\n",
        "\n",
        "#최종 제출 파일(파라미터 조정 후\u001d)\n",
        "y_preds1=rf_reg1.predict(test1)\n",
        "preds=np.expm1(y_preds1)\n",
        "submission['box_off_num']=preds\n",
        "submission.to_csv('/content/drive/MyDrive/ESAA/22-2/submission2.csv', index=False)"
      ],
      "metadata": {
        "id": "yh26RfGAhy1z"
      },
      "execution_count": null,
      "outputs": []
    },
    {
      "cell_type": "markdown",
      "source": [
        "## 3) XGBoost"
      ],
      "metadata": {
        "id": "yvzBUi56I5_U"
      }
    },
    {
      "cell_type": "code",
      "source": [
        "from xgboost import XGBRegressor\n",
        "from sklearn.metrics import mean_squared_error\n",
        "from sklearn.model_selection import cross_val_score\n",
        "\n",
        "from sklearn.model_selection import GridSearchCV \n",
        "from sklearn.preprocessing import MinMaxScaler, StandardScaler \n",
        "\n",
        "import xgboost as xgb"
      ],
      "metadata": {
        "id": "nfTT_7eo3_OJ"
      },
      "execution_count": 78,
      "outputs": []
    },
    {
      "cell_type": "code",
      "source": [
        "#모델 생성 및 훈련\n",
        "xgb_reg=XGBRegressor(n_estimators=100)\n",
        "xgb_reg.fit(X_train, y_train)\n",
        "\n",
        "#예측값 구하기\n",
        "y_preds=xgb_reg.predict(X_tr_test)\n",
        "\n",
        "#MSE와 RMSE 구하기\n",
        "mse=mean_squared_error(y_tr_test, y_preds)\n",
        "rmse=np.sqrt(mse)\n",
        "print('MSE:{0:.3f}, RMSE:{1:.3f}'.format(mse, rmse))"
      ],
      "metadata": {
        "colab": {
          "base_uri": "https://localhost:8080/"
        },
        "id": "zv1aoaok4FgK",
        "outputId": "6c2383ce-101b-4648-cdec-3af42278fc0b"
      },
      "execution_count": 79,
      "outputs": [
        {
          "output_type": "stream",
          "name": "stdout",
          "text": [
            "[11:46:31] WARNING: /workspace/src/objective/regression_obj.cu:152: reg:linear is now deprecated in favor of reg:squarederror.\n",
            "MSE:1.503, RMSE:1.226\n"
          ]
        }
      ]
    },
    {
      "cell_type": "code",
      "source": [
        "xgb1 = XGBRegressor()\n",
        "parameters = {'nthread':[4],\n",
        "              'objective':['reg:linear'],\n",
        "              'learning_rate': [0.01,0.03,0.1,0.15],\n",
        "              'max_depth': [4,6,8,10],\n",
        "              'min_child_weight': [0.8,1,4],\n",
        "              'silent': [1],\n",
        "              'subsample': [0.7,1],\n",
        "              'colsample_bytree': [0.7,0.9],\n",
        "              'n_estimators': [100,300,500]\n",
        "}\n",
        "\n",
        "\n",
        "xgb_grid = GridSearchCV(xgb1,\n",
        "                        parameters,\n",
        "                        cv = 2,\n",
        "                        n_jobs = -1,\n",
        "                        verbose = True)\n",
        "\n",
        "xgb_grid.fit(X_train, y_train)\n",
        "\n",
        "print(xgb_grid.best_score_)\n",
        "print(xgb_grid.best_params_)\n",
        "     "
      ],
      "metadata": {
        "id": "3_e36Tf24Ln7",
        "colab": {
          "base_uri": "https://localhost:8080/"
        },
        "outputId": "c7e98372-a479-4b5e-adbb-b90b4b272ca4"
      },
      "execution_count": 80,
      "outputs": [
        {
          "output_type": "stream",
          "name": "stdout",
          "text": [
            "Fitting 2 folds for each of 576 candidates, totalling 1152 fits\n",
            "0.873517765172217\n",
            "{'colsample_bytree': 0.7, 'learning_rate': 0.03, 'max_depth': 6, 'min_child_weight': 0.8, 'n_estimators': 300, 'nthread': 4, 'objective': 'reg:linear', 'silent': 1, 'subsample': 0.7}\n"
          ]
        }
      ]
    },
    {
      "cell_type": "code",
      "source": [
        "\n",
        "xgb_model = XGBRegressor(colsample_bytree=0.7,learning_rate=0.1,max_depth=8,min_child_weight=4,n_estimator= 100,nthread=4,silent=1,subsample=0.7)\n",
        "# Add silent=True to avoid printing out updates with each cycle\n",
        "xgb_model.fit(X_train, y_train, verbose=False)\n",
        "     "
      ],
      "metadata": {
        "colab": {
          "base_uri": "https://localhost:8080/"
        },
        "id": "VqZhURrE49vI",
        "outputId": "ea67afaa-5803-44b3-de18-c895fbdb2094"
      },
      "execution_count": 81,
      "outputs": [
        {
          "output_type": "execute_result",
          "data": {
            "text/plain": [
              "XGBRegressor(colsample_bytree=0.7, max_depth=8, min_child_weight=4,\n",
              "             n_estimator=100, nthread=4, silent=1, subsample=0.7)"
            ]
          },
          "metadata": {},
          "execution_count": 81
        }
      ]
    },
    {
      "cell_type": "code",
      "source": [
        "y_preds=xgb_model.predict(X_tr_test)\n",
        "\n",
        "#MSE와 RMSE 구하기\n",
        "mse=mean_squared_error(y_tr_test, y_preds)\n",
        "rmse=np.sqrt(mse)\n",
        "print('MSE:{0:.3f}, RMSE:{1:.3f}'.format(mse, rmse))"
      ],
      "metadata": {
        "colab": {
          "base_uri": "https://localhost:8080/"
        },
        "id": "4BHqUnU_4-4v",
        "outputId": "1dcbfd41-1919-4ea1-b72f-50326481e6e8"
      },
      "execution_count": 82,
      "outputs": [
        {
          "output_type": "stream",
          "name": "stdout",
          "text": [
            "MSE:1.593, RMSE:1.262\n"
          ]
        }
      ]
    },
    {
      "cell_type": "code",
      "source": [
        "y_preds=xgb_reg.predict(test1)\n",
        "preds=np.expm1(y_preds)\n",
        "submission['box_off_num']=preds\n",
        "submission.to_csv('/content/drive/MyDrive/ESAA/YB 1조/영화 프로젝트2/영화 관객수/submission.csv', index=False)\n",
        "     "
      ],
      "metadata": {
        "id": "GvPKmaPp5Ay1",
        "colab": {
          "base_uri": "https://localhost:8080/",
          "height": 259
        },
        "outputId": "4e579fc8-1375-4873-9e94-38d9a0f9edd5"
      },
      "execution_count": 83,
      "outputs": [
        {
          "output_type": "error",
          "ename": "NameError",
          "evalue": "ignored",
          "traceback": [
            "\u001b[0;31m---------------------------------------------------------------------------\u001b[0m",
            "\u001b[0;31mNameError\u001b[0m                                 Traceback (most recent call last)",
            "\u001b[0;32m<ipython-input-83-9190c43b7b63>\u001b[0m in \u001b[0;36m<module>\u001b[0;34m\u001b[0m\n\u001b[0;32m----> 1\u001b[0;31m \u001b[0my_preds\u001b[0m\u001b[0;34m=\u001b[0m\u001b[0mxgb_reg\u001b[0m\u001b[0;34m.\u001b[0m\u001b[0mpredict\u001b[0m\u001b[0;34m(\u001b[0m\u001b[0mtest1\u001b[0m\u001b[0;34m)\u001b[0m\u001b[0;34m\u001b[0m\u001b[0;34m\u001b[0m\u001b[0m\n\u001b[0m\u001b[1;32m      2\u001b[0m \u001b[0mpreds\u001b[0m\u001b[0;34m=\u001b[0m\u001b[0mnp\u001b[0m\u001b[0;34m.\u001b[0m\u001b[0mexpm1\u001b[0m\u001b[0;34m(\u001b[0m\u001b[0my_preds\u001b[0m\u001b[0;34m)\u001b[0m\u001b[0;34m\u001b[0m\u001b[0;34m\u001b[0m\u001b[0m\n\u001b[1;32m      3\u001b[0m \u001b[0msubmission\u001b[0m\u001b[0;34m[\u001b[0m\u001b[0;34m'box_off_num'\u001b[0m\u001b[0;34m]\u001b[0m\u001b[0;34m=\u001b[0m\u001b[0mpreds\u001b[0m\u001b[0;34m\u001b[0m\u001b[0;34m\u001b[0m\u001b[0m\n\u001b[1;32m      4\u001b[0m \u001b[0msubmission\u001b[0m\u001b[0;34m.\u001b[0m\u001b[0mto_csv\u001b[0m\u001b[0;34m(\u001b[0m\u001b[0;34m'/content/drive/MyDrive/ESAA/YB 1조/영화 프로젝트2/영화 관객수/submission.csv'\u001b[0m\u001b[0;34m,\u001b[0m \u001b[0mindex\u001b[0m\u001b[0;34m=\u001b[0m\u001b[0;32mFalse\u001b[0m\u001b[0;34m)\u001b[0m\u001b[0;34m\u001b[0m\u001b[0;34m\u001b[0m\u001b[0m\n\u001b[1;32m      5\u001b[0m \u001b[0;34m\u001b[0m\u001b[0m\n",
            "\u001b[0;31mNameError\u001b[0m: name 'test1' is not defined"
          ]
        }
      ]
    },
    {
      "cell_type": "code",
      "source": [
        "y_preds=xgb_model.predict(test1)\n",
        "preds=np.expm1(y_preds)\n",
        "submission['box_off_num']=preds\n",
        "submission.to_csv('/content/drive/MyDrive/ESAA/YB 1조/영화 프로젝트2/영화 관객수/submission2.csv', index=False)\n",
        "     \n"
      ],
      "metadata": {
        "id": "YCN3EoGV5Ct9"
      },
      "execution_count": null,
      "outputs": []
    },
    {
      "cell_type": "code",
      "source": [
        "import matplotlib.pyplot as plt\n",
        "import seaborn as sns\n",
        "%matplotlib inline\n",
        "\n",
        "xgb_importances_values=xgb_reg.feature_importances_ #피처 중요도\n",
        "xgb_importances=pd.Series(xgb_importances_values, index=X_train.columns)\n",
        "xgb_top=xgb_importances.sort_values(ascending=False)\n",
        "\n",
        "plt.figure(figsize=(12,14))\n",
        "plt.title('Feature importances')\n",
        "sns.barplot(x=xgb_top, y=xgb_top.index)\n",
        "plt.show()"
      ],
      "metadata": {
        "id": "IYDM8lCv5Duo"
      },
      "execution_count": null,
      "outputs": []
    },
    {
      "cell_type": "markdown",
      "source": [
        "## 4) GBM\n"
      ],
      "metadata": {
        "id": "SJSbIFI-IBTL"
      }
    },
    {
      "cell_type": "code",
      "source": [
        "from sklearn.ensemble import GradientBoostingRegressor"
      ],
      "metadata": {
        "id": "w_xX_16sI0BZ"
      },
      "execution_count": null,
      "outputs": []
    },
    {
      "cell_type": "code",
      "source": [
        "# 성능 평가 함수 정의\n",
        "\n",
        "from sklearn.metrics import mean_squared_error, mean_absolute_error\n",
        "\n",
        "# 사이킷런의 mean_squared_error()를 이용해 RMSE 계산\n",
        "def rmse(y, pred) : \n",
        "  mse = mean_squared_error(y, pred)\n",
        "  rmse = np.sqrt(mean_squared_error(y, pred))\n",
        "  print('MSE:{0:.3f}, RMSE:{1:.3f}'.format(mse, rmse))"
      ],
      "metadata": {
        "id": "Wrx91RAbMlIM"
      },
      "execution_count": null,
      "outputs": []
    },
    {
      "cell_type": "code",
      "source": [
        "# 하이퍼 파라미터 조정전 \n",
        "\n",
        "gbr = GradientBoostingRegressor(random_state=156)\n",
        "gbr.fit(X_train, y_train)\n",
        "gbr_pred = gbr.predict(X_tr_test)\n",
        "\n",
        "rmse(y_tr_test, gbr_pred)"
      ],
      "metadata": {
        "id": "DhYr9H3dOLvO"
      },
      "execution_count": null,
      "outputs": []
    },
    {
      "cell_type": "code",
      "source": [
        "# 하이퍼 파라미터 조정전 feature_importance\n",
        " \n",
        "import matplotlib.pyplot as plt\n",
        "import seaborn as sns\n",
        "%matplotlib inline\n",
        "\n",
        "gbr_importances_values=gbr.feature_importances_ #피처 중요도\n",
        "gbr_importances=pd.Series(gbr_importances_values, index=X_train.columns)\n",
        "gbr_top=gbr_importances.sort_values(ascending=False)\n",
        "\n",
        "plt.figure(figsize=(12,14))\n",
        "plt.title('Feature importances')\n",
        "sns.barplot(x=gbr_top, y=gbr_top.index)\n",
        "plt.show()"
      ],
      "metadata": {
        "id": "WORu0M-KGlJ2"
      },
      "execution_count": null,
      "outputs": []
    },
    {
      "cell_type": "code",
      "source": [
        "# 하이퍼 파라미터 조정 후\n",
        "\n",
        "gbr_params = {\n",
        "    'learning_rate' : [0.15,0.1,0.05,0.01],\n",
        "    'n_estimators' : [250,500,750],\n",
        "    'max_depth' : [2,3,4,5]\n",
        "    #'min_samples_split' : [0.3, 0.6, 0.9],\n",
        "    #'min_samples_leaf' : [0.2, 0.4, 0.5]\n",
        "}\n",
        "\n",
        "gbr_grid = GridSearchCV(gbr, param_grid = gbr_params, cv=3, verbose=1)\n",
        "gbr_grid.fit(X_train, y_train)\n",
        "\n",
        "print('GridSearchCV 최적 estimator:', gbr_grid.best_estimator_)\n",
        "print('GridSearchCV 최적 파라미터:', gbr_grid.best_params_)"
      ],
      "metadata": {
        "id": "0mlDTe5YJQhu"
      },
      "execution_count": null,
      "outputs": []
    },
    {
      "cell_type": "code",
      "source": [
        "# 최적파라미터로 학습/예측/평가\n",
        "\n",
        "gbr_best = GradientBoostingRegressor(random_state=156, learning_rate=0.05, max_depth=2, n_estimators=500)\n",
        "gbr_best.fit(X_train, y_train)\n",
        "gbr_best_pred = gbr_best.predict(X_tr_test)\n",
        "\n",
        "rmse(y_tr_test, gbr_best_pred)"
      ],
      "metadata": {
        "id": "45kmgKuWEAag"
      },
      "execution_count": null,
      "outputs": []
    },
    {
      "cell_type": "code",
      "source": [
        "# 최적파라미터로 feature_importance\n",
        " \n",
        "import matplotlib.pyplot as plt\n",
        "import seaborn as sns\n",
        "%matplotlib inline\n",
        "\n",
        "gbr_best_importances_values=gbr_best.feature_importances_ #피처 중요도\n",
        "gbr_best_importances=pd.Series(gbr_best_importances_values, index=X_train.columns)\n",
        "gbr_best_top=gbr_best_importances.sort_values(ascending=False)\n",
        "\n",
        "plt.figure(figsize=(12,14))\n",
        "plt.title('Feature importances')\n",
        "sns.barplot(x=gbr_best_top, y=gbr_best_top.index)\n",
        "plt.show()"
      ],
      "metadata": {
        "id": "PFdEQQfsHFzs"
      },
      "execution_count": null,
      "outputs": []
    },
    {
      "cell_type": "code",
      "source": [
        "# submission 제출 파일 만들기\n",
        "## 1. grid 최적 전 \n",
        "y_pred = gbr.predict(test)\n",
        "y_pred_exp = np.expm1(y_pred)\n",
        "submission.iloc[:,1]=y_pred_exp\n",
        "submission.to_csv('/content/drive/MyDrive/ESAA/프로젝트/movie_subm_grid1.csv', index=False, encoding=\"utf-8-sig\")\n",
        "\n",
        "## 2. grid 최적 후\n",
        "y_best_pred = gbr_best.predict(test)\n",
        "y_best_pred_exp = np.expm1(y_best_pred)\n",
        "submission.iloc[:,1]=y_best_pred_exp\n",
        "submission.to_csv('/content/drive/MyDrive/ESAA/프로젝트/movie_subm_best1.csv', index=False, encoding=\"utf-8-sig\")\n",
        "\n"
      ],
      "metadata": {
        "id": "FVB0Yv9pxGjy"
      },
      "execution_count": null,
      "outputs": []
    },
    {
      "cell_type": "code",
      "source": [
        "submission.head()"
      ],
      "metadata": {
        "id": "TwMvwl5J4-yu"
      },
      "execution_count": null,
      "outputs": []
    },
    {
      "cell_type": "markdown",
      "source": [
        "## 5) LightGBM"
      ],
      "metadata": {
        "id": "1fWf1CkuJ1pl"
      }
    },
    {
      "cell_type": "code",
      "source": [
        "# LightGBM의 파이썬 패키지인 lightgbm에서 LGBMRegressor 임포트\n",
        "from lightgbm import LGBMRegressor\n",
        "from sklearn.model_selection import train_test_split\n",
        "import warnings\n",
        "warnings.filterwarnings('ignore')"
      ],
      "metadata": {
        "id": "jscYFPYOJ4Fx"
      },
      "execution_count": null,
      "outputs": []
    },
    {
      "cell_type": "code",
      "source": [
        "# 성능 평가 함수\n",
        "from sklearn.metrics import mean_squared_error\n",
        "from sklearn.metrics import mean_absolute_error\n",
        "\n",
        "#log 값 변환 시 NAN등의 이슈로 log()가 아닌 log1p()를 이용해 RMSLE 계산\n",
        "def rmsle(y,pred):\n",
        "  log_y=np.log1p(y)\n",
        "  log_pred=np.log1p(pred)\n",
        "  squared_error=(log_y-log_pred)**2\n",
        "  rmsle=np.sqrt(np.mean(squared_error))\n",
        "  return rmsle\n",
        "\n",
        "#사이킷 런의 mean_sqaure_error()를 이용해 RMSE 계산\n",
        "def rmse(y,pred):\n",
        "  return np.sqrt(mean_squared_error(y,pred))\n",
        "\n",
        "#MSE,RMSE,RMSLE를 모두 계산\n",
        "def evaluate_regr(y,pred):\n",
        "  rmsle_val=rmsle(y,pred)\n",
        "  rmse_val=rmse(y,pred)\n",
        "  #MAE는 사이킷런의 mean_absolute_error()로 계산\n",
        "  mae_val=mean_absolute_error(y,pred)\n",
        "  print('RMSLE:{0:.3f},RMSE:{1:.3f},MAE:{2:.3f}'.format(rmsle_val,rmse_val,mae_val))"
      ],
      "metadata": {
        "id": "xh8EuV0NX3mD"
      },
      "execution_count": null,
      "outputs": []
    },
    {
      "cell_type": "code",
      "source": [
        "#lightgbm 하이퍼 파라미터 조정 전 \n",
        "lgbm_reg1 = LGBMRegressor(n_estimators=1000)\n",
        "\n",
        "evals = [(X_tr_test,y_tr_test)]\n",
        "lgbm_reg1.fit(X_train, y_train,\n",
        "                 early_stopping_rounds=100, eval_metric=\"logloss\",\n",
        "                 eval_set=evals, verbose=True)\n",
        "preds1 = lgbm_reg1.predict(X_tr_test)"
      ],
      "metadata": {
        "id": "QniDpjpsX4su"
      },
      "execution_count": null,
      "outputs": []
    },
    {
      "cell_type": "code",
      "source": [
        "#하이퍼 파라미터 조정 전 성능 평가결과\n",
        "evaluate_regr(y_tr_test,preds1)"
      ],
      "metadata": {
        "id": "kDhGItK0X6AM"
      },
      "execution_count": null,
      "outputs": []
    },
    {
      "cell_type": "code",
      "source": [
        "#grid search CV, 최적 파라미터 search\n",
        "from lightgbm import LGBMRegressor\n",
        "import lightgbm as lgb\n",
        "lgbm_reg2 = LGBMRegressor(n_estimators=1000)\n",
        "from sklearn.model_selection import GridSearchCV\n",
        "\n",
        "params = {\n",
        "    'num_leaves': [7, 14, 21, 28, 31, 50],\n",
        "    'learning_rate': [0.1, 0.03, 0.003],\n",
        "    'max_depth': [-1, 3, 5],\n",
        "    'n_estimators': [50, 100, 200, 500],\n",
        "}\n",
        "\n",
        "lgbm_grid = GridSearchCV(lgb.LGBMRegressor(random_state=156), params,scoring='r2',cv=5)\n",
        "lgbm_grid.fit(X_train, y_train)\n",
        "\n",
        "lgbm_reg2 = lgb.LGBMRegressor(random_state=156)\n",
        "lgbm_reg2.fit(X_train,y_train)\n",
        "\n",
        "print('GridSearchCV 최적 estimator:', lgbm_grid.best_estimator_)\n",
        "print('GridSearchCV 최적 파라미터:', lgbm_grid.best_params_)"
      ],
      "metadata": {
        "id": "NUNJPCxaX8Gd"
      },
      "execution_count": null,
      "outputs": []
    },
    {
      "cell_type": "code",
      "source": [
        "# 최적파라미터로 학습/예측/평가\n",
        "lgbm_reg2 =  LGBMRegressor(n_estimators=1000, num_leaves=14 ,max_depth=-1,learning_rate=0.03)\n",
        "\n",
        "evals = [(X_tr_test, y_tr_test)]\n",
        "lgbm_reg2.fit(X_train, y_train, early_stopping_rounds=30, eval_metric=\"logloss\", eval_set=evals, verbose=True)\n",
        "\n",
        "preds2 = lgbm_reg2.predict(X_tr_test)"
      ],
      "metadata": {
        "id": "ZpZMYOA3X903"
      },
      "execution_count": null,
      "outputs": []
    },
    {
      "cell_type": "code",
      "source": [
        "#하이퍼 파라미터 성능 평가 결과\n",
        "evaluate_regr(y_tr_test,preds2)\n",
        "#하이퍼 파라미터 전보다 더 안좋게 나옴."
      ],
      "metadata": {
        "id": "Dw4Zi2zBYA3k"
      },
      "execution_count": null,
      "outputs": []
    },
    {
      "cell_type": "code",
      "source": [
        "#피처 중요도\n",
        "from lightgbm import plot_importance\n",
        "import matplotlib.pyplot as plt\n",
        "%matplotlib inline\n",
        "\n",
        "fig,ax=plt.subplots(figsize=(10,12))\n",
        "plot_importance(lgbm_reg1,ax=ax)"
      ],
      "metadata": {
        "id": "HreR_s71YBoE"
      },
      "execution_count": null,
      "outputs": []
    },
    {
      "cell_type": "code",
      "source": [
        "# submission 제출 파일 만들기\n",
        "## 1. grid 최적 전 \n",
        "y_pred = lgbm_reg1.predict(test)\n",
        "y_pred_exp = np.expm1(y_pred)\n",
        "submission.iloc[:,1]=y_pred_exp\n",
        "submission.to_csv('/content/submission1.csv', index=False, encoding=\"utf-8-sig\")\n",
        "\n",
        "## 2. grid 최적 후\n",
        "y_best_pred = lgbm_reg2.predict(test)\n",
        "y_best_pred_exp = np.expm1(y_best_pred)\n",
        "submission.iloc[:,1]=y_best_pred_exp\n",
        "submission.to_csv('/content/submission2.csv', index=False, encoding=\"utf-8-sig\")"
      ],
      "metadata": {
        "id": "5kF63LXaYFcn"
      },
      "execution_count": null,
      "outputs": []
    },
    {
      "cell_type": "markdown",
      "source": [
        "# 04 추가 가공"
      ],
      "metadata": {
        "id": "2IDK2nEgIBvJ"
      }
    },
    {
      "cell_type": "markdown",
      "source": [
        "## 1) 이상치 제거"
      ],
      "metadata": {
        "id": "-mbcJ7hQIBz7"
      }
    },
    {
      "cell_type": "markdown",
      "source": [
        "### A. dist_rank"
      ],
      "metadata": {
        "id": "C3uZHYKdK12i"
      }
    },
    {
      "cell_type": "code",
      "source": [
        "#dist_rank와 box_off_num의 산점도\n",
        "fig, ax = plt.subplots(figsize=(6, 6))\n",
        "plt.scatter(x=train['dist_rank'], y=train['box_off_num'])\n",
        "plt.ylabel('box_off_num', fontsize=15)\n",
        "plt.xlabel('dist_rank', fontsize=15)\n",
        "plt.show()"
      ],
      "metadata": {
        "id": "rgWG3xxsWace"
      },
      "execution_count": null,
      "outputs": []
    },
    {
      "cell_type": "code",
      "source": [
        "outlier_dist1 = (train['dist_rank']<=40) & (train['box_off_num'] <= 3)\n",
        "outlier_dist1 #283,320,349,373 \n",
        "outlier_dist2 = (train['dist_rank']>=130) & (train['box_off_num'] <=6)\n",
        "outlier_dist2 #135,144,472,473\n",
        "outlier_index1=train[outlier_dist1].index\n",
        "outlier_index1\n",
        "outlier_index2=train[outlier_dist2].index\n",
        "outlier_index2\n",
        "outlier_index=outlier_index1.union(outlier_index2)\n",
        "outlier_index\n",
        "\n",
        "print('이상치 레코드 index :', outlier_index.values)\n",
        "print('이상치 삭제 전 train shape:', train.shape)\n",
        "\n",
        "#DF의 인덱스를 이용해 이상치 레코드 삭제\n",
        "train_out = train.drop(outlier_index, axis=0, inplace=False)\n",
        "print('이상치 삭제 후 train_out shape:', train_out.shape)"
      ],
      "metadata": {
        "id": "yOhFt3QlTHa7"
      },
      "execution_count": null,
      "outputs": []
    },
    {
      "cell_type": "code",
      "source": [
        "#이상치 제거 확인\n",
        "fig, ax = plt.subplots(figsize=(6, 6))\n",
        "plt.scatter(x=train_out['dist_rank'], y=train_out['box_off_num'])\n",
        "plt.ylabel('box_off_num', fontsize=15)\n",
        "plt.xlabel('dist_rank', fontsize=15)\n",
        "plt.show()"
      ],
      "metadata": {
        "id": "ySi0vL7zW35d"
      },
      "execution_count": null,
      "outputs": []
    },
    {
      "cell_type": "markdown",
      "source": [
        "### B. dr_mean"
      ],
      "metadata": {
        "id": "8sGZEF30K16R"
      }
    },
    {
      "cell_type": "markdown",
      "source": [
        "### C. num_staff"
      ],
      "metadata": {
        "id": "yPmVulhfK1-c"
      }
    },
    {
      "cell_type": "code",
      "source": [
        "plt.scatter(x=X_features['num_staff'], y=y_labels)\n",
        "plt.ylabel('box_off_num', fontsize=15)\n",
        "plt.xlabel('num_staff', fontsize=15)\n",
        "plt.show()"
      ],
      "metadata": {
        "colab": {
          "base_uri": "https://localhost:8080/",
          "height": 612
        },
        "id": "-jBW86HpgTTw",
        "outputId": "67fb89d7-b70d-4f9d-b6bb-f7b00edca5e7"
      },
      "execution_count": 97,
      "outputs": [
        {
          "output_type": "display_data",
          "data": {
            "text/plain": [
              "<Figure size 720x720 with 1 Axes>"
            ],
            "image/png": "[encoded data removed]"
          },
          "metadata": {
            "needs_background": "light"
          }
        }
      ]
    },
    {
      "cell_type": "code",
      "source": [
        "outlier_1 = (train['num_staff']<=2) & (train['box_off_num'] >= 14)\n",
        "outlier_1_idx=train[outlier_1].index\n",
        "outlier_1_idx"
      ],
      "metadata": {
        "colab": {
          "base_uri": "https://localhost:8080/"
        },
        "id": "VbOgo5E3r3IR",
        "outputId": "4445f84d-e813-4a44-c582-795beab52676"
      },
      "execution_count": 100,
      "outputs": [
        {
          "output_type": "execute_result",
          "data": {
            "text/plain": [
              "Int64Index([494], dtype='int64')"
            ]
          },
          "metadata": {},
          "execution_count": 100
        }
      ]
    },
    {
      "cell_type": "code",
      "source": [
        "outlier_2 = (train['num_staff']<=2) & (train['num_staff']>=1) & (train['box_off_num'] <= 2)\n",
        "outlier_2_idx=train[outlier_2].index\n",
        "outlier_2_idx"
      ],
      "metadata": {
        "colab": {
          "base_uri": "https://localhost:8080/"
        },
        "id": "dnM6k4zlsy7L",
        "outputId": "73dba880-a9ab-4d08-d149-0d83ad8d4e11"
      },
      "execution_count": 102,
      "outputs": [
        {
          "output_type": "execute_result",
          "data": {
            "text/plain": [
              "Int64Index([283], dtype='int64')"
            ]
          },
          "metadata": {},
          "execution_count": 102
        }
      ]
    },
    {
      "cell_type": "code",
      "source": [
        "outlier_index=outlier_1_idx.union(outlier_2_idx)\n",
        "outlier_index"
      ],
      "metadata": {
        "colab": {
          "base_uri": "https://localhost:8080/"
        },
        "id": "qlMl7o_wtcC6",
        "outputId": "7e81e751-92ea-4352-91e4-721321c83a16"
      },
      "execution_count": 103,
      "outputs": [
        {
          "output_type": "execute_result",
          "data": {
            "text/plain": [
              "Int64Index([283, 494], dtype='int64')"
            ]
          },
          "metadata": {},
          "execution_count": 103
        }
      ]
    },
    {
      "cell_type": "code",
      "source": [
        "#DF의 인덱스를 이용해 이상치 레코드 삭제\n",
        "train_out = train.drop(outlier_index, axis=0, inplace=False)\n",
        "print('이상치 삭제 후 train_out shape:', train_out.shape)"
      ],
      "metadata": {
        "colab": {
          "base_uri": "https://localhost:8080/"
        },
        "id": "nCbT_p6ftUp2",
        "outputId": "d6a25552-04cb-423c-e636-5abe23c7f2e9"
      },
      "execution_count": 104,
      "outputs": [
        {
          "output_type": "stream",
          "name": "stdout",
          "text": [
            "이상치 삭제 후 train_out shape: (598, 27)\n"
          ]
        }
      ]
    },
    {
      "cell_type": "code",
      "source": [
        "plt.scatter(x=train_out['num_staff'], y=train_out['box_off_num'])\n",
        "plt.ylabel('box_off_num', fontsize=15)\n",
        "plt.xlabel('num_staff', fontsize=15)\n",
        "plt.show()"
      ],
      "metadata": {
        "colab": {
          "base_uri": "https://localhost:8080/",
          "height": 612
        },
        "id": "Stjh1brvtiz4",
        "outputId": "1af9e6fc-a3ea-4b13-f293-f625d76c7f37"
      },
      "execution_count": 106,
      "outputs": [
        {
          "output_type": "display_data",
          "data": {
            "text/plain": [
              "<Figure size 720x720 with 1 Axes>"
            ],
            "image/png": "[encoded data removed]"
          },
          "metadata": {
            "needs_background": "light"
          }
        }
      ]
    },
    {
      "cell_type": "markdown",
      "source": [
        "### D. drp_rank2"
      ],
      "metadata": {
        "id": "-2PPm2ocK2Cv"
      }
    },
    {
      "cell_type": "markdown",
      "source": [
        "### E. time_log"
      ],
      "metadata": {
        "id": "K7ONZWenKg-H"
      }
    },
    {
      "cell_type": "code",
      "source": [
        "plt.scatter(x=X_features['time_log'], y=y_labels)\n",
        "plt.ylabel('box_off_num', fontsize=15)\n",
        "plt.xlabel('time_log', fontsize=15)\n",
        "plt.show()"
      ],
      "metadata": {
        "id": "FlJA29r5xc0t"
      },
      "execution_count": null,
      "outputs": []
    },
    {
      "cell_type": "code",
      "source": [
        "df1 = train[(train['time_log']<4.2)&(train['box_off_num']>7)][['time_log', 'box_off_num']]\n",
        "print(df1)\n",
        "plt.scatter(x=df1['time_log'], y=df1['box_off_num'])"
      ],
      "metadata": {
        "id": "PYvtl4cI-_u3"
      },
      "execution_count": null,
      "outputs": []
    },
    {
      "cell_type": "code",
      "source": [
        "#조건 생성.\n",
        "cond1=train['time_log']<4.15\n",
        "cond2=y_labels>7\n",
        "outlier_index=train[cond1&cond2].index\n",
        "\n",
        "print('이상치 레코드 index :', outlier_index.values)\n",
        "print('이상치 삭제 전 train shape:', train.shape)\n",
        "\n",
        "#DF의 인덱스를 이용해 이상치 레코드 삭제\n",
        "train_out = train.drop(outlier_index, axis=0, inplace=False)\n",
        "print('이상치 삭제 후 train_out shape:', train_out.shape)"
      ],
      "metadata": {
        "id": "JRRrX75H0a8z"
      },
      "execution_count": null,
      "outputs": []
    },
    {
      "cell_type": "markdown",
      "source": [
        "# **조건 생성 한꺼번에 해서 train_out 만들어야할듯**"
      ],
      "metadata": {
        "id": "to0AeTrZKmBx"
      }
    },
    {
      "cell_type": "markdown",
      "source": [],
      "metadata": {
        "id": "eHXVM5OHKmF4"
      }
    },
    {
      "cell_type": "markdown",
      "source": [
        "## 2) PCA"
      ],
      "metadata": {
        "id": "YELng1hPC82O"
      }
    },
    {
      "cell_type": "code",
      "source": [
        "# X_features 이상치 처리 후 취합"
      ],
      "metadata": {
        "id": "Yc2RLYkBsTxx"
      },
      "execution_count": null,
      "outputs": []
    },
    {
      "cell_type": "code",
      "source": [
        "import seaborn as sns\n",
        "import matplotlib.pyplot as plt\n",
        "%matplotlib inline\n",
        "\n",
        "corr = X_features.corr()\n",
        "plt.figure(figsize=(14,14))\n",
        "sns.heatmap(corr, annot=True, fmt='.1g')"
      ],
      "metadata": {
        "id": "V-m1FTX3sdo3"
      },
      "execution_count": null,
      "outputs": []
    },
    {
      "cell_type": "code",
      "source": [
        "train.shape"
      ],
      "metadata": {
        "id": "qmY5dDUFtTQF"
      },
      "execution_count": null,
      "outputs": []
    },
    {
      "cell_type": "markdown",
      "source": [
        "* 27개 이내에서 주성분 개수를 정해야"
      ],
      "metadata": {
        "id": "ElcZMZE39owH"
      }
    },
    {
      "cell_type": "markdown",
      "source": [
        "### * 주성분 개수 구하기"
      ],
      "metadata": {
        "id": "FqQkoHgU9ufU"
      }
    },
    {
      "cell_type": "code",
      "source": [
        "# 상관행렬 이용하기 위해 스케일링\n",
        "from sklearn.preprocessing import StandardScaler\n",
        "\n",
        "std_df = StandardScaler().fit_transform(X_features)\n",
        "std_df = pd.DataFrame(std_df, index = X_features.index, columns=X_features.columns)\n",
        "\n",
        "# 모든 독립변수개수만큼 주성분 개수 설정해서 분석\n",
        "from sklearn.decomposition import PCA \n",
        "\n",
        "pca = PCA(n_components=26)\n",
        "pca_array = pca.fit_transform(std_df)\n",
        "pca_df = pd.DataFrame(pca_array, index=std_df.index, columns=[f\"pca{num+1}\" for num in range(std_df.shape[1])])\n",
        "pca_df.head()ㅡ"
      ],
      "metadata": {
        "id": "B6k_xHvgxirl"
      },
      "execution_count": null,
      "outputs": []
    },
    {
      "cell_type": "code",
      "source": [
        "# 주성분 설명력과 기여율\n",
        "result = pd.DataFrame({'고윳값':pca.explained_variance_, \n",
        "                       '기여율':pca.explained_variance_ratio_},\n",
        "                      index=np.array([f\"pca{num+1}\" for num in range(std_df.shape[1])]))\n",
        "result['누적기여율'] = result['기여율'].cumsum()\n",
        "result"
      ],
      "metadata": {
        "id": "zYOo2nXtxiym"
      },
      "execution_count": null,
      "outputs": []
    },
    {
      "cell_type": "markdown",
      "source": [
        "* 주성분의 개수 정하는 기준 (OR)\n",
        "  1. 고윳값이 0.7이상인 주성분\n",
        "  2. 누적기여율이 0.8 이상이 넘어가지는 지점의 주성분\n",
        "  3. Scree Plot에서 완만해지는 지점\n",
        "\n",
        "* 고유값이 0.7 이상일 때 주성분 17개,    \n",
        "  누적기여율이 0.77->0.8 넘어갈때 주성분 14개이다. \n",
        "  공통범위인 14개를 최종 주성분의 개수로 정한다.\n",
        "\n",
        "# **이상치 처리 후 개수 바뀐다.**"
      ],
      "metadata": {
        "id": "H4x8shP68sEg"
      }
    },
    {
      "cell_type": "markdown",
      "source": [
        "### * PCA 처리하기"
      ],
      "metadata": {
        "id": "48pqBnQR9xub"
      }
    },
    {
      "cell_type": "code",
      "source": [
        "# 이제 PCA 변환\n",
        "from sklearn.decomposition import PCA\n",
        "\n",
        "pca=PCA(n_components=14) #PCA로 변환할 차원의 수를 의미.\n",
        "\n",
        "#fit과 transform 호출해 PCA 변환 데이터 반환\n",
        "pca.fit(std_df)\n",
        "movie_pca=pca.transform(std_df)\n",
        "print(movie_pca.shape)"
      ],
      "metadata": {
        "id": "kWUmOs7wxi3e"
      },
      "execution_count": null,
      "outputs": []
    },
    {
      "cell_type": "code",
      "source": [
        "# PCA 변환된 데이터의 칼럼 명을 지정.\n",
        "#pca_columns=['pca_1','pca_2','pca_3','pca_4','pca_5','pca_6','pca_7',\n",
        " #            'pca_8','pca_9','pca_10','pca_11','pca_12','pca_13','pca_14']\n",
        "pca_columns = ['pca_', str(i) for i in range(1,15)]\n",
        "X_features_pca=pd.DataFrame(movie_pca, columns=pca_columns)\n",
        "X_features_pca.head(3)"
      ],
      "metadata": {
        "id": "SNHb-gE_xi-Q"
      },
      "execution_count": null,
      "outputs": []
    },
    {
      "cell_type": "code",
      "source": [
        "# pca component 별로 원본 데이터의 변동성을 얼마나 잘 반영하고 있는지\n",
        "print(pca.explained_variance_ratio_)"
      ],
      "metadata": {
        "id": "pQGCXLYmxjDl"
      },
      "execution_count": null,
      "outputs": []
    },
    {
      "cell_type": "markdown",
      "source": [
        "* 총 합을 더한값이 변동성을 설명하는 비율"
      ],
      "metadata": {
        "id": "HjzyCisq_BTV"
      }
    },
    {
      "cell_type": "code",
      "source": [],
      "metadata": {
        "id": "V5_v-zIPKOsZ"
      },
      "execution_count": null,
      "outputs": []
    },
    {
      "cell_type": "code",
      "source": [],
      "metadata": {
        "id": "S2U5hQHy13OL"
      },
      "execution_count": null,
      "outputs": []
    },
    {
      "cell_type": "markdown",
      "source": [
        "# 05 추가 가공 후 회귀트리 모델 적합"
      ],
      "metadata": {
        "id": "3wJBfq8lKXvb"
      }
    },
    {
      "cell_type": "code",
      "source": [
        "X_features_out = train_out.drop(columns = 'box_off_num',axis=1)\n",
        "y_labels_out = train_out['box_off_num']\n",
        "X_train, X_tr_test, y_train, y_tr_test = train_test_split(X_features_out, y_labels_out, test_size=0.2, random_state=156)\n",
        "print(X_train.shape,X_tr_test.shape)"
      ],
      "metadata": {
        "id": "V4poBwDCBkdT"
      },
      "execution_count": null,
      "outputs": []
    },
    {
      "cell_type": "markdown",
      "source": [
        "## 1) 결정 트리"
      ],
      "metadata": {
        "id": "WTOIWsafKXvc"
      }
    },
    {
      "cell_type": "markdown",
      "source": [
        "## 2) 랜덤 포레스트"
      ],
      "metadata": {
        "id": "yYOayRCYKXvd"
      }
    },
    {
      "cell_type": "markdown",
      "source": [
        "## 3) XGBoost"
      ],
      "metadata": {
        "id": "k9OuYzDtKXvd"
      }
    },
    {
      "cell_type": "markdown",
      "source": [
        "## 4) GBM\n"
      ],
      "metadata": {
        "id": "xRDfmm03KXve"
      }
    },
    {
      "cell_type": "markdown",
      "source": [
        "## 5) LightGBM"
      ],
      "metadata": {
        "id": "NRGQJ7xjKXve"
      }
    },
    {
      "cell_type": "markdown",
      "source": [
        "# 06 소프트 보팅"
      ],
      "metadata": {
        "id": "sXgCgWIs0a_2"
      }
    },
    {
      "cell_type": "code",
      "source": [],
      "metadata": {
        "id": "bdpiz4TQ0bD_"
      },
      "execution_count": null,
      "outputs": []
    },
    {
      "cell_type": "code",
      "source": [],
      "metadata": {
        "id": "BlxE3ktn_SoE"
      },
      "execution_count": null,
      "outputs": []
    }
  ]
}